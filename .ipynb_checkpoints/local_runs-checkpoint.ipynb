{
 "cells": [
  {
   "cell_type": "code",
   "execution_count": 1,
   "id": "78ef9d58-03d5-4a6e-8501-a6387907112a",
   "metadata": {},
   "outputs": [],
   "source": [
    "# Dont insert any keys here"
   ]
  },
  {
   "cell_type": "code",
   "execution_count": 2,
   "id": "3598c349-12e8-492c-a096-2e5be53e7cde",
   "metadata": {},
   "outputs": [
    {
     "name": "stdout",
     "output_type": "stream",
     "text": [
      "Current working directory: /Users/jdieguez/Documents/master/TFM/code/TFM-SemFew\n",
      "Current working directory: /Users/jdieguez/Documents/master/TFM/code/TFM-SemFew/Model\n"
     ]
    },
    {
     "name": "stderr",
     "output_type": "stream",
     "text": [
      "/Users/jdieguez/anaconda3/envs/tfm2/lib/python3.9/site-packages/timm/models/layers/__init__.py:48: FutureWarning: Importing from timm.models.layers is deprecated, please import via timm.layers\n",
      "  warnings.warn(f\"Importing from {__name__} is deprecated, please import via timm.layers\", FutureWarning)\n",
      "/Users/jdieguez/anaconda3/envs/tfm2/lib/python3.9/site-packages/timm/models/registry.py:4: FutureWarning: Importing from timm.models.registry is deprecated, please import via timm.models\n",
      "  warnings.warn(f\"Importing from {__name__} is deprecated, please import via timm.models\", FutureWarning)\n"
     ]
    }
   ],
   "source": [
    "import os\n",
    "\n",
    "print(f\"Current working directory: {os.getcwd()}\")\n",
    "if not \"Model\" in os.getcwd():\n",
    "    os.chdir('./Model')\n",
    "print(f\"Current working directory: {os.getcwd()}\")\n",
    "\n",
    "from model.semantic import generate_semantics\n",
    "from compute_center import main as compute_center\n",
    "from method.train import train\n",
    "from method.test import test"
   ]
  },
  {
   "cell_type": "markdown",
   "id": "79e84955-4889-4a99-9af4-401b5a18be3a",
   "metadata": {
    "jp-MarkdownHeadingCollapsed": true
   },
   "source": [
    "# FC100 runs"
   ]
  },
  {
   "cell_type": "markdown",
   "id": "643a43c9-f891-4418-8dd1-2c9eacde5fb8",
   "metadata": {},
   "source": [
    "## Baseline"
   ]
  },
  {
   "cell_type": "code",
   "execution_count": 3,
   "id": "3e49f85f-ba9e-4d85-83cf-a85b0b7d6905",
   "metadata": {},
   "outputs": [],
   "source": [
    "config = {\n",
    "    # General\n",
    "    \"dataset\": 'FC100', #['MiniImageNet', 'TieredImageNet', 'FC100', 'CIFAR-FS']\n",
    "    \"backbone\": 'resnet', #['resnet', 'swin']\n",
    "    \"center\": 'mean', #['mean', 'cluster']\n",
    "    \"gpu\": 0,\n",
    "    \"project\": \"SemFew_recreate\",\n",
    "    \"run_name\": \"FC100_default\",\n",
    "    \n",
    "    # Databases\n",
    "    \"path_to_checkpoints\": \"/Users/jdieguez/Documents/master/TFM/code/checkpoints\",\n",
    "    \"path_to_cifarfs\": \"/Users/jdieguez/Documents/master/TFM/code/cifar-fs/\",\n",
    "    \"path_to_fc100\": '/Users/jdieguez/Documents/master/TFM/code/FC100/',\n",
    "    \"path_to_miniimagenet\": '/Users/jdieguez/Documents/master/TFM/code/miniimagenet',\n",
    "    \"path_to_tieredimagenet\": '/path/to/your/tiredimagenet',\n",
    "\n",
    "    # Semantics\n",
    "    \"llm\": \"default\",\n",
    "    \"semantics_from\": \"default\",\n",
    "    \"file\": \"None\", \n",
    "    \"key\": \"None\", \n",
    "    \"images_per_class\": 5,\n",
    "    \"verbose\": False,\n",
    "    \n",
    "    # TRAIN\n",
    "    \"max_epoch\": 50,\n",
    "    \"test_batch\": 600,\n",
    "    \"shot\": 1,\n",
    "    \"query\": 15,\n",
    "    \"test_way\": 5,\n",
    "    \"feat_size\": 640,\n",
    "    \"semantic_size\": 512,\n",
    "    \"batch_size\": 128,\n",
    "    \"num_workers\": 8,\n",
    "    \"drop\": 0.0,\n",
    "    \"lr\": 1e-4,\n",
    "    \"step_size\": 30,\n",
    "    \"mode\": 'clip', #['clip', 'bert']\n",
    "    \"text_type\":'gpt', #['gpt', 'name', 'definition'])\n",
    "\n",
    "    # TEST\n",
    "    'test-batch': 600,\n",
    "    'seed': 13\n",
    "}\n",
    "\n",
    "class dotdict(dict):\n",
    "    \"\"\"dot.notation access to dictionary attributes\"\"\"\n",
    "    __getattr__ = dict.get\n",
    "    __setattr__ = dict.__setitem__\n",
    "    __delattr__ = dict.__delitem__\n",
    "    \n",
    "args = dotdict(config)\n",
    "if args.backbone == 'resnet':\n",
    "    args.model_path = f\"{args.path_to_checkpoints}/ResNet-{args.dataset}.pth\"\n",
    "elif args.backbone == 'swin':\n",
    "    args.model_path = f\"{args.path_to_checkpoints}/Swin-Tiny-{args.dataset}.pth\""
   ]
  },
  {
   "cell_type": "code",
   "execution_count": 15,
   "id": "62547611-bafd-4d98-87df-b5c7c5db829e",
   "metadata": {},
   "outputs": [
    {
     "name": "stdout",
     "output_type": "stream",
     "text": [
      "Using device: mps\n",
      "96\n"
     ]
    },
    {
     "name": "stderr",
     "output_type": "stream",
     "text": [
      "100%|████████████████████████████████████████████████████████████████████████████████████████████████████████████████| 282/282 [00:37<00:00,  7.61it/s]\n"
     ]
    },
    {
     "name": "stdout",
     "output_type": "stream",
     "text": [
      "Finished train\n"
     ]
    }
   ],
   "source": [
    "centers = compute_center(args)"
   ]
  },
  {
   "cell_type": "code",
   "execution_count": null,
   "id": "e6154ef5-5c37-4692-ae38-144095d5b767",
   "metadata": {},
   "outputs": [
    {
     "name": "stderr",
     "output_type": "stream",
     "text": [
      "\u001b[34m\u001b[1mwandb\u001b[0m: \u001b[33mWARNING\u001b[0m Calling wandb.login() after wandb.init() has no effect.\n"
     ]
    },
    {
     "data": {
      "text/html": [
       "Finishing previous runs because reinit is set to 'default'."
      ],
      "text/plain": [
       "<IPython.core.display.HTML object>"
      ]
     },
     "metadata": {},
     "output_type": "display_data"
    },
    {
     "data": {
      "text/html": [],
      "text/plain": [
       "<IPython.core.display.HTML object>"
      ]
     },
     "metadata": {},
     "output_type": "display_data"
    },
    {
     "data": {
      "text/html": [
       " View run <strong style=\"color:#cdcd00\">FC100_default</strong> at: <a href='https://wandb.ai/joeldvd/SemFew_recreate/runs/lqf7zjhl' target=\"_blank\">https://wandb.ai/joeldvd/SemFew_recreate/runs/lqf7zjhl</a><br> View project at: <a href='https://wandb.ai/joeldvd/SemFew_recreate' target=\"_blank\">https://wandb.ai/joeldvd/SemFew_recreate</a><br>Synced 5 W&B file(s), 0 media file(s), 0 artifact file(s) and 0 other file(s)"
      ],
      "text/plain": [
       "<IPython.core.display.HTML object>"
      ]
     },
     "metadata": {},
     "output_type": "display_data"
    },
    {
     "data": {
      "text/html": [
       "Find logs at: <code>./wandb/run-20250613_175232-lqf7zjhl/logs</code>"
      ],
      "text/plain": [
       "<IPython.core.display.HTML object>"
      ]
     },
     "metadata": {},
     "output_type": "display_data"
    },
    {
     "data": {
      "text/html": [
       "Tracking run with wandb version 0.20.1"
      ],
      "text/plain": [
       "<IPython.core.display.HTML object>"
      ]
     },
     "metadata": {},
     "output_type": "display_data"
    },
    {
     "data": {
      "text/html": [
       "Run data is saved locally in <code>/Users/jdieguez/Documents/master/TFM/code/TFM-SemFew/Model/wandb/run-20250613_175726-xftinzoa</code>"
      ],
      "text/plain": [
       "<IPython.core.display.HTML object>"
      ]
     },
     "metadata": {},
     "output_type": "display_data"
    },
    {
     "data": {
      "text/html": [
       "Syncing run <strong><a href='https://wandb.ai/joeldvd/SemFew_recreate/runs/xftinzoa' target=\"_blank\">FC100_default</a></strong> to <a href='https://wandb.ai/joeldvd/SemFew_recreate' target=\"_blank\">Weights & Biases</a> (<a href='https://wandb.me/developer-guide' target=\"_blank\">docs</a>)<br>"
      ],
      "text/plain": [
       "<IPython.core.display.HTML object>"
      ]
     },
     "metadata": {},
     "output_type": "display_data"
    },
    {
     "data": {
      "text/html": [
       " View project at <a href='https://wandb.ai/joeldvd/SemFew_recreate' target=\"_blank\">https://wandb.ai/joeldvd/SemFew_recreate</a>"
      ],
      "text/plain": [
       "<IPython.core.display.HTML object>"
      ]
     },
     "metadata": {},
     "output_type": "display_data"
    },
    {
     "data": {
      "text/html": [
       " View run at <a href='https://wandb.ai/joeldvd/SemFew_recreate/runs/xftinzoa' target=\"_blank\">https://wandb.ai/joeldvd/SemFew_recreate/runs/xftinzoa</a>"
      ],
      "text/plain": [
       "<IPython.core.display.HTML object>"
      ]
     },
     "metadata": {},
     "output_type": "display_data"
    },
    {
     "name": "stderr",
     "output_type": "stream",
     "text": [
      "2025-06-13 17:57:31,679 - train.py[line:51] - INFO: {}\n",
      "2025-06-13 17:57:31,679 - train.py[line:51] - INFO: {}\n",
      "2025-06-13 17:57:31,679 - train.py[line:51] - INFO: {}\n"
     ]
    },
    {
     "name": "stdout",
     "output_type": "stream",
     "text": [
      "96\n"
     ]
    },
    {
     "name": "stderr",
     "output_type": "stream",
     "text": [
      "100%|████████████████████████████████████████████████████████████████████████████████████████████████████████████████| 282/282 [01:17<00:00,  3.63it/s]\n",
      "2025-06-13 17:58:52,798 - train.py[line:162] - INFO: [Epoch 0/50] [recon loss: 0.089005] \n",
      "2025-06-13 17:58:52,798 - train.py[line:162] - INFO: [Epoch 0/50] [recon loss: 0.089005] \n",
      "2025-06-13 17:58:52,798 - train.py[line:162] - INFO: [Epoch 0/50] [recon loss: 0.089005] \n",
      "100%|████████████████████████████████████████████████████████████████████████████████████████████████████████████████| 600/600 [02:07<00:00,  4.71it/s]\n",
      "2025-06-13 18:01:00,482 - train.py[line:226] - INFO: best epoch: 0\n",
      "2025-06-13 18:01:00,482 - train.py[line:226] - INFO: best epoch: 0\n",
      "2025-06-13 18:01:00,482 - train.py[line:226] - INFO: best epoch: 0\n",
      "2025-06-13 18:01:00,503 - train.py[line:231] - INFO: epoch: 0 |origin acc: 38.49+0.74% |complete acc: 38.78+0.75% |gap: 0.29/0.29 |k: 0.61\n",
      "2025-06-13 18:01:00,503 - train.py[line:231] - INFO: epoch: 0 |origin acc: 38.49+0.74% |complete acc: 38.78+0.75% |gap: 0.29/0.29 |k: 0.61\n",
      "2025-06-13 18:01:00,503 - train.py[line:231] - INFO: epoch: 0 |origin acc: 38.49+0.74% |complete acc: 38.78+0.75% |gap: 0.29/0.29 |k: 0.61\n",
      "2025-06-13 18:01:00,504 - train.py[line:235] - INFO: ACC |proto acc: 38.49+0.74% |gen acc: 36.78+0.70% |Max: 38.78\n",
      "2025-06-13 18:01:00,504 - train.py[line:235] - INFO: ACC |proto acc: 38.49+0.74% |gen acc: 36.78+0.70% |Max: 38.78\n",
      "2025-06-13 18:01:00,504 - train.py[line:235] - INFO: ACC |proto acc: 38.49+0.74% |gen acc: 36.78+0.70% |Max: 38.78\n"
     ]
    },
    {
     "name": "stdout",
     "output_type": "stream",
     "text": [
      "save 0\n"
     ]
    },
    {
     "name": "stderr",
     "output_type": "stream",
     "text": [
      "100%|████████████████████████████████████████████████████████████████████████████████████████████████████████████████| 282/282 [01:15<00:00,  3.73it/s]\n",
      "2025-06-13 18:02:16,196 - train.py[line:162] - INFO: [Epoch 1/50] [recon loss: 0.067368] \n",
      "2025-06-13 18:02:16,196 - train.py[line:162] - INFO: [Epoch 1/50] [recon loss: 0.067368] \n",
      "2025-06-13 18:02:16,196 - train.py[line:162] - INFO: [Epoch 1/50] [recon loss: 0.067368] \n",
      "100%|████████████████████████████████████████████████████████████████████████████████████████████████████████████████| 600/600 [02:07<00:00,  4.71it/s]\n",
      "2025-06-13 18:04:24,042 - train.py[line:226] - INFO: best epoch: 1\n",
      "2025-06-13 18:04:24,042 - train.py[line:226] - INFO: best epoch: 1\n",
      "2025-06-13 18:04:24,042 - train.py[line:226] - INFO: best epoch: 1\n",
      "2025-06-13 18:04:24,051 - train.py[line:231] - INFO: epoch: 1 |origin acc: 39.18+0.73% |complete acc: 40.49+0.72% |gap: 1.31/1.31 |k: 0.24\n",
      "2025-06-13 18:04:24,051 - train.py[line:231] - INFO: epoch: 1 |origin acc: 39.18+0.73% |complete acc: 40.49+0.72% |gap: 1.31/1.31 |k: 0.24\n",
      "2025-06-13 18:04:24,051 - train.py[line:231] - INFO: epoch: 1 |origin acc: 39.18+0.73% |complete acc: 40.49+0.72% |gap: 1.31/1.31 |k: 0.24\n",
      "2025-06-13 18:04:24,056 - train.py[line:235] - INFO: ACC |proto acc: 39.18+0.73% |gen acc: 38.33+0.68% |Max: 40.49\n",
      "2025-06-13 18:04:24,056 - train.py[line:235] - INFO: ACC |proto acc: 39.18+0.73% |gen acc: 38.33+0.68% |Max: 40.49\n",
      "2025-06-13 18:04:24,056 - train.py[line:235] - INFO: ACC |proto acc: 39.18+0.73% |gen acc: 38.33+0.68% |Max: 40.49\n"
     ]
    },
    {
     "name": "stdout",
     "output_type": "stream",
     "text": [
      "save 1\n"
     ]
    },
    {
     "name": "stderr",
     "output_type": "stream",
     "text": [
      "100%|████████████████████████████████████████████████████████████████████████████████████████████████████████████████| 282/282 [01:14<00:00,  3.78it/s]\n",
      "2025-06-13 18:05:38,770 - train.py[line:162] - INFO: [Epoch 2/50] [recon loss: 0.051773] \n",
      "2025-06-13 18:05:38,770 - train.py[line:162] - INFO: [Epoch 2/50] [recon loss: 0.051773] \n",
      "2025-06-13 18:05:38,770 - train.py[line:162] - INFO: [Epoch 2/50] [recon loss: 0.051773] \n",
      "100%|████████████████████████████████████████████████████████████████████████████████████████████████████████████████| 600/600 [02:08<00:00,  4.67it/s]\n",
      "2025-06-13 18:07:47,624 - train.py[line:226] - INFO: best epoch: 2\n",
      "2025-06-13 18:07:47,624 - train.py[line:226] - INFO: best epoch: 2\n",
      "2025-06-13 18:07:47,624 - train.py[line:226] - INFO: best epoch: 2\n",
      "2025-06-13 18:07:47,635 - train.py[line:231] - INFO: epoch: 2 |origin acc: 38.74+0.70% |complete acc: 41.91+0.71% |gap: 3.16/3.16 |k: 0.19\n",
      "2025-06-13 18:07:47,635 - train.py[line:231] - INFO: epoch: 2 |origin acc: 38.74+0.70% |complete acc: 41.91+0.71% |gap: 3.16/3.16 |k: 0.19\n",
      "2025-06-13 18:07:47,635 - train.py[line:231] - INFO: epoch: 2 |origin acc: 38.74+0.70% |complete acc: 41.91+0.71% |gap: 3.16/3.16 |k: 0.19\n",
      "2025-06-13 18:07:47,640 - train.py[line:235] - INFO: ACC |proto acc: 38.74+0.70% |gen acc: 39.66+0.68% |Max: 41.91\n",
      "2025-06-13 18:07:47,640 - train.py[line:235] - INFO: ACC |proto acc: 38.74+0.70% |gen acc: 39.66+0.68% |Max: 41.91\n",
      "2025-06-13 18:07:47,640 - train.py[line:235] - INFO: ACC |proto acc: 38.74+0.70% |gen acc: 39.66+0.68% |Max: 41.91\n"
     ]
    },
    {
     "name": "stdout",
     "output_type": "stream",
     "text": [
      "save 2\n"
     ]
    },
    {
     "name": "stderr",
     "output_type": "stream",
     "text": [
      "100%|████████████████████████████████████████████████████████████████████████████████████████████████████████████████| 282/282 [01:14<00:00,  3.80it/s]\n",
      "2025-06-13 18:09:01,820 - train.py[line:162] - INFO: [Epoch 3/50] [recon loss: 0.042437] \n",
      "2025-06-13 18:09:01,820 - train.py[line:162] - INFO: [Epoch 3/50] [recon loss: 0.042437] \n",
      "2025-06-13 18:09:01,820 - train.py[line:162] - INFO: [Epoch 3/50] [recon loss: 0.042437] \n",
      "100%|████████████████████████████████████████████████████████████████████████████████████████████████████████████████| 600/600 [02:07<00:00,  4.71it/s]\n",
      "2025-06-13 18:11:09,760 - train.py[line:226] - INFO: best epoch: 3\n",
      "2025-06-13 18:11:09,760 - train.py[line:226] - INFO: best epoch: 3\n",
      "2025-06-13 18:11:09,760 - train.py[line:226] - INFO: best epoch: 3\n",
      "2025-06-13 18:11:09,784 - train.py[line:231] - INFO: epoch: 3 |origin acc: 38.40+0.68% |complete acc: 42.67+0.68% |gap: 4.27/4.27 |k: 0.16\n",
      "2025-06-13 18:11:09,784 - train.py[line:231] - INFO: epoch: 3 |origin acc: 38.40+0.68% |complete acc: 42.67+0.68% |gap: 4.27/4.27 |k: 0.16\n",
      "2025-06-13 18:11:09,784 - train.py[line:231] - INFO: epoch: 3 |origin acc: 38.40+0.68% |complete acc: 42.67+0.68% |gap: 4.27/4.27 |k: 0.16\n",
      "2025-06-13 18:11:09,788 - train.py[line:235] - INFO: ACC |proto acc: 38.40+0.68% |gen acc: 39.89+0.65% |Max: 42.67\n",
      "2025-06-13 18:11:09,788 - train.py[line:235] - INFO: ACC |proto acc: 38.40+0.68% |gen acc: 39.89+0.65% |Max: 42.67\n",
      "2025-06-13 18:11:09,788 - train.py[line:235] - INFO: ACC |proto acc: 38.40+0.68% |gen acc: 39.89+0.65% |Max: 42.67\n"
     ]
    },
    {
     "name": "stdout",
     "output_type": "stream",
     "text": [
      "save 3\n"
     ]
    },
    {
     "name": "stderr",
     "output_type": "stream",
     "text": [
      "100%|████████████████████████████████████████████████████████████████████████████████████████████████████████████████| 282/282 [01:19<00:00,  3.55it/s]\n",
      "2025-06-13 18:12:29,351 - train.py[line:162] - INFO: [Epoch 4/50] [recon loss: 0.032078] \n",
      "2025-06-13 18:12:29,351 - train.py[line:162] - INFO: [Epoch 4/50] [recon loss: 0.032078] \n",
      "2025-06-13 18:12:29,351 - train.py[line:162] - INFO: [Epoch 4/50] [recon loss: 0.032078] \n",
      "100%|████████████████████████████████████████████████████████████████████████████████████████████████████████████████| 600/600 [02:32<00:00,  3.92it/s]\n",
      "2025-06-13 18:15:02,810 - train.py[line:226] - INFO: best epoch: 4\n",
      "2025-06-13 18:15:02,810 - train.py[line:226] - INFO: best epoch: 4\n",
      "2025-06-13 18:15:02,810 - train.py[line:226] - INFO: best epoch: 4\n",
      "2025-06-13 18:15:02,821 - train.py[line:231] - INFO: epoch: 4 |origin acc: 39.20+0.74% |complete acc: 43.83+0.75% |gap: 4.63/4.63 |k: 0.17\n",
      "2025-06-13 18:15:02,821 - train.py[line:231] - INFO: epoch: 4 |origin acc: 39.20+0.74% |complete acc: 43.83+0.75% |gap: 4.63/4.63 |k: 0.17\n",
      "2025-06-13 18:15:02,821 - train.py[line:231] - INFO: epoch: 4 |origin acc: 39.20+0.74% |complete acc: 43.83+0.75% |gap: 4.63/4.63 |k: 0.17\n",
      "2025-06-13 18:15:02,828 - train.py[line:235] - INFO: ACC |proto acc: 39.20+0.74% |gen acc: 39.95+0.69% |Max: 43.83\n",
      "2025-06-13 18:15:02,828 - train.py[line:235] - INFO: ACC |proto acc: 39.20+0.74% |gen acc: 39.95+0.69% |Max: 43.83\n",
      "2025-06-13 18:15:02,828 - train.py[line:235] - INFO: ACC |proto acc: 39.20+0.74% |gen acc: 39.95+0.69% |Max: 43.83\n"
     ]
    },
    {
     "name": "stdout",
     "output_type": "stream",
     "text": [
      "save 4\n"
     ]
    },
    {
     "name": "stderr",
     "output_type": "stream",
     "text": [
      "100%|████████████████████████████████████████████████████████████████████████████████████████████████████████████████| 282/282 [01:32<00:00,  3.06it/s]\n",
      "2025-06-13 18:16:35,026 - train.py[line:162] - INFO: [Epoch 5/50] [recon loss: 0.027451] \n",
      "2025-06-13 18:16:35,026 - train.py[line:162] - INFO: [Epoch 5/50] [recon loss: 0.027451] \n",
      "2025-06-13 18:16:35,026 - train.py[line:162] - INFO: [Epoch 5/50] [recon loss: 0.027451] \n",
      "100%|████████████████████████████████████████████████████████████████████████████████████████████████████████████████| 600/600 [02:09<00:00,  4.63it/s]\n",
      "2025-06-13 18:18:44,751 - train.py[line:231] - INFO: epoch: 5 |origin acc: 38.44+0.70% |complete acc: 43.78+0.72% |gap: 5.34/5.34 |k: 0.19\n",
      "2025-06-13 18:18:44,751 - train.py[line:231] - INFO: epoch: 5 |origin acc: 38.44+0.70% |complete acc: 43.78+0.72% |gap: 5.34/5.34 |k: 0.19\n",
      "2025-06-13 18:18:44,751 - train.py[line:231] - INFO: epoch: 5 |origin acc: 38.44+0.70% |complete acc: 43.78+0.72% |gap: 5.34/5.34 |k: 0.19\n",
      "2025-06-13 18:18:44,758 - train.py[line:235] - INFO: ACC |proto acc: 38.44+0.70% |gen acc: 39.21+0.66% |Max: 43.83\n",
      "2025-06-13 18:18:44,758 - train.py[line:235] - INFO: ACC |proto acc: 38.44+0.70% |gen acc: 39.21+0.66% |Max: 43.83\n",
      "2025-06-13 18:18:44,758 - train.py[line:235] - INFO: ACC |proto acc: 38.44+0.70% |gen acc: 39.21+0.66% |Max: 43.83\n",
      "100%|████████████████████████████████████████████████████████████████████████████████████████████████████████████████| 282/282 [01:34<00:00,  3.00it/s]\n",
      "2025-06-13 18:20:18,898 - train.py[line:162] - INFO: [Epoch 6/50] [recon loss: 0.019398] \n",
      "2025-06-13 18:20:18,898 - train.py[line:162] - INFO: [Epoch 6/50] [recon loss: 0.019398] \n",
      "2025-06-13 18:20:18,898 - train.py[line:162] - INFO: [Epoch 6/50] [recon loss: 0.019398] \n",
      "100%|████████████████████████████████████████████████████████████████████████████████████████████████████████████████| 600/600 [02:17<00:00,  4.37it/s]\n",
      "2025-06-13 18:22:36,880 - train.py[line:226] - INFO: best epoch: 6\n",
      "2025-06-13 18:22:36,880 - train.py[line:226] - INFO: best epoch: 6\n",
      "2025-06-13 18:22:36,880 - train.py[line:226] - INFO: best epoch: 6\n",
      "2025-06-13 18:22:36,893 - train.py[line:231] - INFO: epoch: 6 |origin acc: 38.43+0.71% |complete acc: 43.84+0.74% |gap: 5.42/5.42 |k: 0.22\n",
      "2025-06-13 18:22:36,893 - train.py[line:231] - INFO: epoch: 6 |origin acc: 38.43+0.71% |complete acc: 43.84+0.74% |gap: 5.42/5.42 |k: 0.22\n",
      "2025-06-13 18:22:36,893 - train.py[line:231] - INFO: epoch: 6 |origin acc: 38.43+0.71% |complete acc: 43.84+0.74% |gap: 5.42/5.42 |k: 0.22\n",
      "2025-06-13 18:22:36,898 - train.py[line:235] - INFO: ACC |proto acc: 38.43+0.71% |gen acc: 38.72+0.66% |Max: 43.84\n",
      "2025-06-13 18:22:36,898 - train.py[line:235] - INFO: ACC |proto acc: 38.43+0.71% |gen acc: 38.72+0.66% |Max: 43.84\n",
      "2025-06-13 18:22:36,898 - train.py[line:235] - INFO: ACC |proto acc: 38.43+0.71% |gen acc: 38.72+0.66% |Max: 43.84\n"
     ]
    },
    {
     "name": "stdout",
     "output_type": "stream",
     "text": [
      "save 6\n"
     ]
    },
    {
     "name": "stderr",
     "output_type": "stream",
     "text": [
      "100%|████████████████████████████████████████████████████████████████████████████████████████████████████████████████| 282/282 [01:47<00:00,  2.63it/s]\n",
      "2025-06-13 18:24:24,077 - train.py[line:162] - INFO: [Epoch 7/50] [recon loss: 0.017343] \n",
      "2025-06-13 18:24:24,077 - train.py[line:162] - INFO: [Epoch 7/50] [recon loss: 0.017343] \n",
      "2025-06-13 18:24:24,077 - train.py[line:162] - INFO: [Epoch 7/50] [recon loss: 0.017343] \n",
      "100%|████████████████████████████████████████████████████████████████████████████████████████████████████████████████| 600/600 [02:07<00:00,  4.70it/s]\n",
      "2025-06-13 18:26:32,451 - train.py[line:226] - INFO: best epoch: 7\n",
      "2025-06-13 18:26:32,451 - train.py[line:226] - INFO: best epoch: 7\n",
      "2025-06-13 18:26:32,451 - train.py[line:226] - INFO: best epoch: 7\n",
      "2025-06-13 18:26:32,461 - train.py[line:231] - INFO: epoch: 7 |origin acc: 38.33+0.69% |complete acc: 44.00+0.69% |gap: 5.67/5.67 |k: 0.21\n",
      "2025-06-13 18:26:32,461 - train.py[line:231] - INFO: epoch: 7 |origin acc: 38.33+0.69% |complete acc: 44.00+0.69% |gap: 5.67/5.67 |k: 0.21\n",
      "2025-06-13 18:26:32,461 - train.py[line:231] - INFO: epoch: 7 |origin acc: 38.33+0.69% |complete acc: 44.00+0.69% |gap: 5.67/5.67 |k: 0.21\n",
      "2025-06-13 18:26:32,467 - train.py[line:235] - INFO: ACC |proto acc: 38.33+0.69% |gen acc: 38.70+0.59% |Max: 44.00\n",
      "2025-06-13 18:26:32,467 - train.py[line:235] - INFO: ACC |proto acc: 38.33+0.69% |gen acc: 38.70+0.59% |Max: 44.00\n",
      "2025-06-13 18:26:32,467 - train.py[line:235] - INFO: ACC |proto acc: 38.33+0.69% |gen acc: 38.70+0.59% |Max: 44.00\n"
     ]
    },
    {
     "name": "stdout",
     "output_type": "stream",
     "text": [
      "save 7\n"
     ]
    },
    {
     "name": "stderr",
     "output_type": "stream",
     "text": [
      "100%|████████████████████████████████████████████████████████████████████████████████████████████████████████████████| 282/282 [01:44<00:00,  2.69it/s]\n",
      "2025-06-13 18:28:17,414 - train.py[line:162] - INFO: [Epoch 8/50] [recon loss: 0.015742] \n",
      "2025-06-13 18:28:17,414 - train.py[line:162] - INFO: [Epoch 8/50] [recon loss: 0.015742] \n",
      "2025-06-13 18:28:17,414 - train.py[line:162] - INFO: [Epoch 8/50] [recon loss: 0.015742] \n",
      "100%|████████████████████████████████████████████████████████████████████████████████████████████████████████████████| 600/600 [02:28<00:00,  4.05it/s]\n",
      "2025-06-13 18:30:46,247 - train.py[line:226] - INFO: best epoch: 8\n",
      "2025-06-13 18:30:46,247 - train.py[line:226] - INFO: best epoch: 8\n",
      "2025-06-13 18:30:46,247 - train.py[line:226] - INFO: best epoch: 8\n",
      "2025-06-13 18:30:46,258 - train.py[line:231] - INFO: epoch: 8 |origin acc: 38.46+0.73% |complete acc: 44.69+0.74% |gap: 6.23/6.23 |k: 0.21\n",
      "2025-06-13 18:30:46,258 - train.py[line:231] - INFO: epoch: 8 |origin acc: 38.46+0.73% |complete acc: 44.69+0.74% |gap: 6.23/6.23 |k: 0.21\n",
      "2025-06-13 18:30:46,258 - train.py[line:231] - INFO: epoch: 8 |origin acc: 38.46+0.73% |complete acc: 44.69+0.74% |gap: 6.23/6.23 |k: 0.21\n",
      "2025-06-13 18:30:46,264 - train.py[line:235] - INFO: ACC |proto acc: 38.46+0.73% |gen acc: 39.30+0.64% |Max: 44.69\n",
      "2025-06-13 18:30:46,264 - train.py[line:235] - INFO: ACC |proto acc: 38.46+0.73% |gen acc: 39.30+0.64% |Max: 44.69\n",
      "2025-06-13 18:30:46,264 - train.py[line:235] - INFO: ACC |proto acc: 38.46+0.73% |gen acc: 39.30+0.64% |Max: 44.69\n"
     ]
    },
    {
     "name": "stdout",
     "output_type": "stream",
     "text": [
      "save 8\n"
     ]
    },
    {
     "name": "stderr",
     "output_type": "stream",
     "text": [
      "100%|████████████████████████████████████████████████████████████████████████████████████████████████████████████████| 282/282 [01:38<00:00,  2.86it/s]\n",
      "2025-06-13 18:32:24,780 - train.py[line:162] - INFO: [Epoch 9/50] [recon loss: 0.013447] \n",
      "2025-06-13 18:32:24,780 - train.py[line:162] - INFO: [Epoch 9/50] [recon loss: 0.013447] \n",
      "2025-06-13 18:32:24,780 - train.py[line:162] - INFO: [Epoch 9/50] [recon loss: 0.013447] \n",
      "100%|████████████████████████████████████████████████████████████████████████████████████████████████████████████████| 600/600 [03:40<00:00,  2.73it/s]\n",
      "2025-06-13 18:36:06,856 - train.py[line:226] - INFO: best epoch: 9\n",
      "2025-06-13 18:36:06,856 - train.py[line:226] - INFO: best epoch: 9\n",
      "2025-06-13 18:36:06,856 - train.py[line:226] - INFO: best epoch: 9\n",
      "2025-06-13 18:36:06,886 - train.py[line:231] - INFO: epoch: 9 |origin acc: 39.34+0.77% |complete acc: 45.32+0.70% |gap: 6.23/5.98 |k: 0.2\n",
      "2025-06-13 18:36:06,886 - train.py[line:231] - INFO: epoch: 9 |origin acc: 39.34+0.77% |complete acc: 45.32+0.70% |gap: 6.23/5.98 |k: 0.2\n",
      "2025-06-13 18:36:06,886 - train.py[line:231] - INFO: epoch: 9 |origin acc: 39.34+0.77% |complete acc: 45.32+0.70% |gap: 6.23/5.98 |k: 0.2\n",
      "2025-06-13 18:36:06,898 - train.py[line:235] - INFO: ACC |proto acc: 39.34+0.77% |gen acc: 38.91+0.63% |Max: 45.32\n",
      "2025-06-13 18:36:06,898 - train.py[line:235] - INFO: ACC |proto acc: 39.34+0.77% |gen acc: 38.91+0.63% |Max: 45.32\n",
      "2025-06-13 18:36:06,898 - train.py[line:235] - INFO: ACC |proto acc: 39.34+0.77% |gen acc: 38.91+0.63% |Max: 45.32\n"
     ]
    },
    {
     "name": "stdout",
     "output_type": "stream",
     "text": [
      "save 9\n"
     ]
    },
    {
     "name": "stderr",
     "output_type": "stream",
     "text": [
      "100%|████████████████████████████████████████████████████████████████████████████████████████████████████████████████| 282/282 [02:21<00:00,  1.99it/s]\n",
      "2025-06-13 18:38:28,451 - train.py[line:162] - INFO: [Epoch 10/50] [recon loss: 0.012539] \n",
      "2025-06-13 18:38:28,451 - train.py[line:162] - INFO: [Epoch 10/50] [recon loss: 0.012539] \n",
      "2025-06-13 18:38:28,451 - train.py[line:162] - INFO: [Epoch 10/50] [recon loss: 0.012539] \n",
      "100%|████████████████████████████████████████████████████████████████████████████████████████████████████████████████| 600/600 [03:33<00:00,  2.82it/s]\n",
      "2025-06-13 18:42:01,590 - train.py[line:231] - INFO: epoch: 10 |origin acc: 38.72+0.72% |complete acc: 44.68+0.70% |gap: 6.23/5.95 |k: 0.2\n",
      "2025-06-13 18:42:01,590 - train.py[line:231] - INFO: epoch: 10 |origin acc: 38.72+0.72% |complete acc: 44.68+0.70% |gap: 6.23/5.95 |k: 0.2\n",
      "2025-06-13 18:42:01,590 - train.py[line:231] - INFO: epoch: 10 |origin acc: 38.72+0.72% |complete acc: 44.68+0.70% |gap: 6.23/5.95 |k: 0.2\n",
      "2025-06-13 18:42:01,603 - train.py[line:235] - INFO: ACC |proto acc: 38.72+0.72% |gen acc: 38.57+0.65% |Max: 45.32\n",
      "2025-06-13 18:42:01,603 - train.py[line:235] - INFO: ACC |proto acc: 38.72+0.72% |gen acc: 38.57+0.65% |Max: 45.32\n",
      "2025-06-13 18:42:01,603 - train.py[line:235] - INFO: ACC |proto acc: 38.72+0.72% |gen acc: 38.57+0.65% |Max: 45.32\n",
      "100%|████████████████████████████████████████████████████████████████████████████████████████████████████████████████| 282/282 [05:51<00:00,  1.25s/it]\n",
      "2025-06-13 18:47:53,021 - train.py[line:162] - INFO: [Epoch 11/50] [recon loss: 0.013250] \n",
      "2025-06-13 18:47:53,021 - train.py[line:162] - INFO: [Epoch 11/50] [recon loss: 0.013250] \n",
      "2025-06-13 18:47:53,021 - train.py[line:162] - INFO: [Epoch 11/50] [recon loss: 0.013250] \n",
      "100%|████████████████████████████████████████████████████████████████████████████████████████████████████████████████| 600/600 [21:46<00:00,  2.18s/it]\n",
      "2025-06-13 19:09:39,278 - train.py[line:231] - INFO: epoch: 11 |origin acc: 39.34+0.72% |complete acc: 44.79+0.75% |gap: 6.23/5.45 |k: 0.22\n",
      "2025-06-13 19:09:39,278 - train.py[line:231] - INFO: epoch: 11 |origin acc: 39.34+0.72% |complete acc: 44.79+0.75% |gap: 6.23/5.45 |k: 0.22\n",
      "2025-06-13 19:09:39,278 - train.py[line:231] - INFO: epoch: 11 |origin acc: 39.34+0.72% |complete acc: 44.79+0.75% |gap: 6.23/5.45 |k: 0.22\n",
      "2025-06-13 19:09:39,288 - train.py[line:235] - INFO: ACC |proto acc: 39.34+0.72% |gen acc: 38.22+0.69% |Max: 45.32\n",
      "2025-06-13 19:09:39,288 - train.py[line:235] - INFO: ACC |proto acc: 39.34+0.72% |gen acc: 38.22+0.69% |Max: 45.32\n",
      "2025-06-13 19:09:39,288 - train.py[line:235] - INFO: ACC |proto acc: 39.34+0.72% |gen acc: 38.22+0.69% |Max: 45.32\n",
      "100%|████████████████████████████████████████████████████████████████████████████████████████████████████████████████| 282/282 [17:30<00:00,  3.73s/it]\n",
      "2025-06-13 19:27:10,063 - train.py[line:162] - INFO: [Epoch 12/50] [recon loss: 0.009738] \n",
      "2025-06-13 19:27:10,063 - train.py[line:162] - INFO: [Epoch 12/50] [recon loss: 0.009738] \n",
      "2025-06-13 19:27:10,063 - train.py[line:162] - INFO: [Epoch 12/50] [recon loss: 0.009738] \n",
      "100%|████████████████████████████████████████████████████████████████████████████████████████████████████████████████| 600/600 [25:53<00:00,  2.59s/it]\n",
      "2025-06-13 19:53:03,208 - train.py[line:231] - INFO: epoch: 12 |origin acc: 38.62+0.71% |complete acc: 44.48+0.71% |gap: 6.23/5.86 |k: 0.23\n",
      "2025-06-13 19:53:03,208 - train.py[line:231] - INFO: epoch: 12 |origin acc: 38.62+0.71% |complete acc: 44.48+0.71% |gap: 6.23/5.86 |k: 0.23\n",
      "2025-06-13 19:53:03,208 - train.py[line:231] - INFO: epoch: 12 |origin acc: 38.62+0.71% |complete acc: 44.48+0.71% |gap: 6.23/5.86 |k: 0.23\n",
      "2025-06-13 19:53:03,216 - train.py[line:235] - INFO: ACC |proto acc: 38.62+0.71% |gen acc: 38.43+0.65% |Max: 45.32\n",
      "2025-06-13 19:53:03,216 - train.py[line:235] - INFO: ACC |proto acc: 38.62+0.71% |gen acc: 38.43+0.65% |Max: 45.32\n",
      "2025-06-13 19:53:03,216 - train.py[line:235] - INFO: ACC |proto acc: 38.62+0.71% |gen acc: 38.43+0.65% |Max: 45.32\n",
      "100%|████████████████████████████████████████████████████████████████████████████████████████████████████████████████| 282/282 [32:08<00:00,  6.84s/it]\n",
      "2025-06-13 20:25:11,414 - train.py[line:162] - INFO: [Epoch 13/50] [recon loss: 0.009297] \n",
      "2025-06-13 20:25:11,414 - train.py[line:162] - INFO: [Epoch 13/50] [recon loss: 0.009297] \n",
      "2025-06-13 20:25:11,414 - train.py[line:162] - INFO: [Epoch 13/50] [recon loss: 0.009297] \n",
      "100%|████████████████████████████████████████████████████████████████████████████████████████████████████████████████| 600/600 [02:12<00:00,  4.53it/s]\n",
      "2025-06-13 20:27:23,893 - train.py[line:231] - INFO: epoch: 13 |origin acc: 39.12+0.73% |complete acc: 44.39+0.73% |gap: 6.23/5.28 |k: 0.24\n",
      "2025-06-13 20:27:23,893 - train.py[line:231] - INFO: epoch: 13 |origin acc: 39.12+0.73% |complete acc: 44.39+0.73% |gap: 6.23/5.28 |k: 0.24\n",
      "2025-06-13 20:27:23,893 - train.py[line:231] - INFO: epoch: 13 |origin acc: 39.12+0.73% |complete acc: 44.39+0.73% |gap: 6.23/5.28 |k: 0.24\n",
      "2025-06-13 20:27:23,900 - train.py[line:235] - INFO: ACC |proto acc: 39.12+0.73% |gen acc: 37.32+0.67% |Max: 45.32\n",
      "2025-06-13 20:27:23,900 - train.py[line:235] - INFO: ACC |proto acc: 39.12+0.73% |gen acc: 37.32+0.67% |Max: 45.32\n",
      "2025-06-13 20:27:23,900 - train.py[line:235] - INFO: ACC |proto acc: 39.12+0.73% |gen acc: 37.32+0.67% |Max: 45.32\n",
      "100%|████████████████████████████████████████████████████████████████████████████████████████████████████████████████| 282/282 [01:34<00:00,  2.97it/s]\n",
      "2025-06-13 20:28:58,818 - train.py[line:162] - INFO: [Epoch 14/50] [recon loss: 0.010231] \n",
      "2025-06-13 20:28:58,818 - train.py[line:162] - INFO: [Epoch 14/50] [recon loss: 0.010231] \n",
      "2025-06-13 20:28:58,818 - train.py[line:162] - INFO: [Epoch 14/50] [recon loss: 0.010231] \n",
      "100%|████████████████████████████████████████████████████████████████████████████████████████████████████████████████| 600/600 [02:05<00:00,  4.80it/s]\n",
      "2025-06-13 20:31:03,947 - train.py[line:231] - INFO: epoch: 14 |origin acc: 39.12+0.76% |complete acc: 44.92+0.76% |gap: 6.23/5.80 |k: 0.24\n",
      "2025-06-13 20:31:03,947 - train.py[line:231] - INFO: epoch: 14 |origin acc: 39.12+0.76% |complete acc: 44.92+0.76% |gap: 6.23/5.80 |k: 0.24\n",
      "2025-06-13 20:31:03,947 - train.py[line:231] - INFO: epoch: 14 |origin acc: 39.12+0.76% |complete acc: 44.92+0.76% |gap: 6.23/5.80 |k: 0.24\n",
      "2025-06-13 20:31:03,957 - train.py[line:235] - INFO: ACC |proto acc: 39.12+0.76% |gen acc: 38.27+0.64% |Max: 45.32\n",
      "2025-06-13 20:31:03,957 - train.py[line:235] - INFO: ACC |proto acc: 39.12+0.76% |gen acc: 38.27+0.64% |Max: 45.32\n",
      "2025-06-13 20:31:03,957 - train.py[line:235] - INFO: ACC |proto acc: 39.12+0.76% |gen acc: 38.27+0.64% |Max: 45.32\n",
      "100%|████████████████████████████████████████████████████████████████████████████████████████████████████████████████| 282/282 [01:16<00:00,  3.70it/s]\n",
      "2025-06-13 20:32:20,267 - train.py[line:162] - INFO: [Epoch 15/50] [recon loss: 0.008677] \n",
      "2025-06-13 20:32:20,267 - train.py[line:162] - INFO: [Epoch 15/50] [recon loss: 0.008677] \n",
      "2025-06-13 20:32:20,267 - train.py[line:162] - INFO: [Epoch 15/50] [recon loss: 0.008677] \n",
      "100%|████████████████████████████████████████████████████████████████████████████████████████████████████████████████| 600/600 [02:01<00:00,  4.95it/s]\n",
      "2025-06-13 20:34:21,634 - train.py[line:231] - INFO: epoch: 15 |origin acc: 38.96+0.72% |complete acc: 44.78+0.74% |gap: 6.23/5.82 |k: 0.23\n",
      "2025-06-13 20:34:21,634 - train.py[line:231] - INFO: epoch: 15 |origin acc: 38.96+0.72% |complete acc: 44.78+0.74% |gap: 6.23/5.82 |k: 0.23\n",
      "2025-06-13 20:34:21,634 - train.py[line:231] - INFO: epoch: 15 |origin acc: 38.96+0.72% |complete acc: 44.78+0.74% |gap: 6.23/5.82 |k: 0.23\n",
      "2025-06-13 20:34:21,640 - train.py[line:235] - INFO: ACC |proto acc: 38.96+0.72% |gen acc: 37.72+0.65% |Max: 45.32\n",
      "2025-06-13 20:34:21,640 - train.py[line:235] - INFO: ACC |proto acc: 38.96+0.72% |gen acc: 37.72+0.65% |Max: 45.32\n",
      "2025-06-13 20:34:21,640 - train.py[line:235] - INFO: ACC |proto acc: 38.96+0.72% |gen acc: 37.72+0.65% |Max: 45.32\n",
      "100%|████████████████████████████████████████████████████████████████████████████████████████████████████████████████| 282/282 [01:13<00:00,  3.82it/s]\n",
      "2025-06-13 20:35:35,463 - train.py[line:162] - INFO: [Epoch 16/50] [recon loss: 0.008151] \n",
      "2025-06-13 20:35:35,463 - train.py[line:162] - INFO: [Epoch 16/50] [recon loss: 0.008151] \n",
      "2025-06-13 20:35:35,463 - train.py[line:162] - INFO: [Epoch 16/50] [recon loss: 0.008151] \n",
      "100%|████████████████████████████████████████████████████████████████████████████████████████████████████████████████| 600/600 [01:58<00:00,  5.04it/s]\n",
      "2025-06-13 20:37:34,496 - train.py[line:231] - INFO: epoch: 16 |origin acc: 39.48+0.72% |complete acc: 45.13+0.76% |gap: 6.23/5.65 |k: 0.25\n",
      "2025-06-13 20:37:34,496 - train.py[line:231] - INFO: epoch: 16 |origin acc: 39.48+0.72% |complete acc: 45.13+0.76% |gap: 6.23/5.65 |k: 0.25\n",
      "2025-06-13 20:37:34,496 - train.py[line:231] - INFO: epoch: 16 |origin acc: 39.48+0.72% |complete acc: 45.13+0.76% |gap: 6.23/5.65 |k: 0.25\n",
      "2025-06-13 20:37:34,504 - train.py[line:235] - INFO: ACC |proto acc: 39.48+0.72% |gen acc: 37.22+0.66% |Max: 45.32\n",
      "2025-06-13 20:37:34,504 - train.py[line:235] - INFO: ACC |proto acc: 39.48+0.72% |gen acc: 37.22+0.66% |Max: 45.32\n",
      "2025-06-13 20:37:34,504 - train.py[line:235] - INFO: ACC |proto acc: 39.48+0.72% |gen acc: 37.22+0.66% |Max: 45.32\n",
      "100%|████████████████████████████████████████████████████████████████████████████████████████████████████████████████| 282/282 [01:14<00:00,  3.80it/s]\n",
      "2025-06-13 20:38:48,691 - train.py[line:162] - INFO: [Epoch 17/50] [recon loss: 0.007817] \n",
      "2025-06-13 20:38:48,691 - train.py[line:162] - INFO: [Epoch 17/50] [recon loss: 0.007817] \n",
      "2025-06-13 20:38:48,691 - train.py[line:162] - INFO: [Epoch 17/50] [recon loss: 0.007817] \n",
      "100%|████████████████████████████████████████████████████████████████████████████████████████████████████████████████| 600/600 [02:01<00:00,  4.93it/s]\n",
      "2025-06-13 20:40:50,341 - train.py[line:231] - INFO: epoch: 17 |origin acc: 38.22+0.69% |complete acc: 44.28+0.72% |gap: 6.23/6.05 |k: 0.26\n",
      "2025-06-13 20:40:50,341 - train.py[line:231] - INFO: epoch: 17 |origin acc: 38.22+0.69% |complete acc: 44.28+0.72% |gap: 6.23/6.05 |k: 0.26\n",
      "2025-06-13 20:40:50,341 - train.py[line:231] - INFO: epoch: 17 |origin acc: 38.22+0.69% |complete acc: 44.28+0.72% |gap: 6.23/6.05 |k: 0.26\n",
      "2025-06-13 20:40:50,347 - train.py[line:235] - INFO: ACC |proto acc: 38.22+0.69% |gen acc: 37.53+0.64% |Max: 45.32\n",
      "2025-06-13 20:40:50,347 - train.py[line:235] - INFO: ACC |proto acc: 38.22+0.69% |gen acc: 37.53+0.64% |Max: 45.32\n",
      "2025-06-13 20:40:50,347 - train.py[line:235] - INFO: ACC |proto acc: 38.22+0.69% |gen acc: 37.53+0.64% |Max: 45.32\n",
      "100%|████████████████████████████████████████████████████████████████████████████████████████████████████████████████| 282/282 [01:16<00:00,  3.66it/s]\n",
      "2025-06-13 20:42:07,398 - train.py[line:162] - INFO: [Epoch 18/50] [recon loss: 0.007395] \n",
      "2025-06-13 20:42:07,398 - train.py[line:162] - INFO: [Epoch 18/50] [recon loss: 0.007395] \n",
      "2025-06-13 20:42:07,398 - train.py[line:162] - INFO: [Epoch 18/50] [recon loss: 0.007395] \n",
      "100%|████████████████████████████████████████████████████████████████████████████████████████████████████████████████| 600/600 [02:04<00:00,  4.84it/s]\n",
      "2025-06-13 20:44:11,534 - train.py[line:231] - INFO: epoch: 18 |origin acc: 38.99+0.77% |complete acc: 44.55+0.75% |gap: 6.23/5.56 |k: 0.24\n",
      "2025-06-13 20:44:11,534 - train.py[line:231] - INFO: epoch: 18 |origin acc: 38.99+0.77% |complete acc: 44.55+0.75% |gap: 6.23/5.56 |k: 0.24\n",
      "2025-06-13 20:44:11,534 - train.py[line:231] - INFO: epoch: 18 |origin acc: 38.99+0.77% |complete acc: 44.55+0.75% |gap: 6.23/5.56 |k: 0.24\n",
      "2025-06-13 20:44:11,541 - train.py[line:235] - INFO: ACC |proto acc: 38.99+0.77% |gen acc: 37.15+0.66% |Max: 45.32\n",
      "2025-06-13 20:44:11,541 - train.py[line:235] - INFO: ACC |proto acc: 38.99+0.77% |gen acc: 37.15+0.66% |Max: 45.32\n",
      "2025-06-13 20:44:11,541 - train.py[line:235] - INFO: ACC |proto acc: 38.99+0.77% |gen acc: 37.15+0.66% |Max: 45.32\n",
      "100%|████████████████████████████████████████████████████████████████████████████████████████████████████████████████| 282/282 [01:15<00:00,  3.74it/s]\n",
      "2025-06-13 20:45:26,988 - train.py[line:162] - INFO: [Epoch 19/50] [recon loss: 0.007353] \n",
      "2025-06-13 20:45:26,988 - train.py[line:162] - INFO: [Epoch 19/50] [recon loss: 0.007353] \n",
      "2025-06-13 20:45:26,988 - train.py[line:162] - INFO: [Epoch 19/50] [recon loss: 0.007353] \n",
      "100%|████████████████████████████████████████████████████████████████████████████████████████████████████████████████| 600/600 [02:30<00:00,  3.99it/s]\n",
      "2025-06-13 20:47:57,334 - train.py[line:231] - INFO: epoch: 19 |origin acc: 38.15+0.75% |complete acc: 44.40+0.78% |gap: 6.26/6.26 |k: 0.23\n",
      "2025-06-13 20:47:57,334 - train.py[line:231] - INFO: epoch: 19 |origin acc: 38.15+0.75% |complete acc: 44.40+0.78% |gap: 6.26/6.26 |k: 0.23\n",
      "2025-06-13 20:47:57,334 - train.py[line:231] - INFO: epoch: 19 |origin acc: 38.15+0.75% |complete acc: 44.40+0.78% |gap: 6.26/6.26 |k: 0.23\n",
      "2025-06-13 20:47:57,344 - train.py[line:235] - INFO: ACC |proto acc: 38.15+0.75% |gen acc: 37.60+0.65% |Max: 45.32\n",
      "2025-06-13 20:47:57,344 - train.py[line:235] - INFO: ACC |proto acc: 38.15+0.75% |gen acc: 37.60+0.65% |Max: 45.32\n",
      "2025-06-13 20:47:57,344 - train.py[line:235] - INFO: ACC |proto acc: 38.15+0.75% |gen acc: 37.60+0.65% |Max: 45.32\n",
      "100%|████████████████████████████████████████████████████████████████████████████████████████████████████████████████| 282/282 [01:53<00:00,  2.49it/s]\n",
      "2025-06-13 20:49:50,598 - train.py[line:162] - INFO: [Epoch 20/50] [recon loss: 0.007050] \n",
      "2025-06-13 20:49:50,598 - train.py[line:162] - INFO: [Epoch 20/50] [recon loss: 0.007050] \n",
      "2025-06-13 20:49:50,598 - train.py[line:162] - INFO: [Epoch 20/50] [recon loss: 0.007050] \n",
      "100%|████████████████████████████████████████████████████████████████████████████████████████████████████████████████| 600/600 [02:15<00:00,  4.41it/s]\n",
      "2025-06-13 20:52:06,611 - train.py[line:231] - INFO: epoch: 20 |origin acc: 38.77+0.74% |complete acc: 44.37+0.75% |gap: 6.26/5.61 |k: 0.27\n",
      "2025-06-13 20:52:06,611 - train.py[line:231] - INFO: epoch: 20 |origin acc: 38.77+0.74% |complete acc: 44.37+0.75% |gap: 6.26/5.61 |k: 0.27\n",
      "2025-06-13 20:52:06,611 - train.py[line:231] - INFO: epoch: 20 |origin acc: 38.77+0.74% |complete acc: 44.37+0.75% |gap: 6.26/5.61 |k: 0.27\n",
      "2025-06-13 20:52:06,624 - train.py[line:235] - INFO: ACC |proto acc: 38.77+0.74% |gen acc: 37.16+0.62% |Max: 45.32\n",
      "2025-06-13 20:52:06,624 - train.py[line:235] - INFO: ACC |proto acc: 38.77+0.74% |gen acc: 37.16+0.62% |Max: 45.32\n",
      "2025-06-13 20:52:06,624 - train.py[line:235] - INFO: ACC |proto acc: 38.77+0.74% |gen acc: 37.16+0.62% |Max: 45.32\n",
      "100%|████████████████████████████████████████████████████████████████████████████████████████████████████████████████| 282/282 [01:42<00:00,  2.76it/s]\n",
      "2025-06-13 20:53:49,024 - train.py[line:162] - INFO: [Epoch 21/50] [recon loss: 0.006120] \n",
      "2025-06-13 20:53:49,024 - train.py[line:162] - INFO: [Epoch 21/50] [recon loss: 0.006120] \n",
      "2025-06-13 20:53:49,024 - train.py[line:162] - INFO: [Epoch 21/50] [recon loss: 0.006120] \n",
      "100%|████████████████████████████████████████████████████████████████████████████████████████████████████████████████| 600/600 [02:26<00:00,  4.09it/s]\n",
      "2025-06-13 20:56:15,871 - train.py[line:231] - INFO: epoch: 21 |origin acc: 38.05+0.71% |complete acc: 44.21+0.74% |gap: 6.26/6.16 |k: 0.24\n",
      "2025-06-13 20:56:15,871 - train.py[line:231] - INFO: epoch: 21 |origin acc: 38.05+0.71% |complete acc: 44.21+0.74% |gap: 6.26/6.16 |k: 0.24\n",
      "2025-06-13 20:56:15,871 - train.py[line:231] - INFO: epoch: 21 |origin acc: 38.05+0.71% |complete acc: 44.21+0.74% |gap: 6.26/6.16 |k: 0.24\n",
      "2025-06-13 20:56:15,882 - train.py[line:235] - INFO: ACC |proto acc: 38.05+0.71% |gen acc: 36.99+0.64% |Max: 45.32\n",
      "2025-06-13 20:56:15,882 - train.py[line:235] - INFO: ACC |proto acc: 38.05+0.71% |gen acc: 36.99+0.64% |Max: 45.32\n",
      "2025-06-13 20:56:15,882 - train.py[line:235] - INFO: ACC |proto acc: 38.05+0.71% |gen acc: 36.99+0.64% |Max: 45.32\n",
      "100%|████████████████████████████████████████████████████████████████████████████████████████████████████████████████| 282/282 [01:43<00:00,  2.73it/s]\n",
      "2025-06-13 20:57:59,247 - train.py[line:162] - INFO: [Epoch 22/50] [recon loss: 0.006761] \n",
      "2025-06-13 20:57:59,247 - train.py[line:162] - INFO: [Epoch 22/50] [recon loss: 0.006761] \n",
      "2025-06-13 20:57:59,247 - train.py[line:162] - INFO: [Epoch 22/50] [recon loss: 0.006761] \n",
      "100%|████████████████████████████████████████████████████████████████████████████████████████████████████████████████| 600/600 [02:26<00:00,  4.11it/s]\n",
      "2025-06-13 21:00:25,484 - train.py[line:231] - INFO: epoch: 22 |origin acc: 38.24+0.68% |complete acc: 44.13+0.67% |gap: 6.26/5.89 |k: 0.22\n",
      "2025-06-13 21:00:25,484 - train.py[line:231] - INFO: epoch: 22 |origin acc: 38.24+0.68% |complete acc: 44.13+0.67% |gap: 6.26/5.89 |k: 0.22\n",
      "2025-06-13 21:00:25,484 - train.py[line:231] - INFO: epoch: 22 |origin acc: 38.24+0.68% |complete acc: 44.13+0.67% |gap: 6.26/5.89 |k: 0.22\n",
      "2025-06-13 21:00:25,494 - train.py[line:235] - INFO: ACC |proto acc: 38.24+0.68% |gen acc: 37.18+0.65% |Max: 45.32\n",
      "2025-06-13 21:00:25,494 - train.py[line:235] - INFO: ACC |proto acc: 38.24+0.68% |gen acc: 37.18+0.65% |Max: 45.32\n",
      "2025-06-13 21:00:25,494 - train.py[line:235] - INFO: ACC |proto acc: 38.24+0.68% |gen acc: 37.18+0.65% |Max: 45.32\n",
      "100%|████████████████████████████████████████████████████████████████████████████████████████████████████████████████| 282/282 [01:39<00:00,  2.84it/s]\n",
      "2025-06-13 21:02:04,828 - train.py[line:162] - INFO: [Epoch 23/50] [recon loss: 0.006493] \n",
      "2025-06-13 21:02:04,828 - train.py[line:162] - INFO: [Epoch 23/50] [recon loss: 0.006493] \n",
      "2025-06-13 21:02:04,828 - train.py[line:162] - INFO: [Epoch 23/50] [recon loss: 0.006493] \n",
      "100%|████████████████████████████████████████████████████████████████████████████████████████████████████████████████| 600/600 [02:08<00:00,  4.68it/s]\n",
      "2025-06-13 21:04:13,076 - train.py[line:231] - INFO: epoch: 23 |origin acc: 38.88+0.76% |complete acc: 45.17+0.76% |gap: 6.29/6.29 |k: 0.22\n",
      "2025-06-13 21:04:13,076 - train.py[line:231] - INFO: epoch: 23 |origin acc: 38.88+0.76% |complete acc: 45.17+0.76% |gap: 6.29/6.29 |k: 0.22\n",
      "2025-06-13 21:04:13,076 - train.py[line:231] - INFO: epoch: 23 |origin acc: 38.88+0.76% |complete acc: 45.17+0.76% |gap: 6.29/6.29 |k: 0.22\n",
      "2025-06-13 21:04:13,088 - train.py[line:235] - INFO: ACC |proto acc: 38.88+0.76% |gen acc: 37.09+0.68% |Max: 45.32\n",
      "2025-06-13 21:04:13,088 - train.py[line:235] - INFO: ACC |proto acc: 38.88+0.76% |gen acc: 37.09+0.68% |Max: 45.32\n",
      "2025-06-13 21:04:13,088 - train.py[line:235] - INFO: ACC |proto acc: 38.88+0.76% |gen acc: 37.09+0.68% |Max: 45.32\n",
      "100%|████████████████████████████████████████████████████████████████████████████████████████████████████████████████| 282/282 [01:49<00:00,  2.59it/s]\n",
      "2025-06-13 21:06:02,199 - train.py[line:162] - INFO: [Epoch 24/50] [recon loss: 0.006533] \n",
      "2025-06-13 21:06:02,199 - train.py[line:162] - INFO: [Epoch 24/50] [recon loss: 0.006533] \n",
      "2025-06-13 21:06:02,199 - train.py[line:162] - INFO: [Epoch 24/50] [recon loss: 0.006533] \n",
      "100%|████████████████████████████████████████████████████████████████████████████████████████████████████████████████| 600/600 [02:06<00:00,  4.73it/s]\n",
      "2025-06-13 21:08:09,033 - train.py[line:231] - INFO: epoch: 24 |origin acc: 39.22+0.70% |complete acc: 44.98+0.72% |gap: 6.29/5.76 |k: 0.22\n",
      "2025-06-13 21:08:09,033 - train.py[line:231] - INFO: epoch: 24 |origin acc: 39.22+0.70% |complete acc: 44.98+0.72% |gap: 6.29/5.76 |k: 0.22\n",
      "2025-06-13 21:08:09,033 - train.py[line:231] - INFO: epoch: 24 |origin acc: 39.22+0.70% |complete acc: 44.98+0.72% |gap: 6.29/5.76 |k: 0.22\n",
      "2025-06-13 21:08:09,041 - train.py[line:235] - INFO: ACC |proto acc: 39.22+0.70% |gen acc: 37.10+0.66% |Max: 45.32\n",
      "2025-06-13 21:08:09,041 - train.py[line:235] - INFO: ACC |proto acc: 39.22+0.70% |gen acc: 37.10+0.66% |Max: 45.32\n",
      "2025-06-13 21:08:09,041 - train.py[line:235] - INFO: ACC |proto acc: 39.22+0.70% |gen acc: 37.10+0.66% |Max: 45.32\n",
      "100%|████████████████████████████████████████████████████████████████████████████████████████████████████████████████| 282/282 [01:42<00:00,  2.74it/s]\n",
      "2025-06-13 21:09:52,079 - train.py[line:162] - INFO: [Epoch 25/50] [recon loss: 0.006037] \n",
      "2025-06-13 21:09:52,079 - train.py[line:162] - INFO: [Epoch 25/50] [recon loss: 0.006037] \n",
      "2025-06-13 21:09:52,079 - train.py[line:162] - INFO: [Epoch 25/50] [recon loss: 0.006037] \n",
      "100%|████████████████████████████████████████████████████████████████████████████████████████████████████████████████| 600/600 [02:16<00:00,  4.38it/s]\n",
      "2025-06-13 21:12:09,027 - train.py[line:231] - INFO: epoch: 25 |origin acc: 38.92+0.77% |complete acc: 44.70+0.72% |gap: 6.29/5.77 |k: 0.2\n",
      "2025-06-13 21:12:09,027 - train.py[line:231] - INFO: epoch: 25 |origin acc: 38.92+0.77% |complete acc: 44.70+0.72% |gap: 6.29/5.77 |k: 0.2\n",
      "2025-06-13 21:12:09,027 - train.py[line:231] - INFO: epoch: 25 |origin acc: 38.92+0.77% |complete acc: 44.70+0.72% |gap: 6.29/5.77 |k: 0.2\n",
      "2025-06-13 21:12:09,036 - train.py[line:235] - INFO: ACC |proto acc: 38.92+0.77% |gen acc: 37.54+0.67% |Max: 45.32\n",
      "2025-06-13 21:12:09,036 - train.py[line:235] - INFO: ACC |proto acc: 38.92+0.77% |gen acc: 37.54+0.67% |Max: 45.32\n",
      "2025-06-13 21:12:09,036 - train.py[line:235] - INFO: ACC |proto acc: 38.92+0.77% |gen acc: 37.54+0.67% |Max: 45.32\n",
      "100%|████████████████████████████████████████████████████████████████████████████████████████████████████████████████| 282/282 [01:51<00:00,  2.52it/s]\n",
      "2025-06-13 21:14:00,899 - train.py[line:162] - INFO: [Epoch 26/50] [recon loss: 0.006766] \n",
      "2025-06-13 21:14:00,899 - train.py[line:162] - INFO: [Epoch 26/50] [recon loss: 0.006766] \n",
      "2025-06-13 21:14:00,899 - train.py[line:162] - INFO: [Epoch 26/50] [recon loss: 0.006766] \n",
      "100%|████████████████████████████████████████████████████████████████████████████████████████████████████████████████| 600/600 [02:04<00:00,  4.82it/s]\n",
      "2025-06-13 21:16:05,470 - train.py[line:231] - INFO: epoch: 26 |origin acc: 38.63+0.70% |complete acc: 44.81+0.67% |gap: 6.29/6.18 |k: 0.21\n",
      "2025-06-13 21:16:05,470 - train.py[line:231] - INFO: epoch: 26 |origin acc: 38.63+0.70% |complete acc: 44.81+0.67% |gap: 6.29/6.18 |k: 0.21\n",
      "2025-06-13 21:16:05,470 - train.py[line:231] - INFO: epoch: 26 |origin acc: 38.63+0.70% |complete acc: 44.81+0.67% |gap: 6.29/6.18 |k: 0.21\n",
      "2025-06-13 21:16:05,478 - train.py[line:235] - INFO: ACC |proto acc: 38.63+0.70% |gen acc: 37.62+0.65% |Max: 45.32\n",
      "2025-06-13 21:16:05,478 - train.py[line:235] - INFO: ACC |proto acc: 38.63+0.70% |gen acc: 37.62+0.65% |Max: 45.32\n",
      "2025-06-13 21:16:05,478 - train.py[line:235] - INFO: ACC |proto acc: 38.63+0.70% |gen acc: 37.62+0.65% |Max: 45.32\n",
      "100%|████████████████████████████████████████████████████████████████████████████████████████████████████████████████| 282/282 [01:25<00:00,  3.29it/s]\n",
      "2025-06-13 21:17:31,266 - train.py[line:162] - INFO: [Epoch 27/50] [recon loss: 0.005945] \n",
      "2025-06-13 21:17:31,266 - train.py[line:162] - INFO: [Epoch 27/50] [recon loss: 0.005945] \n",
      "2025-06-13 21:17:31,266 - train.py[line:162] - INFO: [Epoch 27/50] [recon loss: 0.005945] \n",
      " 55%|█████████████████████████████████████████████████████████████▊                                                  | 331/600 [01:18<00:49,  5.49it/s]"
     ]
    }
   ],
   "source": [
    "model = train(args)"
   ]
  },
  {
   "cell_type": "code",
   "execution_count": 4,
   "id": "6fabfd60-da22-4ce2-8e85-b07575971095",
   "metadata": {},
   "outputs": [
    {
     "name": "stderr",
     "output_type": "stream",
     "text": [
      "2025-06-13 22:39:07,963 - test.py[line:28] - INFO: {}\n",
      "2025-06-13 22:39:08,857 - test.py[line:89] - INFO: best epoch: 9 45.322223\n",
      "2025-06-13 22:39:08,873 - test.py[line:90] - INFO: best k: 0.200000\n"
     ]
    },
    {
     "name": "stdout",
     "output_type": "stream",
     "text": [
      "96\n"
     ]
    },
    {
     "name": "stderr",
     "output_type": "stream",
     "text": [
      "100%|████████████████████████████████████████████████████████████████████████████████████████████████████████████████| 600/600 [00:48<00:00, 12.31it/s]\n",
      "2025-06-13 22:39:58,343 - test.py[line:130] - INFO: max |k:              0.2 |mix acc: 51.32+0.74% |gap: 8.36\n",
      "2025-06-13 22:39:58,344 - test.py[line:132] - INFO: ACC:|proto acc: 42.96+0.74% |gen acc: 47.24+0.76%\n"
     ]
    }
   ],
   "source": [
    "test(args)"
   ]
  },
  {
   "cell_type": "code",
   "execution_count": 6,
   "id": "2883c726-e6ee-4b3f-b4e9-ae8c5f27ae97",
   "metadata": {},
   "outputs": [
    {
     "name": "stdout",
     "output_type": "stream",
     "text": [
      "2.2.2\n"
     ]
    }
   ],
   "source": [
    "import torch\n",
    "print(torch.__version__)"
   ]
  },
  {
   "cell_type": "markdown",
   "id": "68fe50b0-392e-43d6-b886-69591196e108",
   "metadata": {},
   "source": [
    "## DeepSeek"
   ]
  },
  {
   "cell_type": "code",
   "execution_count": null,
   "id": "31dec718-7410-4604-8542-ede73fd721d9",
   "metadata": {},
   "outputs": [],
   "source": [
    "config = {\n",
    "    # General\n",
    "    \"dataset\": 'FC100', #['MiniImageNet', 'TieredImageNet', 'FC100', 'CIFAR-FS']\n",
    "    \"backbone\": 'resnet', #['resnet', 'swin']\n",
    "    \"center\": 'mean', #['mean', 'cluster']\n",
    "    \"gpu\": 0,\n",
    "    \"project\": \"SemFew_recreate\",\n",
    "    \n",
    "    # Databases\n",
    "    \"path_to_checkpoints\": \"/Users/jdieguez/Documents/master/TFM/code/checkpoints\",\n",
    "    \"path_to_cifarfs\": \"/Users/jdieguez/Documents/master/TFM/code/cifar-fs/\",\n",
    "    \"path_to_fc100\": '/Users/jdieguez/Documents/master/TFM/code/FC100/',\n",
    "    \"path_to_miniimagenet\": '/Users/jdieguez/Documents/master/TFM/code/miniimagenet',\n",
    "    \"path_to_tieredimagenet\": '/path/to/your/tiredimagenet',\n",
    "\n",
    "    # Semantics\n",
    "    # Semantics\n",
    "    \"llm\": \"default\",\n",
    "    \"semantics_from\": \"file\",\n",
    "    \"file\": \"deepseek_deepseek-r1:free_descriptions.json\",\n",
    "    \"key\": \"None\",\n",
    "    \"images_per_class\": 5,\n",
    "    \"verbose\": True,\n",
    "    \n",
    "    # TRAIN\n",
    "    \"max_epoch\": 5,\n",
    "    \"test_batch\": 600,\n",
    "    \"shot\": 1,\n",
    "    \"query\": 15,\n",
    "    \"test_way\": 5,\n",
    "    \"feat_size\": 640,\n",
    "    \"semantic_size\": 512,\n",
    "    \"batch_size\": 128,\n",
    "    \"num_workers\": 8,\n",
    "    \"drop\": 0.0,\n",
    "    \"lr\": 1e-4,\n",
    "    \"step_size\": 30,\n",
    "    \"mode\": 'clip', #['clip', 'bert']\n",
    "    \"text_type\":'gpt', #['gpt', 'name', 'definition'])\n",
    "\n",
    "    # TEST\n",
    "    'test-batch': 600,\n",
    "    'seed': 13\n",
    "}\n",
    "\n",
    "# for wandb\n",
    "config[\"run_name\"] = f\"{config['dataset']}_{config['llm']}_{config['semantics_from']}_{config['backbone']}\"\n",
    "\n",
    "class dotdict(dict):\n",
    "    \"\"\"dot.notation access to dictionary attributes\"\"\"\n",
    "    __getattr__ = dict.get\n",
    "    __setattr__ = dict.__setitem__\n",
    "    __delattr__ = dict.__delitem__\n",
    "    \n",
    "args = dotdict(config)\n",
    "if args.backbone == 'resnet':\n",
    "    args.model_path = f\"{args.path_to_checkpoints}/ResNet-{args.dataset}.pth\"\n",
    "elif args.backbone == 'swin':\n",
    "    args.model_path = f\"{args.path_to_checkpoints}/Swin-Tiny-{args.dataset}.pth\"\n",
    "\n",
    "model = train(args)\n",
    "test(args)"
   ]
  },
  {
   "cell_type": "markdown",
   "id": "765df6d7-919c-41cb-b95f-d8156d43d7cd",
   "metadata": {},
   "source": [
    "# MiniImageNet"
   ]
  },
  {
   "cell_type": "markdown",
   "id": "2d939bbd-4603-4a50-816c-94ebf8890141",
   "metadata": {
    "jp-MarkdownHeadingCollapsed": true
   },
   "source": [
    "## Setting miniimagenet"
   ]
  },
  {
   "cell_type": "code",
   "execution_count": 6,
   "id": "7eda7f7f-f638-4203-9cc1-c263d07dc54e",
   "metadata": {},
   "outputs": [
    {
     "name": "stdout",
     "output_type": "stream",
     "text": [
      "{'n01440764': 'tench', 'n01443537': 'goldfish', 'n01484850': 'great_white_shark', 'n01491361': 'tiger_shark', 'n01494475': 'hammerhead', 'n01496331': 'electric_ray', 'n01498041': 'stingray', 'n01514668': 'cock', 'n01514859': 'hen', 'n01518878': 'ostrich', 'n01530575': 'brambling', 'n01531178': 'goldfinch', 'n01532829': 'house_finch', 'n01534433': 'junco', 'n01537544': 'indigo_bunting', 'n01558993': 'robin', 'n01560419': 'bulbul', 'n01580077': 'jay', 'n01582220': 'magpie', 'n01592084': 'chickadee', 'n01601694': 'water_ouzel', 'n01608432': 'kite', 'n01614925': 'bald_eagle', 'n01616318': 'vulture', 'n01622779': 'great_grey_owl', 'n01629819': 'European_fire_salamander', 'n01630670': 'common_newt', 'n01631663': 'eft', 'n01632458': 'spotted_salamander', 'n01632777': 'axolotl', 'n01641577': 'bullfrog', 'n01644373': 'tree_frog', 'n01644900': 'tailed_frog', 'n01664065': 'loggerhead', 'n01665541': 'leatherback_turtle', 'n01667114': 'mud_turtle', 'n01667778': 'terrapin', 'n01669191': 'box_turtle', 'n01675722': 'banded_gecko', 'n01677366': 'common_iguana', 'n01682714': 'American_chameleon', 'n01685808': 'whiptail', 'n01687978': 'agama', 'n01688243': 'frilled_lizard', 'n01689811': 'alligator_lizard', 'n01692333': 'Gila_monster', 'n01693334': 'green_lizard', 'n01694178': 'African_chameleon', 'n01695060': 'Komodo_dragon', 'n01697457': 'African_crocodile', 'n01698640': 'American_alligator', 'n01704323': 'triceratops', 'n01728572': 'thunder_snake', 'n01728920': 'ringneck_snake', 'n01729322': 'hognose_snake', 'n01729977': 'green_snake', 'n01734418': 'king_snake', 'n01735189': 'garter_snake', 'n01737021': 'water_snake', 'n01739381': 'vine_snake', 'n01740131': 'night_snake', 'n01742172': 'boa_constrictor', 'n01744401': 'rock_python', 'n01748264': 'Indian_cobra', 'n01749939': 'green_mamba', 'n01751748': 'sea_snake', 'n01753488': 'horned_viper', 'n01755581': 'diamondback', 'n01756291': 'sidewinder', 'n01768244': 'trilobite', 'n01770081': 'harvestman', 'n01770393': 'scorpion', 'n01773157': 'black_and_gold_garden_spider', 'n01773549': 'barn_spider', 'n01773797': 'garden_spider', 'n01774384': 'black_widow', 'n01774750': 'tarantula', 'n01775062': 'wolf_spider', 'n01776313': 'tick', 'n01784675': 'centipede', 'n01795545': 'black_grouse', 'n01796340': 'ptarmigan', 'n01797886': 'ruffed_grouse', 'n01798484': 'prairie_chicken', 'n01806143': 'peacock', 'n01806567': 'quail', 'n01807496': 'partridge', 'n01817953': 'African_grey', 'n01818515': 'macaw', 'n01819313': 'sulphur-crested_cockatoo', 'n01820546': 'lorikeet', 'n01824575': 'coucal', 'n01828970': 'bee_eater', 'n01829413': 'hornbill', 'n01833805': 'hummingbird', 'n01843065': 'jacamar', 'n01843383': 'toucan', 'n01847000': 'drake', 'n01855032': 'red-breasted_merganser', 'n01855672': 'goose', 'n01860187': 'black_swan', 'n01871265': 'tusker', 'n01872401': 'echidna', 'n01873310': 'platypus', 'n01877812': 'wallaby', 'n01882714': 'koala', 'n01883070': 'wombat', 'n01910747': 'jellyfish', 'n01914609': 'sea_anemone', 'n01917289': 'brain_coral', 'n01924916': 'flatworm', 'n01930112': 'nematode', 'n01943899': 'conch', 'n01944390': 'snail', 'n01945685': 'slug', 'n01950731': 'sea_slug', 'n01955084': 'chiton', 'n01968897': 'chambered_nautilus', 'n01978287': 'Dungeness_crab', 'n01978455': 'rock_crab', 'n01980166': 'fiddler_crab', 'n01981276': 'king_crab', 'n01983481': 'American_lobster', 'n01984695': 'spiny_lobster', 'n01985128': 'crayfish', 'n01986214': 'hermit_crab', 'n01990800': 'isopod', 'n02002556': 'white_stork', 'n02002724': 'black_stork', 'n02006656': 'spoonbill', 'n02007558': 'flamingo', 'n02009229': 'little_blue_heron', 'n02009912': 'American_egret', 'n02011460': 'bittern', 'n02012849': 'crane', 'n02013706': 'limpkin', 'n02017213': 'European_gallinule', 'n02018207': 'American_coot', 'n02018795': 'bustard', 'n02025239': 'ruddy_turnstone', 'n02027492': 'red-backed_sandpiper', 'n02028035': 'redshank', 'n02033041': 'dowitcher', 'n02037110': 'oystercatcher', 'n02051845': 'pelican', 'n02056570': 'king_penguin', 'n02058221': 'albatross', 'n02066245': 'grey_whale', 'n02071294': 'killer_whale', 'n02074367': 'dugong', 'n02077923': 'sea_lion', 'n02085620': 'Chihuahua', 'n02085782': 'Japanese_spaniel', 'n02085936': 'Maltese_dog', 'n02086079': 'Pekinese', 'n02086240': 'Shih-Tzu', 'n02086646': 'Blenheim_spaniel', 'n02086910': 'papillon', 'n02087046': 'toy_terrier', 'n02087394': 'Rhodesian_ridgeback', 'n02088094': 'Afghan_hound', 'n02088238': 'basset', 'n02088364': 'beagle', 'n02088466': 'bloodhound', 'n02088632': 'bluetick', 'n02089078': 'black-and-tan_coonhound', 'n02089867': 'Walker_hound', 'n02089973': 'English_foxhound', 'n02090379': 'redbone', 'n02090622': 'borzoi', 'n02090721': 'Irish_wolfhound', 'n02091032': 'Italian_greyhound', 'n02091134': 'whippet', 'n02091244': 'Ibizan_hound', 'n02091467': 'Norwegian_elkhound', 'n02091635': 'otterhound', 'n02091831': 'Saluki', 'n02092002': 'Scottish_deerhound', 'n02092339': 'Weimaraner', 'n02093256': 'Staffordshire_bullterrier', 'n02093428': 'American_Staffordshire_terrier', 'n02093647': 'Bedlington_terrier', 'n02093754': 'Border_terrier', 'n02093859': 'Kerry_blue_terrier', 'n02093991': 'Irish_terrier', 'n02094114': 'Norfolk_terrier', 'n02094258': 'Norwich_terrier', 'n02094433': 'Yorkshire_terrier', 'n02095314': 'wire-haired_fox_terrier', 'n02095570': 'Lakeland_terrier', 'n02095889': 'Sealyham_terrier', 'n02096051': 'Airedale', 'n02096177': 'cairn', 'n02096294': 'Australian_terrier', 'n02096437': 'Dandie_Dinmont', 'n02096585': 'Boston_bull', 'n02097047': 'miniature_schnauzer', 'n02097130': 'giant_schnauzer', 'n02097209': 'standard_schnauzer', 'n02097298': 'Scotch_terrier', 'n02097474': 'Tibetan_terrier', 'n02097658': 'silky_terrier', 'n02098105': 'soft-coated_wheaten_terrier', 'n02098286': 'West_Highland_white_terrier', 'n02098413': 'Lhasa', 'n02099267': 'flat-coated_retriever', 'n02099429': 'curly-coated_retriever', 'n02099601': 'golden_retriever', 'n02099712': 'Labrador_retriever', 'n02099849': 'Chesapeake_Bay_retriever', 'n02100236': 'German_short-haired_pointer', 'n02100583': 'vizsla', 'n02100735': 'English_setter', 'n02100877': 'Irish_setter', 'n02101006': 'Gordon_setter', 'n02101388': 'Brittany_spaniel', 'n02101556': 'clumber', 'n02102040': 'English_springer', 'n02102177': 'Welsh_springer_spaniel', 'n02102318': 'cocker_spaniel', 'n02102480': 'Sussex_spaniel', 'n02102973': 'Irish_water_spaniel', 'n02104029': 'kuvasz', 'n02104365': 'schipperke', 'n02105056': 'groenendael', 'n02105162': 'malinois', 'n02105251': 'briard', 'n02105412': 'kelpie', 'n02105505': 'komondor', 'n02105641': 'Old_English_sheepdog', 'n02105855': 'Shetland_sheepdog', 'n02106030': 'collie', 'n02106166': 'Border_collie', 'n02106382': 'Bouvier_des_Flandres', 'n02106550': 'Rottweiler', 'n02106662': 'German_shepherd', 'n02107142': 'Doberman', 'n02107312': 'miniature_pinscher', 'n02107574': 'Greater_Swiss_Mountain_dog', 'n02107683': 'Bernese_mountain_dog', 'n02107908': 'Appenzeller', 'n02108000': 'EntleBucher', 'n02108089': 'boxer', 'n02108422': 'bull_mastiff', 'n02108551': 'Tibetan_mastiff', 'n02108915': 'French_bulldog', 'n02109047': 'Great_Dane', 'n02109525': 'Saint_Bernard', 'n02109961': 'Eskimo_dog', 'n02110063': 'malamute', 'n02110185': 'Siberian_husky', 'n02110341': 'dalmatian', 'n02110627': 'affenpinscher', 'n02110806': 'basenji', 'n02110958': 'pug', 'n02111129': 'Leonberg', 'n02111277': 'Newfoundland', 'n02111500': 'Great_Pyrenees', 'n02111889': 'Samoyed', 'n02112018': 'Pomeranian', 'n02112137': 'chow', 'n02112350': 'keeshond', 'n02112706': 'Brabancon_griffon', 'n02113023': 'Pembroke', 'n02113186': 'Cardigan', 'n02113624': 'toy_poodle', 'n02113712': 'miniature_poodle', 'n02113799': 'standard_poodle', 'n02113978': 'Mexican_hairless', 'n02114367': 'timber_wolf', 'n02114548': 'white_wolf', 'n02114712': 'red_wolf', 'n02114855': 'coyote', 'n02115641': 'dingo', 'n02115913': 'dhole', 'n02116738': 'African_hunting_dog', 'n02117135': 'hyena', 'n02119022': 'red_fox', 'n02119789': 'kit_fox', 'n02120079': 'Arctic_fox', 'n02120505': 'grey_fox', 'n02123045': 'tabby', 'n02123159': 'tiger_cat', 'n02123394': 'Persian_cat', 'n02123597': 'Siamese_cat', 'n02124075': 'Egyptian_cat', 'n02125311': 'cougar', 'n02127052': 'lynx', 'n02128385': 'leopard', 'n02128757': 'snow_leopard', 'n02128925': 'jaguar', 'n02129165': 'lion', 'n02129604': 'tiger', 'n02130308': 'cheetah', 'n02132136': 'brown_bear', 'n02133161': 'American_black_bear', 'n02134084': 'ice_bear', 'n02134418': 'sloth_bear', 'n02137549': 'mongoose', 'n02138441': 'meerkat', 'n02165105': 'tiger_beetle', 'n02165456': 'ladybug', 'n02167151': 'ground_beetle', 'n02168699': 'long-horned_beetle', 'n02169497': 'leaf_beetle', 'n02172182': 'dung_beetle', 'n02174001': 'rhinoceros_beetle', 'n02177972': 'weevil', 'n02190166': 'fly', 'n02206856': 'bee', 'n02219486': 'ant', 'n02226429': 'grasshopper', 'n02229544': 'cricket', 'n02231487': 'walking_stick', 'n02233338': 'cockroach', 'n02236044': 'mantis', 'n02256656': 'cicada', 'n02259212': 'leafhopper', 'n02264363': 'lacewing', 'n02268443': 'dragonfly', 'n02268853': 'damselfly', 'n02276258': 'admiral', 'n02277742': 'ringlet', 'n02279972': 'monarch', 'n02280649': 'cabbage_butterfly', 'n02281406': 'sulphur_butterfly', 'n02281787': 'lycaenid', 'n02317335': 'starfish', 'n02319095': 'sea_urchin', 'n02321529': 'sea_cucumber', 'n02325366': 'wood_rabbit', 'n02326432': 'hare', 'n02328150': 'Angora', 'n02342885': 'hamster', 'n02346627': 'porcupine', 'n02356798': 'fox_squirrel', 'n02361337': 'marmot', 'n02363005': 'beaver', 'n02364673': 'guinea_pig', 'n02389026': 'sorrel', 'n02391049': 'zebra', 'n02395406': 'hog', 'n02396427': 'wild_boar', 'n02397096': 'warthog', 'n02398521': 'hippopotamus', 'n02403003': 'ox', 'n02408429': 'water_buffalo', 'n02410509': 'bison', 'n02412080': 'ram', 'n02415577': 'bighorn', 'n02417914': 'ibex', 'n02422106': 'hartebeest', 'n02422699': 'impala', 'n02423022': 'gazelle', 'n02437312': 'Arabian_camel', 'n02437616': 'llama', 'n02441942': 'weasel', 'n02442845': 'mink', 'n02443114': 'polecat', 'n02443484': 'black-footed_ferret', 'n02444819': 'otter', 'n02445715': 'skunk', 'n02447366': 'badger', 'n02454379': 'armadillo', 'n02457408': 'three-toed_sloth', 'n02480495': 'orangutan', 'n02480855': 'gorilla', 'n02481823': 'chimpanzee', 'n02483362': 'gibbon', 'n02483708': 'siamang', 'n02484975': 'guenon', 'n02486261': 'patas', 'n02486410': 'baboon', 'n02487347': 'macaque', 'n02488291': 'langur', 'n02488702': 'colobus', 'n02489166': 'proboscis_monkey', 'n02490219': 'marmoset', 'n02492035': 'capuchin', 'n02492660': 'howler_monkey', 'n02493509': 'titi', 'n02493793': 'spider_monkey', 'n02494079': 'squirrel_monkey', 'n02497673': 'Madagascar_cat', 'n02500267': 'indri', 'n02504013': 'Indian_elephant', 'n02504458': 'African_elephant', 'n02509815': 'lesser_panda', 'n02510455': 'giant_panda', 'n02514041': 'barracouta', 'n02526121': 'eel', 'n02536864': 'coho', 'n02606052': 'rock_beauty', 'n02607072': 'anemone_fish', 'n02640242': 'sturgeon', 'n02641379': 'gar', 'n02643566': 'lionfish', 'n02655020': 'puffer', 'n02666196': 'abacus', 'n02667093': 'abaya', 'n02669723': 'academic_gown', 'n02672831': 'accordion', 'n02676566': 'acoustic_guitar', 'n02687172': 'aircraft_carrier', 'n02690373': 'airliner', 'n02692877': 'airship', 'n02699494': 'altar', 'n02701002': 'ambulance', 'n02704792': 'amphibian', 'n02708093': 'analog_clock', 'n02727426': 'apiary', 'n02730930': 'apron', 'n02747177': 'ashcan', 'n02749479': 'assault_rifle', 'n02769748': 'backpack', 'n02776631': 'bakery', 'n02777292': 'balance_beam', 'n02782093': 'balloon', 'n02783161': 'ballpoint', 'n02786058': 'Band_Aid', 'n02787622': 'banjo', 'n02788148': 'bannister', 'n02790996': 'barbell', 'n02791124': 'barber_chair', 'n02791270': 'barbershop', 'n02793495': 'barn', 'n02794156': 'barometer', 'n02795169': 'barrel', 'n02797295': 'barrow', 'n02799071': 'baseball', 'n02802426': 'basketball', 'n02804414': 'bassinet', 'n02804610': 'bassoon', 'n02807133': 'bathing_cap', 'n02808304': 'bath_towel', 'n02808440': 'bathtub', 'n02814533': 'beach_wagon', 'n02814860': 'beacon', 'n02815834': 'beaker', 'n02817516': 'bearskin', 'n02823428': 'beer_bottle', 'n02823750': 'beer_glass', 'n02825657': 'bell_cote', 'n02834397': 'bib', 'n02835271': 'bicycle-built-for-two', 'n02837789': 'bikini', 'n02840245': 'binder', 'n02841315': 'binoculars', 'n02843684': 'birdhouse', 'n02859443': 'boathouse', 'n02860847': 'bobsled', 'n02865351': 'bolo_tie', 'n02869837': 'bonnet', 'n02870880': 'bookcase', 'n02871525': 'bookshop', 'n02877765': 'bottlecap', 'n02879718': 'bow', 'n02883205': 'bow_tie', 'n02892201': 'brass', 'n02892767': 'brassiere', 'n02894605': 'breakwater', 'n02895154': 'breastplate', 'n02906734': 'broom', 'n02909870': 'bucket', 'n02910353': 'buckle', 'n02916936': 'bulletproof_vest', 'n02917067': 'bullet_train', 'n02927161': 'butcher_shop', 'n02930766': 'cab', 'n02939185': 'caldron', 'n02948072': 'candle', 'n02950826': 'cannon', 'n02951358': 'canoe', 'n02951585': 'can_opener', 'n02963159': 'cardigan', 'n02965783': 'car_mirror', 'n02966193': 'carousel', 'n02966687': \"carpenter's_kit\", 'n02971356': 'carton', 'n02974003': 'car_wheel', 'n02977058': 'cash_machine', 'n02978881': 'cassette', 'n02979186': 'cassette_player', 'n02980441': 'castle', 'n02981792': 'catamaran', 'n02988304': 'CD_player', 'n02992211': 'cello', 'n02992529': 'cellular_telephone', 'n02999410': 'chain', 'n03000134': 'chainlink_fence', 'n03000247': 'chain_mail', 'n03000684': 'chain_saw', 'n03014705': 'chest', 'n03016953': 'chiffonier', 'n03017168': 'chime', 'n03018349': 'china_cabinet', 'n03026506': 'Christmas_stocking', 'n03028079': 'church', 'n03032252': 'cinema', 'n03041632': 'cleaver', 'n03042490': 'cliff_dwelling', 'n03045698': 'cloak', 'n03047690': 'clog', 'n03062245': 'cocktail_shaker', 'n03063599': 'coffee_mug', 'n03063689': 'coffeepot', 'n03065424': 'coil', 'n03075370': 'combination_lock', 'n03085013': 'computer_keyboard', 'n03089624': 'confectionery', 'n03095699': 'container_ship', 'n03100240': 'convertible', 'n03109150': 'corkscrew', 'n03110669': 'cornet', 'n03124043': 'cowboy_boot', 'n03124170': 'cowboy_hat', 'n03125729': 'cradle', 'n03126707': 'crane', 'n03127747': 'crash_helmet', 'n03127925': 'crate', 'n03131574': 'crib', 'n03133878': 'Crock_Pot', 'n03134739': 'croquet_ball', 'n03141823': 'crutch', 'n03146219': 'cuirass', 'n03160309': 'dam', 'n03179701': 'desk', 'n03180011': 'desktop_computer', 'n03187595': 'dial_telephone', 'n03188531': 'diaper', 'n03196217': 'digital_clock', 'n03197337': 'digital_watch', 'n03201208': 'dining_table', 'n03207743': 'dishrag', 'n03207941': 'dishwasher', 'n03208938': 'disk_brake', 'n03216828': 'dock', 'n03218198': 'dogsled', 'n03220513': 'dome', 'n03223299': 'doormat', 'n03240683': 'drilling_platform', 'n03249569': 'drum', 'n03250847': 'drumstick', 'n03255030': 'dumbbell', 'n03259280': 'Dutch_oven', 'n03271574': 'electric_fan', 'n03272010': 'electric_guitar', 'n03272562': 'electric_locomotive', 'n03290653': 'entertainment_center', 'n03291819': 'envelope', 'n03297495': 'espresso_maker', 'n03314780': 'face_powder', 'n03325584': 'feather_boa', 'n03337140': 'file', 'n03344393': 'fireboat', 'n03345487': 'fire_engine', 'n03347037': 'fire_screen', 'n03355925': 'flagpole', 'n03372029': 'flute', 'n03376595': 'folding_chair', 'n03379051': 'football_helmet', 'n03384352': 'forklift', 'n03388043': 'fountain', 'n03388183': 'fountain_pen', 'n03388549': 'four-poster', 'n03393912': 'freight_car', 'n03394916': 'French_horn', 'n03400231': 'frying_pan', 'n03404251': 'fur_coat', 'n03417042': 'garbage_truck', 'n03424325': 'gasmask', 'n03425413': 'gas_pump', 'n03443371': 'goblet', 'n03444034': 'go-kart', 'n03445777': 'golf_ball', 'n03445924': 'golfcart', 'n03447447': 'gondola', 'n03447721': 'gong', 'n03450230': 'gown', 'n03452741': 'grand_piano', 'n03457902': 'greenhouse', 'n03459775': 'grille', 'n03461385': 'grocery_store', 'n03467068': 'guillotine', 'n03476684': 'hair_slide', 'n03476991': 'hair_spray', 'n03478589': 'half_track', 'n03481172': 'hammer', 'n03482405': 'hamper', 'n03483316': 'hand_blower', 'n03485407': 'hand-held_computer', 'n03485794': 'handkerchief', 'n03492542': 'hard_disc', 'n03494278': 'harmonica', 'n03495258': 'harp', 'n03496892': 'harvester', 'n03498962': 'hatchet', 'n03527444': 'holster', 'n03529860': 'home_theater', 'n03530642': 'honeycomb', 'n03532672': 'hook', 'n03534580': 'hoopskirt', 'n03535780': 'horizontal_bar', 'n03538406': 'horse_cart', 'n03544143': 'hourglass', 'n03584254': 'iPod', 'n03584829': 'iron', 'n03590841': \"jack-o'-lantern\", 'n03594734': 'jean', 'n03594945': 'jeep', 'n03595614': 'jersey', 'n03598930': 'jigsaw_puzzle', 'n03599486': 'jinrikisha', 'n03602883': 'joystick', 'n03617480': 'kimono', 'n03623198': 'knee_pad', 'n03627232': 'knot', 'n03630383': 'lab_coat', 'n03633091': 'ladle', 'n03637318': 'lampshade', 'n03642806': 'laptop', 'n03649909': 'lawn_mower', 'n03657121': 'lens_cap', 'n03658185': 'letter_opener', 'n03661043': 'library', 'n03662601': 'lifeboat', 'n03666591': 'lighter', 'n03670208': 'limousine', 'n03673027': 'liner', 'n03676483': 'lipstick', 'n03680355': 'Loafer', 'n03690938': 'lotion', 'n03691459': 'loudspeaker', 'n03692522': 'loupe', 'n03697007': 'lumbermill', 'n03706229': 'magnetic_compass', 'n03709823': 'mailbag', 'n03710193': 'mailbox', 'n03710637': 'maillot', 'n03710721': 'maillot', 'n03717622': 'manhole_cover', 'n03720891': 'maraca', 'n03721384': 'marimba', 'n03724870': 'mask', 'n03729826': 'matchstick', 'n03733131': 'maypole', 'n03733281': 'maze', 'n03733805': 'measuring_cup', 'n03742115': 'medicine_chest', 'n03743016': 'megalith', 'n03759954': 'microphone', 'n03761084': 'microwave', 'n03763968': 'military_uniform', 'n03764736': 'milk_can', 'n03769881': 'minibus', 'n03770439': 'miniskirt', 'n03770679': 'minivan', 'n03773504': 'missile', 'n03775071': 'mitten', 'n03775546': 'mixing_bowl', 'n03776460': 'mobile_home', 'n03777568': 'Model_T', 'n03777754': 'modem', 'n03781244': 'monastery', 'n03782006': 'monitor', 'n03785016': 'moped', 'n03786901': 'mortar', 'n03787032': 'mortarboard', 'n03788195': 'mosque', 'n03788365': 'mosquito_net', 'n03791053': 'motor_scooter', 'n03792782': 'mountain_bike', 'n03792972': 'mountain_tent', 'n03793489': 'mouse', 'n03794056': 'mousetrap', 'n03796401': 'moving_van', 'n03803284': 'muzzle', 'n03804744': 'nail', 'n03814639': 'neck_brace', 'n03814906': 'necklace', 'n03825788': 'nipple', 'n03832673': 'notebook', 'n03837869': 'obelisk', 'n03838899': 'oboe', 'n03840681': 'ocarina', 'n03841143': 'odometer', 'n03843555': 'oil_filter', 'n03854065': 'organ', 'n03857828': 'oscilloscope', 'n03866082': 'overskirt', 'n03868242': 'oxcart', 'n03868863': 'oxygen_mask', 'n03871628': 'packet', 'n03873416': 'paddle', 'n03874293': 'paddlewheel', 'n03874599': 'padlock', 'n03876231': 'paintbrush', 'n03877472': 'pajama', 'n03877845': 'palace', 'n03884397': 'panpipe', 'n03887697': 'paper_towel', 'n03888257': 'parachute', 'n03888605': 'parallel_bars', 'n03891251': 'park_bench', 'n03891332': 'parking_meter', 'n03895866': 'passenger_car', 'n03899768': 'patio', 'n03902125': 'pay-phone', 'n03903868': 'pedestal', 'n03908618': 'pencil_box', 'n03908714': 'pencil_sharpener', 'n03916031': 'perfume', 'n03920288': 'Petri_dish', 'n03924679': 'photocopier', 'n03929660': 'pick', 'n03929855': 'pickelhaube', 'n03930313': 'picket_fence', 'n03930630': 'pickup', 'n03933933': 'pier', 'n03935335': 'piggy_bank', 'n03937543': 'pill_bottle', 'n03938244': 'pillow', 'n03942813': 'ping-pong_ball', 'n03944341': 'pinwheel', 'n03947888': 'pirate', 'n03950228': 'pitcher', 'n03954731': 'plane', 'n03956157': 'planetarium', 'n03958227': 'plastic_bag', 'n03961711': 'plate_rack', 'n03967562': 'plow', 'n03970156': 'plunger', 'n03976467': 'Polaroid_camera', 'n03976657': 'pole', 'n03977966': 'police_van', 'n03980874': 'poncho', 'n03982430': 'pool_table', 'n03983396': 'pop_bottle', 'n03991062': 'pot', 'n03992509': \"potter's_wheel\", 'n03995372': 'power_drill', 'n03998194': 'prayer_rug', 'n04004767': 'printer', 'n04005630': 'prison', 'n04008634': 'projectile', 'n04009552': 'projector', 'n04019541': 'puck', 'n04023962': 'punching_bag', 'n04026417': 'purse', 'n04033901': 'quill', 'n04033995': 'quilt', 'n04037443': 'racer', 'n04039381': 'racket', 'n04040759': 'radiator', 'n04041544': 'radio', 'n04044716': 'radio_telescope', 'n04049303': 'rain_barrel', 'n04065272': 'recreational_vehicle', 'n04067472': 'reel', 'n04069434': 'reflex_camera', 'n04070727': 'refrigerator', 'n04074963': 'remote_control', 'n04081281': 'restaurant', 'n04086273': 'revolver', 'n04090263': 'rifle', 'n04099969': 'rocking_chair', 'n04111531': 'rotisserie', 'n04116512': 'rubber_eraser', 'n04118538': 'rugby_ball', 'n04118776': 'rule', 'n04120489': 'running_shoe', 'n04125021': 'safe', 'n04127249': 'safety_pin', 'n04131690': 'saltshaker', 'n04133789': 'sandal', 'n04136333': 'sarong', 'n04141076': 'sax', 'n04141327': 'scabbard', 'n04141975': 'scale', 'n04146614': 'school_bus', 'n04147183': 'schooner', 'n04149813': 'scoreboard', 'n04152593': 'screen', 'n04153751': 'screw', 'n04154565': 'screwdriver', 'n04162706': 'seat_belt', 'n04179913': 'sewing_machine', 'n04192698': 'shield', 'n04200800': 'shoe_shop', 'n04201297': 'shoji', 'n04204238': 'shopping_basket', 'n04204347': 'shopping_cart', 'n04208210': 'shovel', 'n04209133': 'shower_cap', 'n04209239': 'shower_curtain', 'n04228054': 'ski', 'n04229816': 'ski_mask', 'n04235860': 'sleeping_bag', 'n04238763': 'slide_rule', 'n04239074': 'sliding_door', 'n04243546': 'slot', 'n04251144': 'snorkel', 'n04252077': 'snowmobile', 'n04252225': 'snowplow', 'n04254120': 'soap_dispenser', 'n04254680': 'soccer_ball', 'n04254777': 'sock', 'n04258138': 'solar_dish', 'n04259630': 'sombrero', 'n04263257': 'soup_bowl', 'n04264628': 'space_bar', 'n04265275': 'space_heater', 'n04266014': 'space_shuttle', 'n04270147': 'spatula', 'n04273569': 'speedboat', 'n04275548': 'spider_web', 'n04277352': 'spindle', 'n04285008': 'sports_car', 'n04286575': 'spotlight', 'n04296562': 'stage', 'n04310018': 'steam_locomotive', 'n04311004': 'steel_arch_bridge', 'n04311174': 'steel_drum', 'n04317175': 'stethoscope', 'n04325704': 'stole', 'n04326547': 'stone_wall', 'n04328186': 'stopwatch', 'n04330267': 'stove', 'n04332243': 'strainer', 'n04335435': 'streetcar', 'n04336792': 'stretcher', 'n04344873': 'studio_couch', 'n04346328': 'stupa', 'n04347754': 'submarine', 'n04350905': 'suit', 'n04355338': 'sundial', 'n04355933': 'sunglass', 'n04356056': 'sunglasses', 'n04357314': 'sunscreen', 'n04366367': 'suspension_bridge', 'n04367480': 'swab', 'n04370456': 'sweatshirt', 'n04371430': 'swimming_trunks', 'n04371774': 'swing', 'n04372370': 'switch', 'n04376876': 'syringe', 'n04380533': 'table_lamp', 'n04389033': 'tank', 'n04392985': 'tape_player', 'n04398044': 'teapot', 'n04399382': 'teddy', 'n04404412': 'television', 'n04409515': 'tennis_ball', 'n04417672': 'thatch', 'n04418357': 'theater_curtain', 'n04423845': 'thimble', 'n04428191': 'thresher', 'n04429376': 'throne', 'n04435653': 'tile_roof', 'n04442312': 'toaster', 'n04443257': 'tobacco_shop', 'n04447861': 'toilet_seat', 'n04456115': 'torch', 'n04458633': 'totem_pole', 'n04461696': 'tow_truck', 'n04462240': 'toyshop', 'n04465501': 'tractor', 'n04467665': 'trailer_truck', 'n04476259': 'tray', 'n04479046': 'trench_coat', 'n04482393': 'tricycle', 'n04483307': 'trimaran', 'n04485082': 'tripod', 'n04486054': 'triumphal_arch', 'n04487081': 'trolleybus', 'n04487394': 'trombone', 'n04493381': 'tub', 'n04501370': 'turnstile', 'n04505470': 'typewriter_keyboard', 'n04507155': 'umbrella', 'n04509417': 'unicycle', 'n04515003': 'upright', 'n04517823': 'vacuum', 'n04522168': 'vase', 'n04523525': 'vault', 'n04525038': 'velvet', 'n04525305': 'vending_machine', 'n04532106': 'vestment', 'n04532670': 'viaduct', 'n04536866': 'violin', 'n04540053': 'volleyball', 'n04542943': 'waffle_iron', 'n04548280': 'wall_clock', 'n04548362': 'wallet', 'n04550184': 'wardrobe', 'n04552348': 'warplane', 'n04553703': 'washbasin', 'n04554684': 'washer', 'n04557648': 'water_bottle', 'n04560804': 'water_jug', 'n04562935': 'water_tower', 'n04579145': 'whiskey_jug', 'n04579432': 'whistle', 'n04584207': 'wig', 'n04589890': 'window_screen', 'n04590129': 'window_shade', 'n04591157': 'Windsor_tie', 'n04591713': 'wine_bottle', 'n04592741': 'wing', 'n04596742': 'wok', 'n04597913': 'wooden_spoon', 'n04599235': 'wool', 'n04604644': 'worm_fence', 'n04606251': 'wreck', 'n04612504': 'yawl', 'n04613696': 'yurt', 'n06359193': 'web_site', 'n06596364': 'comic_book', 'n06785654': 'crossword_puzzle', 'n06794110': 'street_sign', 'n06874185': 'traffic_light', 'n07248320': 'book_jacket', 'n07565083': 'menu', 'n07579787': 'plate', 'n07583066': 'guacamole', 'n07584110': 'consomme', 'n07590611': 'hot_pot', 'n07613480': 'trifle', 'n07614500': 'ice_cream', 'n07615774': 'ice_lolly', 'n07684084': 'French_loaf', 'n07693725': 'bagel', 'n07695742': 'pretzel', 'n07697313': 'cheeseburger', 'n07697537': 'hotdog', 'n07711569': 'mashed_potato', 'n07714571': 'head_cabbage', 'n07714990': 'broccoli', 'n07715103': 'cauliflower', 'n07716358': 'zucchini', 'n07716906': 'spaghetti_squash', 'n07717410': 'acorn_squash', 'n07717556': 'butternut_squash', 'n07718472': 'cucumber', 'n07718747': 'artichoke', 'n07720875': 'bell_pepper', 'n07730033': 'cardoon', 'n07734744': 'mushroom', 'n07742313': 'Granny_Smith', 'n07745940': 'strawberry', 'n07747607': 'orange', 'n07749582': 'lemon', 'n07753113': 'fig', 'n07753275': 'pineapple', 'n07753592': 'banana', 'n07754684': 'jackfruit', 'n07760859': 'custard_apple', 'n07768694': 'pomegranate', 'n07802026': 'hay', 'n07831146': 'carbonara', 'n07836838': 'chocolate_sauce', 'n07860988': 'dough', 'n07871810': 'meat_loaf', 'n07873807': 'pizza', 'n07875152': 'potpie', 'n07880968': 'burrito', 'n07892512': 'red_wine', 'n07920052': 'espresso', 'n07930864': 'cup', 'n07932039': 'eggnog', 'n09193705': 'alp', 'n09229709': 'bubble', 'n09246464': 'cliff', 'n09256479': 'coral_reef', 'n09288635': 'geyser', 'n09332890': 'lakeside', 'n09399592': 'promontory', 'n09421951': 'sandbar', 'n09428293': 'seashore', 'n09468604': 'valley', 'n09472597': 'volcano', 'n09835506': 'ballplayer', 'n10148035': 'groom', 'n10565667': 'scuba_diver', 'n11879895': 'rapeseed', 'n11939491': 'daisy', 'n12057211': \"yellow_lady's_slipper\", 'n12144580': 'corn', 'n12267677': 'acorn', 'n12620546': 'hip', 'n12768682': 'buckeye', 'n12985857': 'coral_fungus', 'n12998815': 'agaric', 'n13037406': 'gyromitra', 'n13040303': 'stinkhorn', 'n13044778': 'earthstar', 'n13052670': 'hen-of-the-woods', 'n13054560': 'bolete', 'n13133613': 'ear', 'n15075141': 'toilet_tissue'}\n"
     ]
    }
   ],
   "source": [
    "# from https://github.com/raghakot/keras-vis/blob/master/resources/imagenet_class_index.json\n",
    "\n",
    "#imap = {\"0\": [\"n01440764\", \"tench\"], \"1\": [\"n01443537\", \"goldfish\"], \"2\": [\"n01484850\", \"great_white_shark\"], \"3\": [\"n01491361\", \"tiger_shark\"], \"4\": [\"n01494475\", \"hammerhead\"], \"5\": [\"n01496331\", \"electric_ray\"], \"6\": [\"n01498041\", \"stingray\"], \"7\": [\"n01514668\", \"cock\"], \"8\": [\"n01514859\", \"hen\"], \"9\": [\"n01518878\", \"ostrich\"], \"10\": [\"n01530575\", \"brambling\"], \"11\": [\"n01531178\", \"goldfinch\"], \"12\": [\"n01532829\", \"house_finch\"], \"13\": [\"n01534433\", \"junco\"], \"14\": [\"n01537544\", \"indigo_bunting\"], \"15\": [\"n01558993\", \"robin\"], \"16\": [\"n01560419\", \"bulbul\"], \"17\": [\"n01580077\", \"jay\"], \"18\": [\"n01582220\", \"magpie\"], \"19\": [\"n01592084\", \"chickadee\"], \"20\": [\"n01601694\", \"water_ouzel\"], \"21\": [\"n01608432\", \"kite\"], \"22\": [\"n01614925\", \"bald_eagle\"], \"23\": [\"n01616318\", \"vulture\"], \"24\": [\"n01622779\", \"great_grey_owl\"], \"25\": [\"n01629819\", \"European_fire_salamander\"], \"26\": [\"n01630670\", \"common_newt\"], \"27\": [\"n01631663\", \"eft\"], \"28\": [\"n01632458\", \"spotted_salamander\"], \"29\": [\"n01632777\", \"axolotl\"], \"30\": [\"n01641577\", \"bullfrog\"], \"31\": [\"n01644373\", \"tree_frog\"], \"32\": [\"n01644900\", \"tailed_frog\"], \"33\": [\"n01664065\", \"loggerhead\"], \"34\": [\"n01665541\", \"leatherback_turtle\"], \"35\": [\"n01667114\", \"mud_turtle\"], \"36\": [\"n01667778\", \"terrapin\"], \"37\": [\"n01669191\", \"box_turtle\"], \"38\": [\"n01675722\", \"banded_gecko\"], \"39\": [\"n01677366\", \"common_iguana\"], \"40\": [\"n01682714\", \"American_chameleon\"], \"41\": [\"n01685808\", \"whiptail\"], \"42\": [\"n01687978\", \"agama\"], \"43\": [\"n01688243\", \"frilled_lizard\"], \"44\": [\"n01689811\", \"alligator_lizard\"], \"45\": [\"n01692333\", \"Gila_monster\"], \"46\": [\"n01693334\", \"green_lizard\"], \"47\": [\"n01694178\", \"African_chameleon\"], \"48\": [\"n01695060\", \"Komodo_dragon\"], \"49\": [\"n01697457\", \"African_crocodile\"], \"50\": [\"n01698640\", \"American_alligator\"], \"51\": [\"n01704323\", \"triceratops\"], \"52\": [\"n01728572\", \"thunder_snake\"], \"53\": [\"n01728920\", \"ringneck_snake\"], \"54\": [\"n01729322\", \"hognose_snake\"], \"55\": [\"n01729977\", \"green_snake\"], \"56\": [\"n01734418\", \"king_snake\"], \"57\": [\"n01735189\", \"garter_snake\"], \"58\": [\"n01737021\", \"water_snake\"], \"59\": [\"n01739381\", \"vine_snake\"], \"60\": [\"n01740131\", \"night_snake\"], \"61\": [\"n01742172\", \"boa_constrictor\"], \"62\": [\"n01744401\", \"rock_python\"], \"63\": [\"n01748264\", \"Indian_cobra\"], \"64\": [\"n01749939\", \"green_mamba\"], \"65\": [\"n01751748\", \"sea_snake\"], \"66\": [\"n01753488\", \"horned_viper\"], \"67\": [\"n01755581\", \"diamondback\"], \"68\": [\"n01756291\", \"sidewinder\"], \"69\": [\"n01768244\", \"trilobite\"], \"70\": [\"n01770081\", \"harvestman\"], \"71\": [\"n01770393\", \"scorpion\"], \"72\": [\"n01773157\", \"black_and_gold_garden_spider\"], \"73\": [\"n01773549\", \"barn_spider\"], \"74\": [\"n01773797\", \"garden_spider\"], \"75\": [\"n01774384\", \"black_widow\"], \"76\": [\"n01774750\", \"tarantula\"], \"77\": [\"n01775062\", \"wolf_spider\"], \"78\": [\"n01776313\", \"tick\"], \"79\": [\"n01784675\", \"centipede\"], \"80\": [\"n01795545\", \"black_grouse\"], \"81\": [\"n01796340\", \"ptarmigan\"], \"82\": [\"n01797886\", \"ruffed_grouse\"], \"83\": [\"n01798484\", \"prairie_chicken\"], \"84\": [\"n01806143\", \"peacock\"], \"85\": [\"n01806567\", \"quail\"], \"86\": [\"n01807496\", \"partridge\"], \"87\": [\"n01817953\", \"African_grey\"], \"88\": [\"n01818515\", \"macaw\"], \"89\": [\"n01819313\", \"sulphur-crested_cockatoo\"], \"90\": [\"n01820546\", \"lorikeet\"], \"91\": [\"n01824575\", \"coucal\"], \"92\": [\"n01828970\", \"bee_eater\"], \"93\": [\"n01829413\", \"hornbill\"], \"94\": [\"n01833805\", \"hummingbird\"], \"95\": [\"n01843065\", \"jacamar\"], \"96\": [\"n01843383\", \"toucan\"], \"97\": [\"n01847000\", \"drake\"], \"98\": [\"n01855032\", \"red-breasted_merganser\"], \"99\": [\"n01855672\", \"goose\"], \"100\": [\"n01860187\", \"black_swan\"], \"101\": [\"n01871265\", \"tusker\"], \"102\": [\"n01872401\", \"echidna\"], \"103\": [\"n01873310\", \"platypus\"], \"104\": [\"n01877812\", \"wallaby\"], \"105\": [\"n01882714\", \"koala\"], \"106\": [\"n01883070\", \"wombat\"], \"107\": [\"n01910747\", \"jellyfish\"], \"108\": [\"n01914609\", \"sea_anemone\"], \"109\": [\"n01917289\", \"brain_coral\"], \"110\": [\"n01924916\", \"flatworm\"], \"111\": [\"n01930112\", \"nematode\"], \"112\": [\"n01943899\", \"conch\"], \"113\": [\"n01944390\", \"snail\"], \"114\": [\"n01945685\", \"slug\"], \"115\": [\"n01950731\", \"sea_slug\"], \"116\": [\"n01955084\", \"chiton\"], \"117\": [\"n01968897\", \"chambered_nautilus\"], \"118\": [\"n01978287\", \"Dungeness_crab\"], \"119\": [\"n01978455\", \"rock_crab\"], \"120\": [\"n01980166\", \"fiddler_crab\"], \"121\": [\"n01981276\", \"king_crab\"], \"122\": [\"n01983481\", \"American_lobster\"], \"123\": [\"n01984695\", \"spiny_lobster\"], \"124\": [\"n01985128\", \"crayfish\"], \"125\": [\"n01986214\", \"hermit_crab\"], \"126\": [\"n01990800\", \"isopod\"], \"127\": [\"n02002556\", \"white_stork\"], \"128\": [\"n02002724\", \"black_stork\"], \"129\": [\"n02006656\", \"spoonbill\"], \"130\": [\"n02007558\", \"flamingo\"], \"131\": [\"n02009229\", \"little_blue_heron\"], \"132\": [\"n02009912\", \"American_egret\"], \"133\": [\"n02011460\", \"bittern\"], \"134\": [\"n02012849\", \"crane\"], \"135\": [\"n02013706\", \"limpkin\"], \"136\": [\"n02017213\", \"European_gallinule\"], \"137\": [\"n02018207\", \"American_coot\"], \"138\": [\"n02018795\", \"bustard\"], \"139\": [\"n02025239\", \"ruddy_turnstone\"], \"140\": [\"n02027492\", \"red-backed_sandpiper\"], \"141\": [\"n02028035\", \"redshank\"], \"142\": [\"n02033041\", \"dowitcher\"], \"143\": [\"n02037110\", \"oystercatcher\"], \"144\": [\"n02051845\", \"pelican\"], \"145\": [\"n02056570\", \"king_penguin\"], \"146\": [\"n02058221\", \"albatross\"], \"147\": [\"n02066245\", \"grey_whale\"], \"148\": [\"n02071294\", \"killer_whale\"], \"149\": [\"n02074367\", \"dugong\"], \"150\": [\"n02077923\", \"sea_lion\"], \"151\": [\"n02085620\", \"Chihuahua\"], \"152\": [\"n02085782\", \"Japanese_spaniel\"], \"153\": [\"n02085936\", \"Maltese_dog\"], \"154\": [\"n02086079\", \"Pekinese\"], \"155\": [\"n02086240\", \"Shih-Tzu\"], \"156\": [\"n02086646\", \"Blenheim_spaniel\"], \"157\": [\"n02086910\", \"papillon\"], \"158\": [\"n02087046\", \"toy_terrier\"], \"159\": [\"n02087394\", \"Rhodesian_ridgeback\"], \"160\": [\"n02088094\", \"Afghan_hound\"], \"161\": [\"n02088238\", \"basset\"], \"162\": [\"n02088364\", \"beagle\"], \"163\": [\"n02088466\", \"bloodhound\"], \"164\": [\"n02088632\", \"bluetick\"], \"165\": [\"n02089078\", \"black-and-tan_coonhound\"], \"166\": [\"n02089867\", \"Walker_hound\"], \"167\": [\"n02089973\", \"English_foxhound\"], \"168\": [\"n02090379\", \"redbone\"], \"169\": [\"n02090622\", \"borzoi\"], \"170\": [\"n02090721\", \"Irish_wolfhound\"], \"171\": [\"n02091032\", \"Italian_greyhound\"], \"172\": [\"n02091134\", \"whippet\"], \"173\": [\"n02091244\", \"Ibizan_hound\"], \"174\": [\"n02091467\", \"Norwegian_elkhound\"], \"175\": [\"n02091635\", \"otterhound\"], \"176\": [\"n02091831\", \"Saluki\"], \"177\": [\"n02092002\", \"Scottish_deerhound\"], \"178\": [\"n02092339\", \"Weimaraner\"], \"179\": [\"n02093256\", \"Staffordshire_bullterrier\"], \"180\": [\"n02093428\", \"American_Staffordshire_terrier\"], \"181\": [\"n02093647\", \"Bedlington_terrier\"], \"182\": [\"n02093754\", \"Border_terrier\"], \"183\": [\"n02093859\", \"Kerry_blue_terrier\"], \"184\": [\"n02093991\", \"Irish_terrier\"], \"185\": [\"n02094114\", \"Norfolk_terrier\"], \"186\": [\"n02094258\", \"Norwich_terrier\"], \"187\": [\"n02094433\", \"Yorkshire_terrier\"], \"188\": [\"n02095314\", \"wire-haired_fox_terrier\"], \"189\": [\"n02095570\", \"Lakeland_terrier\"], \"190\": [\"n02095889\", \"Sealyham_terrier\"], \"191\": [\"n02096051\", \"Airedale\"], \"192\": [\"n02096177\", \"cairn\"], \"193\": [\"n02096294\", \"Australian_terrier\"], \"194\": [\"n02096437\", \"Dandie_Dinmont\"], \"195\": [\"n02096585\", \"Boston_bull\"], \"196\": [\"n02097047\", \"miniature_schnauzer\"], \"197\": [\"n02097130\", \"giant_schnauzer\"], \"198\": [\"n02097209\", \"standard_schnauzer\"], \"199\": [\"n02097298\", \"Scotch_terrier\"], \"200\": [\"n02097474\", \"Tibetan_terrier\"], \"201\": [\"n02097658\", \"silky_terrier\"], \"202\": [\"n02098105\", \"soft-coated_wheaten_terrier\"], \"203\": [\"n02098286\", \"West_Highland_white_terrier\"], \"204\": [\"n02098413\", \"Lhasa\"], \"205\": [\"n02099267\", \"flat-coated_retriever\"], \"206\": [\"n02099429\", \"curly-coated_retriever\"], \"207\": [\"n02099601\", \"golden_retriever\"], \"208\": [\"n02099712\", \"Labrador_retriever\"], \"209\": [\"n02099849\", \"Chesapeake_Bay_retriever\"], \"210\": [\"n02100236\", \"German_short-haired_pointer\"], \"211\": [\"n02100583\", \"vizsla\"], \"212\": [\"n02100735\", \"English_setter\"], \"213\": [\"n02100877\", \"Irish_setter\"], \"214\": [\"n02101006\", \"Gordon_setter\"], \"215\": [\"n02101388\", \"Brittany_spaniel\"], \"216\": [\"n02101556\", \"clumber\"], \"217\": [\"n02102040\", \"English_springer\"], \"218\": [\"n02102177\", \"Welsh_springer_spaniel\"], \"219\": [\"n02102318\", \"cocker_spaniel\"], \"220\": [\"n02102480\", \"Sussex_spaniel\"], \"221\": [\"n02102973\", \"Irish_water_spaniel\"], \"222\": [\"n02104029\", \"kuvasz\"], \"223\": [\"n02104365\", \"schipperke\"], \"224\": [\"n02105056\", \"groenendael\"], \"225\": [\"n02105162\", \"malinois\"], \"226\": [\"n02105251\", \"briard\"], \"227\": [\"n02105412\", \"kelpie\"], \"228\": [\"n02105505\", \"komondor\"], \"229\": [\"n02105641\", \"Old_English_sheepdog\"], \"230\": [\"n02105855\", \"Shetland_sheepdog\"], \"231\": [\"n02106030\", \"collie\"], \"232\": [\"n02106166\", \"Border_collie\"], \"233\": [\"n02106382\", \"Bouvier_des_Flandres\"], \"234\": [\"n02106550\", \"Rottweiler\"], \"235\": [\"n02106662\", \"German_shepherd\"], \"236\": [\"n02107142\", \"Doberman\"], \"237\": [\"n02107312\", \"miniature_pinscher\"], \"238\": [\"n02107574\", \"Greater_Swiss_Mountain_dog\"], \"239\": [\"n02107683\", \"Bernese_mountain_dog\"], \"240\": [\"n02107908\", \"Appenzeller\"], \"241\": [\"n02108000\", \"EntleBucher\"], \"242\": [\"n02108089\", \"boxer\"], \"243\": [\"n02108422\", \"bull_mastiff\"], \"244\": [\"n02108551\", \"Tibetan_mastiff\"], \"245\": [\"n02108915\", \"French_bulldog\"], \"246\": [\"n02109047\", \"Great_Dane\"], \"247\": [\"n02109525\", \"Saint_Bernard\"], \"248\": [\"n02109961\", \"Eskimo_dog\"], \"249\": [\"n02110063\", \"malamute\"], \"250\": [\"n02110185\", \"Siberian_husky\"], \"251\": [\"n02110341\", \"dalmatian\"], \"252\": [\"n02110627\", \"affenpinscher\"], \"253\": [\"n02110806\", \"basenji\"], \"254\": [\"n02110958\", \"pug\"], \"255\": [\"n02111129\", \"Leonberg\"], \"256\": [\"n02111277\", \"Newfoundland\"], \"257\": [\"n02111500\", \"Great_Pyrenees\"], \"258\": [\"n02111889\", \"Samoyed\"], \"259\": [\"n02112018\", \"Pomeranian\"], \"260\": [\"n02112137\", \"chow\"], \"261\": [\"n02112350\", \"keeshond\"], \"262\": [\"n02112706\", \"Brabancon_griffon\"], \"263\": [\"n02113023\", \"Pembroke\"], \"264\": [\"n02113186\", \"Cardigan\"], \"265\": [\"n02113624\", \"toy_poodle\"], \"266\": [\"n02113712\", \"miniature_poodle\"], \"267\": [\"n02113799\", \"standard_poodle\"], \"268\": [\"n02113978\", \"Mexican_hairless\"], \"269\": [\"n02114367\", \"timber_wolf\"], \"270\": [\"n02114548\", \"white_wolf\"], \"271\": [\"n02114712\", \"red_wolf\"], \"272\": [\"n02114855\", \"coyote\"], \"273\": [\"n02115641\", \"dingo\"], \"274\": [\"n02115913\", \"dhole\"], \"275\": [\"n02116738\", \"African_hunting_dog\"], \"276\": [\"n02117135\", \"hyena\"], \"277\": [\"n02119022\", \"red_fox\"], \"278\": [\"n02119789\", \"kit_fox\"], \"279\": [\"n02120079\", \"Arctic_fox\"], \"280\": [\"n02120505\", \"grey_fox\"], \"281\": [\"n02123045\", \"tabby\"], \"282\": [\"n02123159\", \"tiger_cat\"], \"283\": [\"n02123394\", \"Persian_cat\"], \"284\": [\"n02123597\", \"Siamese_cat\"], \"285\": [\"n02124075\", \"Egyptian_cat\"], \"286\": [\"n02125311\", \"cougar\"], \"287\": [\"n02127052\", \"lynx\"], \"288\": [\"n02128385\", \"leopard\"], \"289\": [\"n02128757\", \"snow_leopard\"], \"290\": [\"n02128925\", \"jaguar\"], \"291\": [\"n02129165\", \"lion\"], \"292\": [\"n02129604\", \"tiger\"], \"293\": [\"n02130308\", \"cheetah\"], \"294\": [\"n02132136\", \"brown_bear\"], \"295\": [\"n02133161\", \"American_black_bear\"], \"296\": [\"n02134084\", \"ice_bear\"], \"297\": [\"n02134418\", \"sloth_bear\"], \"298\": [\"n02137549\", \"mongoose\"], \"299\": [\"n02138441\", \"meerkat\"], \"300\": [\"n02165105\", \"tiger_beetle\"], \"301\": [\"n02165456\", \"ladybug\"], \"302\": [\"n02167151\", \"ground_beetle\"], \"303\": [\"n02168699\", \"long-horned_beetle\"], \"304\": [\"n02169497\", \"leaf_beetle\"], \"305\": [\"n02172182\", \"dung_beetle\"], \"306\": [\"n02174001\", \"rhinoceros_beetle\"], \"307\": [\"n02177972\", \"weevil\"], \"308\": [\"n02190166\", \"fly\"], \"309\": [\"n02206856\", \"bee\"], \"310\": [\"n02219486\", \"ant\"], \"311\": [\"n02226429\", \"grasshopper\"], \"312\": [\"n02229544\", \"cricket\"], \"313\": [\"n02231487\", \"walking_stick\"], \"314\": [\"n02233338\", \"cockroach\"], \"315\": [\"n02236044\", \"mantis\"], \"316\": [\"n02256656\", \"cicada\"], \"317\": [\"n02259212\", \"leafhopper\"], \"318\": [\"n02264363\", \"lacewing\"], \"319\": [\"n02268443\", \"dragonfly\"], \"320\": [\"n02268853\", \"damselfly\"], \"321\": [\"n02276258\", \"admiral\"], \"322\": [\"n02277742\", \"ringlet\"], \"323\": [\"n02279972\", \"monarch\"], \"324\": [\"n02280649\", \"cabbage_butterfly\"], \"325\": [\"n02281406\", \"sulphur_butterfly\"], \"326\": [\"n02281787\", \"lycaenid\"], \"327\": [\"n02317335\", \"starfish\"], \"328\": [\"n02319095\", \"sea_urchin\"], \"329\": [\"n02321529\", \"sea_cucumber\"], \"330\": [\"n02325366\", \"wood_rabbit\"], \"331\": [\"n02326432\", \"hare\"], \"332\": [\"n02328150\", \"Angora\"], \"333\": [\"n02342885\", \"hamster\"], \"334\": [\"n02346627\", \"porcupine\"], \"335\": [\"n02356798\", \"fox_squirrel\"], \"336\": [\"n02361337\", \"marmot\"], \"337\": [\"n02363005\", \"beaver\"], \"338\": [\"n02364673\", \"guinea_pig\"], \"339\": [\"n02389026\", \"sorrel\"], \"340\": [\"n02391049\", \"zebra\"], \"341\": [\"n02395406\", \"hog\"], \"342\": [\"n02396427\", \"wild_boar\"], \"343\": [\"n02397096\", \"warthog\"], \"344\": [\"n02398521\", \"hippopotamus\"], \"345\": [\"n02403003\", \"ox\"], \"346\": [\"n02408429\", \"water_buffalo\"], \"347\": [\"n02410509\", \"bison\"], \"348\": [\"n02412080\", \"ram\"], \"349\": [\"n02415577\", \"bighorn\"], \"350\": [\"n02417914\", \"ibex\"], \"351\": [\"n02422106\", \"hartebeest\"], \"352\": [\"n02422699\", \"impala\"], \"353\": [\"n02423022\", \"gazelle\"], \"354\": [\"n02437312\", \"Arabian_camel\"], \"355\": [\"n02437616\", \"llama\"], \"356\": [\"n02441942\", \"weasel\"], \"357\": [\"n02442845\", \"mink\"], \"358\": [\"n02443114\", \"polecat\"], \"359\": [\"n02443484\", \"black-footed_ferret\"], \"360\": [\"n02444819\", \"otter\"], \"361\": [\"n02445715\", \"skunk\"], \"362\": [\"n02447366\", \"badger\"], \"363\": [\"n02454379\", \"armadillo\"], \"364\": [\"n02457408\", \"three-toed_sloth\"], \"365\": [\"n02480495\", \"orangutan\"], \"366\": [\"n02480855\", \"gorilla\"], \"367\": [\"n02481823\", \"chimpanzee\"], \"368\": [\"n02483362\", \"gibbon\"], \"369\": [\"n02483708\", \"siamang\"], \"370\": [\"n02484975\", \"guenon\"], \"371\": [\"n02486261\", \"patas\"], \"372\": [\"n02486410\", \"baboon\"], \"373\": [\"n02487347\", \"macaque\"], \"374\": [\"n02488291\", \"langur\"], \"375\": [\"n02488702\", \"colobus\"], \"376\": [\"n02489166\", \"proboscis_monkey\"], \"377\": [\"n02490219\", \"marmoset\"], \"378\": [\"n02492035\", \"capuchin\"], \"379\": [\"n02492660\", \"howler_monkey\"], \"380\": [\"n02493509\", \"titi\"], \"381\": [\"n02493793\", \"spider_monkey\"], \"382\": [\"n02494079\", \"squirrel_monkey\"], \"383\": [\"n02497673\", \"Madagascar_cat\"], \"384\": [\"n02500267\", \"indri\"], \"385\": [\"n02504013\", \"Indian_elephant\"], \"386\": [\"n02504458\", \"African_elephant\"], \"387\": [\"n02509815\", \"lesser_panda\"], \"388\": [\"n02510455\", \"giant_panda\"], \"389\": [\"n02514041\", \"barracouta\"], \"390\": [\"n02526121\", \"eel\"], \"391\": [\"n02536864\", \"coho\"], \"392\": [\"n02606052\", \"rock_beauty\"], \"393\": [\"n02607072\", \"anemone_fish\"], \"394\": [\"n02640242\", \"sturgeon\"], \"395\": [\"n02641379\", \"gar\"], \"396\": [\"n02643566\", \"lionfish\"], \"397\": [\"n02655020\", \"puffer\"], \"398\": [\"n02666196\", \"abacus\"], \"399\": [\"n02667093\", \"abaya\"], \"400\": [\"n02669723\", \"academic_gown\"], \"401\": [\"n02672831\", \"accordion\"], \"402\": [\"n02676566\", \"acoustic_guitar\"], \"403\": [\"n02687172\", \"aircraft_carrier\"], \"404\": [\"n02690373\", \"airliner\"], \"405\": [\"n02692877\", \"airship\"], \"406\": [\"n02699494\", \"altar\"], \"407\": [\"n02701002\", \"ambulance\"], \"408\": [\"n02704792\", \"amphibian\"], \"409\": [\"n02708093\", \"analog_clock\"], \"410\": [\"n02727426\", \"apiary\"], \"411\": [\"n02730930\", \"apron\"], \"412\": [\"n02747177\", \"ashcan\"], \"413\": [\"n02749479\", \"assault_rifle\"], \"414\": [\"n02769748\", \"backpack\"], \"415\": [\"n02776631\", \"bakery\"], \"416\": [\"n02777292\", \"balance_beam\"], \"417\": [\"n02782093\", \"balloon\"], \"418\": [\"n02783161\", \"ballpoint\"], \"419\": [\"n02786058\", \"Band_Aid\"], \"420\": [\"n02787622\", \"banjo\"], \"421\": [\"n02788148\", \"bannister\"], \"422\": [\"n02790996\", \"barbell\"], \"423\": [\"n02791124\", \"barber_chair\"], \"424\": [\"n02791270\", \"barbershop\"], \"425\": [\"n02793495\", \"barn\"], \"426\": [\"n02794156\", \"barometer\"], \"427\": [\"n02795169\", \"barrel\"], \"428\": [\"n02797295\", \"barrow\"], \"429\": [\"n02799071\", \"baseball\"], \"430\": [\"n02802426\", \"basketball\"], \"431\": [\"n02804414\", \"bassinet\"], \"432\": [\"n02804610\", \"bassoon\"], \"433\": [\"n02807133\", \"bathing_cap\"], \"434\": [\"n02808304\", \"bath_towel\"], \"435\": [\"n02808440\", \"bathtub\"], \"436\": [\"n02814533\", \"beach_wagon\"], \"437\": [\"n02814860\", \"beacon\"], \"438\": [\"n02815834\", \"beaker\"], \"439\": [\"n02817516\", \"bearskin\"], \"440\": [\"n02823428\", \"beer_bottle\"], \"441\": [\"n02823750\", \"beer_glass\"], \"442\": [\"n02825657\", \"bell_cote\"], \"443\": [\"n02834397\", \"bib\"], \"444\": [\"n02835271\", \"bicycle-built-for-two\"], \"445\": [\"n02837789\", \"bikini\"], \"446\": [\"n02840245\", \"binder\"], \"447\": [\"n02841315\", \"binoculars\"], \"448\": [\"n02843684\", \"birdhouse\"], \"449\": [\"n02859443\", \"boathouse\"], \"450\": [\"n02860847\", \"bobsled\"], \"451\": [\"n02865351\", \"bolo_tie\"], \"452\": [\"n02869837\", \"bonnet\"], \"453\": [\"n02870880\", \"bookcase\"], \"454\": [\"n02871525\", \"bookshop\"], \"455\": [\"n02877765\", \"bottlecap\"], \"456\": [\"n02879718\", \"bow\"], \"457\": [\"n02883205\", \"bow_tie\"], \"458\": [\"n02892201\", \"brass\"], \"459\": [\"n02892767\", \"brassiere\"], \"460\": [\"n02894605\", \"breakwater\"], \"461\": [\"n02895154\", \"breastplate\"], \"462\": [\"n02906734\", \"broom\"], \"463\": [\"n02909870\", \"bucket\"], \"464\": [\"n02910353\", \"buckle\"], \"465\": [\"n02916936\", \"bulletproof_vest\"], \"466\": [\"n02917067\", \"bullet_train\"], \"467\": [\"n02927161\", \"butcher_shop\"], \"468\": [\"n02930766\", \"cab\"], \"469\": [\"n02939185\", \"caldron\"], \"470\": [\"n02948072\", \"candle\"], \"471\": [\"n02950826\", \"cannon\"], \"472\": [\"n02951358\", \"canoe\"], \"473\": [\"n02951585\", \"can_opener\"], \"474\": [\"n02963159\", \"cardigan\"], \"475\": [\"n02965783\", \"car_mirror\"], \"476\": [\"n02966193\", \"carousel\"], \"477\": [\"n02966687\", \"carpenter's_kit\"], \"478\": [\"n02971356\", \"carton\"], \"479\": [\"n02974003\", \"car_wheel\"], \"480\": [\"n02977058\", \"cash_machine\"], \"481\": [\"n02978881\", \"cassette\"], \"482\": [\"n02979186\", \"cassette_player\"], \"483\": [\"n02980441\", \"castle\"], \"484\": [\"n02981792\", \"catamaran\"], \"485\": [\"n02988304\", \"CD_player\"], \"486\": [\"n02992211\", \"cello\"], \"487\": [\"n02992529\", \"cellular_telephone\"], \"488\": [\"n02999410\", \"chain\"], \"489\": [\"n03000134\", \"chainlink_fence\"], \"490\": [\"n03000247\", \"chain_mail\"], \"491\": [\"n03000684\", \"chain_saw\"], \"492\": [\"n03014705\", \"chest\"], \"493\": [\"n03016953\", \"chiffonier\"], \"494\": [\"n03017168\", \"chime\"], \"495\": [\"n03018349\", \"china_cabinet\"], \"496\": [\"n03026506\", \"Christmas_stocking\"], \"497\": [\"n03028079\", \"church\"], \"498\": [\"n03032252\", \"cinema\"], \"499\": [\"n03041632\", \"cleaver\"], \"500\": [\"n03042490\", \"cliff_dwelling\"], \"501\": [\"n03045698\", \"cloak\"], \"502\": [\"n03047690\", \"clog\"], \"503\": [\"n03062245\", \"cocktail_shaker\"], \"504\": [\"n03063599\", \"coffee_mug\"], \"505\": [\"n03063689\", \"coffeepot\"], \"506\": [\"n03065424\", \"coil\"], \"507\": [\"n03075370\", \"combination_lock\"], \"508\": [\"n03085013\", \"computer_keyboard\"], \"509\": [\"n03089624\", \"confectionery\"], \"510\": [\"n03095699\", \"container_ship\"], \"511\": [\"n03100240\", \"convertible\"], \"512\": [\"n03109150\", \"corkscrew\"], \"513\": [\"n03110669\", \"cornet\"], \"514\": [\"n03124043\", \"cowboy_boot\"], \"515\": [\"n03124170\", \"cowboy_hat\"], \"516\": [\"n03125729\", \"cradle\"], \"517\": [\"n03126707\", \"crane\"], \"518\": [\"n03127747\", \"crash_helmet\"], \"519\": [\"n03127925\", \"crate\"], \"520\": [\"n03131574\", \"crib\"], \"521\": [\"n03133878\", \"Crock_Pot\"], \"522\": [\"n03134739\", \"croquet_ball\"], \"523\": [\"n03141823\", \"crutch\"], \"524\": [\"n03146219\", \"cuirass\"], \"525\": [\"n03160309\", \"dam\"], \"526\": [\"n03179701\", \"desk\"], \"527\": [\"n03180011\", \"desktop_computer\"], \"528\": [\"n03187595\", \"dial_telephone\"], \"529\": [\"n03188531\", \"diaper\"], \"530\": [\"n03196217\", \"digital_clock\"], \"531\": [\"n03197337\", \"digital_watch\"], \"532\": [\"n03201208\", \"dining_table\"], \"533\": [\"n03207743\", \"dishrag\"], \"534\": [\"n03207941\", \"dishwasher\"], \"535\": [\"n03208938\", \"disk_brake\"], \"536\": [\"n03216828\", \"dock\"], \"537\": [\"n03218198\", \"dogsled\"], \"538\": [\"n03220513\", \"dome\"], \"539\": [\"n03223299\", \"doormat\"], \"540\": [\"n03240683\", \"drilling_platform\"], \"541\": [\"n03249569\", \"drum\"], \"542\": [\"n03250847\", \"drumstick\"], \"543\": [\"n03255030\", \"dumbbell\"], \"544\": [\"n03259280\", \"Dutch_oven\"], \"545\": [\"n03271574\", \"electric_fan\"], \"546\": [\"n03272010\", \"electric_guitar\"], \"547\": [\"n03272562\", \"electric_locomotive\"], \"548\": [\"n03290653\", \"entertainment_center\"], \"549\": [\"n03291819\", \"envelope\"], \"550\": [\"n03297495\", \"espresso_maker\"], \"551\": [\"n03314780\", \"face_powder\"], \"552\": [\"n03325584\", \"feather_boa\"], \"553\": [\"n03337140\", \"file\"], \"554\": [\"n03344393\", \"fireboat\"], \"555\": [\"n03345487\", \"fire_engine\"], \"556\": [\"n03347037\", \"fire_screen\"], \"557\": [\"n03355925\", \"flagpole\"], \"558\": [\"n03372029\", \"flute\"], \"559\": [\"n03376595\", \"folding_chair\"], \"560\": [\"n03379051\", \"football_helmet\"], \"561\": [\"n03384352\", \"forklift\"], \"562\": [\"n03388043\", \"fountain\"], \"563\": [\"n03388183\", \"fountain_pen\"], \"564\": [\"n03388549\", \"four-poster\"], \"565\": [\"n03393912\", \"freight_car\"], \"566\": [\"n03394916\", \"French_horn\"], \"567\": [\"n03400231\", \"frying_pan\"], \"568\": [\"n03404251\", \"fur_coat\"], \"569\": [\"n03417042\", \"garbage_truck\"], \"570\": [\"n03424325\", \"gasmask\"], \"571\": [\"n03425413\", \"gas_pump\"], \"572\": [\"n03443371\", \"goblet\"], \"573\": [\"n03444034\", \"go-kart\"], \"574\": [\"n03445777\", \"golf_ball\"], \"575\": [\"n03445924\", \"golfcart\"], \"576\": [\"n03447447\", \"gondola\"], \"577\": [\"n03447721\", \"gong\"], \"578\": [\"n03450230\", \"gown\"], \"579\": [\"n03452741\", \"grand_piano\"], \"580\": [\"n03457902\", \"greenhouse\"], \"581\": [\"n03459775\", \"grille\"], \"582\": [\"n03461385\", \"grocery_store\"], \"583\": [\"n03467068\", \"guillotine\"], \"584\": [\"n03476684\", \"hair_slide\"], \"585\": [\"n03476991\", \"hair_spray\"], \"586\": [\"n03478589\", \"half_track\"], \"587\": [\"n03481172\", \"hammer\"], \"588\": [\"n03482405\", \"hamper\"], \"589\": [\"n03483316\", \"hand_blower\"], \"590\": [\"n03485407\", \"hand-held_computer\"], \"591\": [\"n03485794\", \"handkerchief\"], \"592\": [\"n03492542\", \"hard_disc\"], \"593\": [\"n03494278\", \"harmonica\"], \"594\": [\"n03495258\", \"harp\"], \"595\": [\"n03496892\", \"harvester\"], \"596\": [\"n03498962\", \"hatchet\"], \"597\": [\"n03527444\", \"holster\"], \"598\": [\"n03529860\", \"home_theater\"], \"599\": [\"n03530642\", \"honeycomb\"], \"600\": [\"n03532672\", \"hook\"], \"601\": [\"n03534580\", \"hoopskirt\"], \"602\": [\"n03535780\", \"horizontal_bar\"], \"603\": [\"n03538406\", \"horse_cart\"], \"604\": [\"n03544143\", \"hourglass\"], \"605\": [\"n03584254\", \"iPod\"], \"606\": [\"n03584829\", \"iron\"], \"607\": [\"n03590841\", \"jack-o'-lantern\"], \"608\": [\"n03594734\", \"jean\"], \"609\": [\"n03594945\", \"jeep\"], \"610\": [\"n03595614\", \"jersey\"], \"611\": [\"n03598930\", \"jigsaw_puzzle\"], \"612\": [\"n03599486\", \"jinrikisha\"], \"613\": [\"n03602883\", \"joystick\"], \"614\": [\"n03617480\", \"kimono\"], \"615\": [\"n03623198\", \"knee_pad\"], \"616\": [\"n03627232\", \"knot\"], \"617\": [\"n03630383\", \"lab_coat\"], \"618\": [\"n03633091\", \"ladle\"], \"619\": [\"n03637318\", \"lampshade\"], \"620\": [\"n03642806\", \"laptop\"], \"621\": [\"n03649909\", \"lawn_mower\"], \"622\": [\"n03657121\", \"lens_cap\"], \"623\": [\"n03658185\", \"letter_opener\"], \"624\": [\"n03661043\", \"library\"], \"625\": [\"n03662601\", \"lifeboat\"], \"626\": [\"n03666591\", \"lighter\"], \"627\": [\"n03670208\", \"limousine\"], \"628\": [\"n03673027\", \"liner\"], \"629\": [\"n03676483\", \"lipstick\"], \"630\": [\"n03680355\", \"Loafer\"], \"631\": [\"n03690938\", \"lotion\"], \"632\": [\"n03691459\", \"loudspeaker\"], \"633\": [\"n03692522\", \"loupe\"], \"634\": [\"n03697007\", \"lumbermill\"], \"635\": [\"n03706229\", \"magnetic_compass\"], \"636\": [\"n03709823\", \"mailbag\"], \"637\": [\"n03710193\", \"mailbox\"], \"638\": [\"n03710637\", \"maillot\"], \"639\": [\"n03710721\", \"maillot\"], \"640\": [\"n03717622\", \"manhole_cover\"], \"641\": [\"n03720891\", \"maraca\"], \"642\": [\"n03721384\", \"marimba\"], \"643\": [\"n03724870\", \"mask\"], \"644\": [\"n03729826\", \"matchstick\"], \"645\": [\"n03733131\", \"maypole\"], \"646\": [\"n03733281\", \"maze\"], \"647\": [\"n03733805\", \"measuring_cup\"], \"648\": [\"n03742115\", \"medicine_chest\"], \"649\": [\"n03743016\", \"megalith\"], \"650\": [\"n03759954\", \"microphone\"], \"651\": [\"n03761084\", \"microwave\"], \"652\": [\"n03763968\", \"military_uniform\"], \"653\": [\"n03764736\", \"milk_can\"], \"654\": [\"n03769881\", \"minibus\"], \"655\": [\"n03770439\", \"miniskirt\"], \"656\": [\"n03770679\", \"minivan\"], \"657\": [\"n03773504\", \"missile\"], \"658\": [\"n03775071\", \"mitten\"], \"659\": [\"n03775546\", \"mixing_bowl\"], \"660\": [\"n03776460\", \"mobile_home\"], \"661\": [\"n03777568\", \"Model_T\"], \"662\": [\"n03777754\", \"modem\"], \"663\": [\"n03781244\", \"monastery\"], \"664\": [\"n03782006\", \"monitor\"], \"665\": [\"n03785016\", \"moped\"], \"666\": [\"n03786901\", \"mortar\"], \"667\": [\"n03787032\", \"mortarboard\"], \"668\": [\"n03788195\", \"mosque\"], \"669\": [\"n03788365\", \"mosquito_net\"], \"670\": [\"n03791053\", \"motor_scooter\"], \"671\": [\"n03792782\", \"mountain_bike\"], \"672\": [\"n03792972\", \"mountain_tent\"], \"673\": [\"n03793489\", \"mouse\"], \"674\": [\"n03794056\", \"mousetrap\"], \"675\": [\"n03796401\", \"moving_van\"], \"676\": [\"n03803284\", \"muzzle\"], \"677\": [\"n03804744\", \"nail\"], \"678\": [\"n03814639\", \"neck_brace\"], \"679\": [\"n03814906\", \"necklace\"], \"680\": [\"n03825788\", \"nipple\"], \"681\": [\"n03832673\", \"notebook\"], \"682\": [\"n03837869\", \"obelisk\"], \"683\": [\"n03838899\", \"oboe\"], \"684\": [\"n03840681\", \"ocarina\"], \"685\": [\"n03841143\", \"odometer\"], \"686\": [\"n03843555\", \"oil_filter\"], \"687\": [\"n03854065\", \"organ\"], \"688\": [\"n03857828\", \"oscilloscope\"], \"689\": [\"n03866082\", \"overskirt\"], \"690\": [\"n03868242\", \"oxcart\"], \"691\": [\"n03868863\", \"oxygen_mask\"], \"692\": [\"n03871628\", \"packet\"], \"693\": [\"n03873416\", \"paddle\"], \"694\": [\"n03874293\", \"paddlewheel\"], \"695\": [\"n03874599\", \"padlock\"], \"696\": [\"n03876231\", \"paintbrush\"], \"697\": [\"n03877472\", \"pajama\"], \"698\": [\"n03877845\", \"palace\"], \"699\": [\"n03884397\", \"panpipe\"], \"700\": [\"n03887697\", \"paper_towel\"], \"701\": [\"n03888257\", \"parachute\"], \"702\": [\"n03888605\", \"parallel_bars\"], \"703\": [\"n03891251\", \"park_bench\"], \"704\": [\"n03891332\", \"parking_meter\"], \"705\": [\"n03895866\", \"passenger_car\"], \"706\": [\"n03899768\", \"patio\"], \"707\": [\"n03902125\", \"pay-phone\"], \"708\": [\"n03903868\", \"pedestal\"], \"709\": [\"n03908618\", \"pencil_box\"], \"710\": [\"n03908714\", \"pencil_sharpener\"], \"711\": [\"n03916031\", \"perfume\"], \"712\": [\"n03920288\", \"Petri_dish\"], \"713\": [\"n03924679\", \"photocopier\"], \"714\": [\"n03929660\", \"pick\"], \"715\": [\"n03929855\", \"pickelhaube\"], \"716\": [\"n03930313\", \"picket_fence\"], \"717\": [\"n03930630\", \"pickup\"], \"718\": [\"n03933933\", \"pier\"], \"719\": [\"n03935335\", \"piggy_bank\"], \"720\": [\"n03937543\", \"pill_bottle\"], \"721\": [\"n03938244\", \"pillow\"], \"722\": [\"n03942813\", \"ping-pong_ball\"], \"723\": [\"n03944341\", \"pinwheel\"], \"724\": [\"n03947888\", \"pirate\"], \"725\": [\"n03950228\", \"pitcher\"], \"726\": [\"n03954731\", \"plane\"], \"727\": [\"n03956157\", \"planetarium\"], \"728\": [\"n03958227\", \"plastic_bag\"], \"729\": [\"n03961711\", \"plate_rack\"], \"730\": [\"n03967562\", \"plow\"], \"731\": [\"n03970156\", \"plunger\"], \"732\": [\"n03976467\", \"Polaroid_camera\"], \"733\": [\"n03976657\", \"pole\"], \"734\": [\"n03977966\", \"police_van\"], \"735\": [\"n03980874\", \"poncho\"], \"736\": [\"n03982430\", \"pool_table\"], \"737\": [\"n03983396\", \"pop_bottle\"], \"738\": [\"n03991062\", \"pot\"], \"739\": [\"n03992509\", \"potter's_wheel\"], \"740\": [\"n03995372\", \"power_drill\"], \"741\": [\"n03998194\", \"prayer_rug\"], \"742\": [\"n04004767\", \"printer\"], \"743\": [\"n04005630\", \"prison\"], \"744\": [\"n04008634\", \"projectile\"], \"745\": [\"n04009552\", \"projector\"], \"746\": [\"n04019541\", \"puck\"], \"747\": [\"n04023962\", \"punching_bag\"], \"748\": [\"n04026417\", \"purse\"], \"749\": [\"n04033901\", \"quill\"], \"750\": [\"n04033995\", \"quilt\"], \"751\": [\"n04037443\", \"racer\"], \"752\": [\"n04039381\", \"racket\"], \"753\": [\"n04040759\", \"radiator\"], \"754\": [\"n04041544\", \"radio\"], \"755\": [\"n04044716\", \"radio_telescope\"], \"756\": [\"n04049303\", \"rain_barrel\"], \"757\": [\"n04065272\", \"recreational_vehicle\"], \"758\": [\"n04067472\", \"reel\"], \"759\": [\"n04069434\", \"reflex_camera\"], \"760\": [\"n04070727\", \"refrigerator\"], \"761\": [\"n04074963\", \"remote_control\"], \"762\": [\"n04081281\", \"restaurant\"], \"763\": [\"n04086273\", \"revolver\"], \"764\": [\"n04090263\", \"rifle\"], \"765\": [\"n04099969\", \"rocking_chair\"], \"766\": [\"n04111531\", \"rotisserie\"], \"767\": [\"n04116512\", \"rubber_eraser\"], \"768\": [\"n04118538\", \"rugby_ball\"], \"769\": [\"n04118776\", \"rule\"], \"770\": [\"n04120489\", \"running_shoe\"], \"771\": [\"n04125021\", \"safe\"], \"772\": [\"n04127249\", \"safety_pin\"], \"773\": [\"n04131690\", \"saltshaker\"], \"774\": [\"n04133789\", \"sandal\"], \"775\": [\"n04136333\", \"sarong\"], \"776\": [\"n04141076\", \"sax\"], \"777\": [\"n04141327\", \"scabbard\"], \"778\": [\"n04141975\", \"scale\"], \"779\": [\"n04146614\", \"school_bus\"], \"780\": [\"n04147183\", \"schooner\"], \"781\": [\"n04149813\", \"scoreboard\"], \"782\": [\"n04152593\", \"screen\"], \"783\": [\"n04153751\", \"screw\"], \"784\": [\"n04154565\", \"screwdriver\"], \"785\": [\"n04162706\", \"seat_belt\"], \"786\": [\"n04179913\", \"sewing_machine\"], \"787\": [\"n04192698\", \"shield\"], \"788\": [\"n04200800\", \"shoe_shop\"], \"789\": [\"n04201297\", \"shoji\"], \"790\": [\"n04204238\", \"shopping_basket\"], \"791\": [\"n04204347\", \"shopping_cart\"], \"792\": [\"n04208210\", \"shovel\"], \"793\": [\"n04209133\", \"shower_cap\"], \"794\": [\"n04209239\", \"shower_curtain\"], \"795\": [\"n04228054\", \"ski\"], \"796\": [\"n04229816\", \"ski_mask\"], \"797\": [\"n04235860\", \"sleeping_bag\"], \"798\": [\"n04238763\", \"slide_rule\"], \"799\": [\"n04239074\", \"sliding_door\"], \"800\": [\"n04243546\", \"slot\"], \"801\": [\"n04251144\", \"snorkel\"], \"802\": [\"n04252077\", \"snowmobile\"], \"803\": [\"n04252225\", \"snowplow\"], \"804\": [\"n04254120\", \"soap_dispenser\"], \"805\": [\"n04254680\", \"soccer_ball\"], \"806\": [\"n04254777\", \"sock\"], \"807\": [\"n04258138\", \"solar_dish\"], \"808\": [\"n04259630\", \"sombrero\"], \"809\": [\"n04263257\", \"soup_bowl\"], \"810\": [\"n04264628\", \"space_bar\"], \"811\": [\"n04265275\", \"space_heater\"], \"812\": [\"n04266014\", \"space_shuttle\"], \"813\": [\"n04270147\", \"spatula\"], \"814\": [\"n04273569\", \"speedboat\"], \"815\": [\"n04275548\", \"spider_web\"], \"816\": [\"n04277352\", \"spindle\"], \"817\": [\"n04285008\", \"sports_car\"], \"818\": [\"n04286575\", \"spotlight\"], \"819\": [\"n04296562\", \"stage\"], \"820\": [\"n04310018\", \"steam_locomotive\"], \"821\": [\"n04311004\", \"steel_arch_bridge\"], \"822\": [\"n04311174\", \"steel_drum\"], \"823\": [\"n04317175\", \"stethoscope\"], \"824\": [\"n04325704\", \"stole\"], \"825\": [\"n04326547\", \"stone_wall\"], \"826\": [\"n04328186\", \"stopwatch\"], \"827\": [\"n04330267\", \"stove\"], \"828\": [\"n04332243\", \"strainer\"], \"829\": [\"n04335435\", \"streetcar\"], \"830\": [\"n04336792\", \"stretcher\"], \"831\": [\"n04344873\", \"studio_couch\"], \"832\": [\"n04346328\", \"stupa\"], \"833\": [\"n04347754\", \"submarine\"], \"834\": [\"n04350905\", \"suit\"], \"835\": [\"n04355338\", \"sundial\"], \"836\": [\"n04355933\", \"sunglass\"], \"837\": [\"n04356056\", \"sunglasses\"], \"838\": [\"n04357314\", \"sunscreen\"], \"839\": [\"n04366367\", \"suspension_bridge\"], \"840\": [\"n04367480\", \"swab\"], \"841\": [\"n04370456\", \"sweatshirt\"], \"842\": [\"n04371430\", \"swimming_trunks\"], \"843\": [\"n04371774\", \"swing\"], \"844\": [\"n04372370\", \"switch\"], \"845\": [\"n04376876\", \"syringe\"], \"846\": [\"n04380533\", \"table_lamp\"], \"847\": [\"n04389033\", \"tank\"], \"848\": [\"n04392985\", \"tape_player\"], \"849\": [\"n04398044\", \"teapot\"], \"850\": [\"n04399382\", \"teddy\"], \"851\": [\"n04404412\", \"television\"], \"852\": [\"n04409515\", \"tennis_ball\"], \"853\": [\"n04417672\", \"thatch\"], \"854\": [\"n04418357\", \"theater_curtain\"], \"855\": [\"n04423845\", \"thimble\"], \"856\": [\"n04428191\", \"thresher\"], \"857\": [\"n04429376\", \"throne\"], \"858\": [\"n04435653\", \"tile_roof\"], \"859\": [\"n04442312\", \"toaster\"], \"860\": [\"n04443257\", \"tobacco_shop\"], \"861\": [\"n04447861\", \"toilet_seat\"], \"862\": [\"n04456115\", \"torch\"], \"863\": [\"n04458633\", \"totem_pole\"], \"864\": [\"n04461696\", \"tow_truck\"], \"865\": [\"n04462240\", \"toyshop\"], \"866\": [\"n04465501\", \"tractor\"], \"867\": [\"n04467665\", \"trailer_truck\"], \"868\": [\"n04476259\", \"tray\"], \"869\": [\"n04479046\", \"trench_coat\"], \"870\": [\"n04482393\", \"tricycle\"], \"871\": [\"n04483307\", \"trimaran\"], \"872\": [\"n04485082\", \"tripod\"], \"873\": [\"n04486054\", \"triumphal_arch\"], \"874\": [\"n04487081\", \"trolleybus\"], \"875\": [\"n04487394\", \"trombone\"], \"876\": [\"n04493381\", \"tub\"], \"877\": [\"n04501370\", \"turnstile\"], \"878\": [\"n04505470\", \"typewriter_keyboard\"], \"879\": [\"n04507155\", \"umbrella\"], \"880\": [\"n04509417\", \"unicycle\"], \"881\": [\"n04515003\", \"upright\"], \"882\": [\"n04517823\", \"vacuum\"], \"883\": [\"n04522168\", \"vase\"], \"884\": [\"n04523525\", \"vault\"], \"885\": [\"n04525038\", \"velvet\"], \"886\": [\"n04525305\", \"vending_machine\"], \"887\": [\"n04532106\", \"vestment\"], \"888\": [\"n04532670\", \"viaduct\"], \"889\": [\"n04536866\", \"violin\"], \"890\": [\"n04540053\", \"volleyball\"], \"891\": [\"n04542943\", \"waffle_iron\"], \"892\": [\"n04548280\", \"wall_clock\"], \"893\": [\"n04548362\", \"wallet\"], \"894\": [\"n04550184\", \"wardrobe\"], \"895\": [\"n04552348\", \"warplane\"], \"896\": [\"n04553703\", \"washbasin\"], \"897\": [\"n04554684\", \"washer\"], \"898\": [\"n04557648\", \"water_bottle\"], \"899\": [\"n04560804\", \"water_jug\"], \"900\": [\"n04562935\", \"water_tower\"], \"901\": [\"n04579145\", \"whiskey_jug\"], \"902\": [\"n04579432\", \"whistle\"], \"903\": [\"n04584207\", \"wig\"], \"904\": [\"n04589890\", \"window_screen\"], \"905\": [\"n04590129\", \"window_shade\"], \"906\": [\"n04591157\", \"Windsor_tie\"], \"907\": [\"n04591713\", \"wine_bottle\"], \"908\": [\"n04592741\", \"wing\"], \"909\": [\"n04596742\", \"wok\"], \"910\": [\"n04597913\", \"wooden_spoon\"], \"911\": [\"n04599235\", \"wool\"], \"912\": [\"n04604644\", \"worm_fence\"], \"913\": [\"n04606251\", \"wreck\"], \"914\": [\"n04612504\", \"yawl\"], \"915\": [\"n04613696\", \"yurt\"], \"916\": [\"n06359193\", \"web_site\"], \"917\": [\"n06596364\", \"comic_book\"], \"918\": [\"n06785654\", \"crossword_puzzle\"], \"919\": [\"n06794110\", \"street_sign\"], \"920\": [\"n06874185\", \"traffic_light\"], \"921\": [\"n07248320\", \"book_jacket\"], \"922\": [\"n07565083\", \"menu\"], \"923\": [\"n07579787\", \"plate\"], \"924\": [\"n07583066\", \"guacamole\"], \"925\": [\"n07584110\", \"consomme\"], \"926\": [\"n07590611\", \"hot_pot\"], \"927\": [\"n07613480\", \"trifle\"], \"928\": [\"n07614500\", \"ice_cream\"], \"929\": [\"n07615774\", \"ice_lolly\"], \"930\": [\"n07684084\", \"French_loaf\"], \"931\": [\"n07693725\", \"bagel\"], \"932\": [\"n07695742\", \"pretzel\"], \"933\": [\"n07697313\", \"cheeseburger\"], \"934\": [\"n07697537\", \"hotdog\"], \"935\": [\"n07711569\", \"mashed_potato\"], \"936\": [\"n07714571\", \"head_cabbage\"], \"937\": [\"n07714990\", \"broccoli\"], \"938\": [\"n07715103\", \"cauliflower\"], \"939\": [\"n07716358\", \"zucchini\"], \"940\": [\"n07716906\", \"spaghetti_squash\"], \"941\": [\"n07717410\", \"acorn_squash\"], \"942\": [\"n07717556\", \"butternut_squash\"], \"943\": [\"n07718472\", \"cucumber\"], \"944\": [\"n07718747\", \"artichoke\"], \"945\": [\"n07720875\", \"bell_pepper\"], \"946\": [\"n07730033\", \"cardoon\"], \"947\": [\"n07734744\", \"mushroom\"], \"948\": [\"n07742313\", \"Granny_Smith\"], \"949\": [\"n07745940\", \"strawberry\"], \"950\": [\"n07747607\", \"orange\"], \"951\": [\"n07749582\", \"lemon\"], \"952\": [\"n07753113\", \"fig\"], \"953\": [\"n07753275\", \"pineapple\"], \"954\": [\"n07753592\", \"banana\"], \"955\": [\"n07754684\", \"jackfruit\"], \"956\": [\"n07760859\", \"custard_apple\"], \"957\": [\"n07768694\", \"pomegranate\"], \"958\": [\"n07802026\", \"hay\"], \"959\": [\"n07831146\", \"carbonara\"], \"960\": [\"n07836838\", \"chocolate_sauce\"], \"961\": [\"n07860988\", \"dough\"], \"962\": [\"n07871810\", \"meat_loaf\"], \"963\": [\"n07873807\", \"pizza\"], \"964\": [\"n07875152\", \"potpie\"], \"965\": [\"n07880968\", \"burrito\"], \"966\": [\"n07892512\", \"red_wine\"], \"967\": [\"n07920052\", \"espresso\"], \"968\": [\"n07930864\", \"cup\"], \"969\": [\"n07932039\", \"eggnog\"], \"970\": [\"n09193705\", \"alp\"], \"971\": [\"n09229709\", \"bubble\"], \"972\": [\"n09246464\", \"cliff\"], \"973\": [\"n09256479\", \"coral_reef\"], \"974\": [\"n09288635\", \"geyser\"], \"975\": [\"n09332890\", \"lakeside\"], \"976\": [\"n09399592\", \"promontory\"], \"977\": [\"n09421951\", \"sandbar\"], \"978\": [\"n09428293\", \"seashore\"], \"979\": [\"n09468604\", \"valley\"], \"980\": [\"n09472597\", \"volcano\"], \"981\": [\"n09835506\", \"ballplayer\"], \"982\": [\"n10148035\", \"groom\"], \"983\": [\"n10565667\", \"scuba_diver\"], \"984\": [\"n11879895\", \"rapeseed\"], \"985\": [\"n11939491\", \"daisy\"], \"986\": [\"n12057211\", \"yellow_lady's_slipper\"], \"987\": [\"n12144580\", \"corn\"], \"988\": [\"n12267677\", \"acorn\"], \"989\": [\"n12620546\", \"hip\"], \"990\": [\"n12768682\", \"buckeye\"], \"991\": [\"n12985857\", \"coral_fungus\"], \"992\": [\"n12998815\", \"agaric\"], \"993\": [\"n13037406\", \"gyromitra\"], \"994\": [\"n13040303\", \"stinkhorn\"], \"995\": [\"n13044778\", \"earthstar\"], \"996\": [\"n13052670\", \"hen-of-the-woods\"], \"997\": [\"n13054560\", \"bolete\"], \"998\": [\"n13133613\", \"ear\"], \"999\": [\"n15075141\", \"toilet_tissue\"]}\n",
    "#imap = {imap[m][0]: imap[m][1] for m in imap}\n",
    "imap = {'n01440764': 'tench', 'n01443537': 'goldfish', 'n01484850': 'great_white_shark', 'n01491361': 'tiger_shark', 'n01494475': 'hammerhead', 'n01496331': 'electric_ray', 'n01498041': 'stingray', 'n01514668': 'cock', 'n01514859': 'hen', 'n01518878': 'ostrich', 'n01530575': 'brambling', 'n01531178': 'goldfinch', 'n01532829': 'house_finch', 'n01534433': 'junco', 'n01537544': 'indigo_bunting', 'n01558993': 'robin', 'n01560419': 'bulbul', 'n01580077': 'jay', 'n01582220': 'magpie', 'n01592084': 'chickadee', 'n01601694': 'water_ouzel', 'n01608432': 'kite', 'n01614925': 'bald_eagle', 'n01616318': 'vulture', 'n01622779': 'great_grey_owl', 'n01629819': 'European_fire_salamander', 'n01630670': 'common_newt', 'n01631663': 'eft', 'n01632458': 'spotted_salamander', 'n01632777': 'axolotl', 'n01641577': 'bullfrog', 'n01644373': 'tree_frog', 'n01644900': 'tailed_frog', 'n01664065': 'loggerhead', 'n01665541': 'leatherback_turtle', 'n01667114': 'mud_turtle', 'n01667778': 'terrapin', 'n01669191': 'box_turtle', 'n01675722': 'banded_gecko', 'n01677366': 'common_iguana', 'n01682714': 'American_chameleon', 'n01685808': 'whiptail', 'n01687978': 'agama', 'n01688243': 'frilled_lizard', 'n01689811': 'alligator_lizard', 'n01692333': 'Gila_monster', 'n01693334': 'green_lizard', 'n01694178': 'African_chameleon', 'n01695060': 'Komodo_dragon', 'n01697457': 'African_crocodile', 'n01698640': 'American_alligator', 'n01704323': 'triceratops', 'n01728572': 'thunder_snake', 'n01728920': 'ringneck_snake', 'n01729322': 'hognose_snake', 'n01729977': 'green_snake', 'n01734418': 'king_snake', 'n01735189': 'garter_snake', 'n01737021': 'water_snake', 'n01739381': 'vine_snake', 'n01740131': 'night_snake', 'n01742172': 'boa_constrictor', 'n01744401': 'rock_python', 'n01748264': 'Indian_cobra', 'n01749939': 'green_mamba', 'n01751748': 'sea_snake', 'n01753488': 'horned_viper', 'n01755581': 'diamondback', 'n01756291': 'sidewinder', 'n01768244': 'trilobite', 'n01770081': 'harvestman', 'n01770393': 'scorpion', 'n01773157': 'black_and_gold_garden_spider', 'n01773549': 'barn_spider', 'n01773797': 'garden_spider', 'n01774384': 'black_widow', 'n01774750': 'tarantula', 'n01775062': 'wolf_spider', 'n01776313': 'tick', 'n01784675': 'centipede', 'n01795545': 'black_grouse', 'n01796340': 'ptarmigan', 'n01797886': 'ruffed_grouse', 'n01798484': 'prairie_chicken', 'n01806143': 'peacock', 'n01806567': 'quail', 'n01807496': 'partridge', 'n01817953': 'African_grey', 'n01818515': 'macaw', 'n01819313': 'sulphur-crested_cockatoo', 'n01820546': 'lorikeet', 'n01824575': 'coucal', 'n01828970': 'bee_eater', 'n01829413': 'hornbill', 'n01833805': 'hummingbird', 'n01843065': 'jacamar', 'n01843383': 'toucan', 'n01847000': 'drake', 'n01855032': 'red-breasted_merganser', 'n01855672': 'goose', 'n01860187': 'black_swan', 'n01871265': 'tusker', 'n01872401': 'echidna', 'n01873310': 'platypus', 'n01877812': 'wallaby', 'n01882714': 'koala', 'n01883070': 'wombat', 'n01910747': 'jellyfish', 'n01914609': 'sea_anemone', 'n01917289': 'brain_coral', 'n01924916': 'flatworm', 'n01930112': 'nematode', 'n01943899': 'conch', 'n01944390': 'snail', 'n01945685': 'slug', 'n01950731': 'sea_slug', 'n01955084': 'chiton', 'n01968897': 'chambered_nautilus', 'n01978287': 'Dungeness_crab', 'n01978455': 'rock_crab', 'n01980166': 'fiddler_crab', 'n01981276': 'king_crab', 'n01983481': 'American_lobster', 'n01984695': 'spiny_lobster', 'n01985128': 'crayfish', 'n01986214': 'hermit_crab', 'n01990800': 'isopod', 'n02002556': 'white_stork', 'n02002724': 'black_stork', 'n02006656': 'spoonbill', 'n02007558': 'flamingo', 'n02009229': 'little_blue_heron', 'n02009912': 'American_egret', 'n02011460': 'bittern', 'n02012849': 'crane', 'n02013706': 'limpkin', 'n02017213': 'European_gallinule', 'n02018207': 'American_coot', 'n02018795': 'bustard', 'n02025239': 'ruddy_turnstone', 'n02027492': 'red-backed_sandpiper', 'n02028035': 'redshank', 'n02033041': 'dowitcher', 'n02037110': 'oystercatcher', 'n02051845': 'pelican', 'n02056570': 'king_penguin', 'n02058221': 'albatross', 'n02066245': 'grey_whale', 'n02071294': 'killer_whale', 'n02074367': 'dugong', 'n02077923': 'sea_lion', 'n02085620': 'Chihuahua', 'n02085782': 'Japanese_spaniel', 'n02085936': 'Maltese_dog', 'n02086079': 'Pekinese', 'n02086240': 'Shih-Tzu', 'n02086646': 'Blenheim_spaniel', 'n02086910': 'papillon', 'n02087046': 'toy_terrier', 'n02087394': 'Rhodesian_ridgeback', 'n02088094': 'Afghan_hound', 'n02088238': 'basset', 'n02088364': 'beagle', 'n02088466': 'bloodhound', 'n02088632': 'bluetick', 'n02089078': 'black-and-tan_coonhound', 'n02089867': 'Walker_hound', 'n02089973': 'English_foxhound', 'n02090379': 'redbone', 'n02090622': 'borzoi', 'n02090721': 'Irish_wolfhound', 'n02091032': 'Italian_greyhound', 'n02091134': 'whippet', 'n02091244': 'Ibizan_hound', 'n02091467': 'Norwegian_elkhound', 'n02091635': 'otterhound', 'n02091831': 'Saluki', 'n02092002': 'Scottish_deerhound', 'n02092339': 'Weimaraner', 'n02093256': 'Staffordshire_bullterrier', 'n02093428': 'American_Staffordshire_terrier', 'n02093647': 'Bedlington_terrier', 'n02093754': 'Border_terrier', 'n02093859': 'Kerry_blue_terrier', 'n02093991': 'Irish_terrier', 'n02094114': 'Norfolk_terrier', 'n02094258': 'Norwich_terrier', 'n02094433': 'Yorkshire_terrier', 'n02095314': 'wire-haired_fox_terrier', 'n02095570': 'Lakeland_terrier', 'n02095889': 'Sealyham_terrier', 'n02096051': 'Airedale', 'n02096177': 'cairn', 'n02096294': 'Australian_terrier', 'n02096437': 'Dandie_Dinmont', 'n02096585': 'Boston_bull', 'n02097047': 'miniature_schnauzer', 'n02097130': 'giant_schnauzer', 'n02097209': 'standard_schnauzer', 'n02097298': 'Scotch_terrier', 'n02097474': 'Tibetan_terrier', 'n02097658': 'silky_terrier', 'n02098105': 'soft-coated_wheaten_terrier', 'n02098286': 'West_Highland_white_terrier', 'n02098413': 'Lhasa', 'n02099267': 'flat-coated_retriever', 'n02099429': 'curly-coated_retriever', 'n02099601': 'golden_retriever', 'n02099712': 'Labrador_retriever', 'n02099849': 'Chesapeake_Bay_retriever', 'n02100236': 'German_short-haired_pointer', 'n02100583': 'vizsla', 'n02100735': 'English_setter', 'n02100877': 'Irish_setter', 'n02101006': 'Gordon_setter', 'n02101388': 'Brittany_spaniel', 'n02101556': 'clumber', 'n02102040': 'English_springer', 'n02102177': 'Welsh_springer_spaniel', 'n02102318': 'cocker_spaniel', 'n02102480': 'Sussex_spaniel', 'n02102973': 'Irish_water_spaniel', 'n02104029': 'kuvasz', 'n02104365': 'schipperke', 'n02105056': 'groenendael', 'n02105162': 'malinois', 'n02105251': 'briard', 'n02105412': 'kelpie', 'n02105505': 'komondor', 'n02105641': 'Old_English_sheepdog', 'n02105855': 'Shetland_sheepdog', 'n02106030': 'collie', 'n02106166': 'Border_collie', 'n02106382': 'Bouvier_des_Flandres', 'n02106550': 'Rottweiler', 'n02106662': 'German_shepherd', 'n02107142': 'Doberman', 'n02107312': 'miniature_pinscher', 'n02107574': 'Greater_Swiss_Mountain_dog', 'n02107683': 'Bernese_mountain_dog', 'n02107908': 'Appenzeller', 'n02108000': 'EntleBucher', 'n02108089': 'boxer', 'n02108422': 'bull_mastiff', 'n02108551': 'Tibetan_mastiff', 'n02108915': 'French_bulldog', 'n02109047': 'Great_Dane', 'n02109525': 'Saint_Bernard', 'n02109961': 'Eskimo_dog', 'n02110063': 'malamute', 'n02110185': 'Siberian_husky', 'n02110341': 'dalmatian', 'n02110627': 'affenpinscher', 'n02110806': 'basenji', 'n02110958': 'pug', 'n02111129': 'Leonberg', 'n02111277': 'Newfoundland', 'n02111500': 'Great_Pyrenees', 'n02111889': 'Samoyed', 'n02112018': 'Pomeranian', 'n02112137': 'chow', 'n02112350': 'keeshond', 'n02112706': 'Brabancon_griffon', 'n02113023': 'Pembroke', 'n02113186': 'Cardigan', 'n02113624': 'toy_poodle', 'n02113712': 'miniature_poodle', 'n02113799': 'standard_poodle', 'n02113978': 'Mexican_hairless', 'n02114367': 'timber_wolf', 'n02114548': 'white_wolf', 'n02114712': 'red_wolf', 'n02114855': 'coyote', 'n02115641': 'dingo', 'n02115913': 'dhole', 'n02116738': 'African_hunting_dog', 'n02117135': 'hyena', 'n02119022': 'red_fox', 'n02119789': 'kit_fox', 'n02120079': 'Arctic_fox', 'n02120505': 'grey_fox', 'n02123045': 'tabby', 'n02123159': 'tiger_cat', 'n02123394': 'Persian_cat', 'n02123597': 'Siamese_cat', 'n02124075': 'Egyptian_cat', 'n02125311': 'cougar', 'n02127052': 'lynx', 'n02128385': 'leopard', 'n02128757': 'snow_leopard', 'n02128925': 'jaguar', 'n02129165': 'lion', 'n02129604': 'tiger', 'n02130308': 'cheetah', 'n02132136': 'brown_bear', 'n02133161': 'American_black_bear', 'n02134084': 'ice_bear', 'n02134418': 'sloth_bear', 'n02137549': 'mongoose', 'n02138441': 'meerkat', 'n02165105': 'tiger_beetle', 'n02165456': 'ladybug', 'n02167151': 'ground_beetle', 'n02168699': 'long-horned_beetle', 'n02169497': 'leaf_beetle', 'n02172182': 'dung_beetle', 'n02174001': 'rhinoceros_beetle', 'n02177972': 'weevil', 'n02190166': 'fly', 'n02206856': 'bee', 'n02219486': 'ant', 'n02226429': 'grasshopper', 'n02229544': 'cricket', 'n02231487': 'walking_stick', 'n02233338': 'cockroach', 'n02236044': 'mantis', 'n02256656': 'cicada', 'n02259212': 'leafhopper', 'n02264363': 'lacewing', 'n02268443': 'dragonfly', 'n02268853': 'damselfly', 'n02276258': 'admiral', 'n02277742': 'ringlet', 'n02279972': 'monarch', 'n02280649': 'cabbage_butterfly', 'n02281406': 'sulphur_butterfly', 'n02281787': 'lycaenid', 'n02317335': 'starfish', 'n02319095': 'sea_urchin', 'n02321529': 'sea_cucumber', 'n02325366': 'wood_rabbit', 'n02326432': 'hare', 'n02328150': 'Angora', 'n02342885': 'hamster', 'n02346627': 'porcupine', 'n02356798': 'fox_squirrel', 'n02361337': 'marmot', 'n02363005': 'beaver', 'n02364673': 'guinea_pig', 'n02389026': 'sorrel', 'n02391049': 'zebra', 'n02395406': 'hog', 'n02396427': 'wild_boar', 'n02397096': 'warthog', 'n02398521': 'hippopotamus', 'n02403003': 'ox', 'n02408429': 'water_buffalo', 'n02410509': 'bison', 'n02412080': 'ram', 'n02415577': 'bighorn', 'n02417914': 'ibex', 'n02422106': 'hartebeest', 'n02422699': 'impala', 'n02423022': 'gazelle', 'n02437312': 'Arabian_camel', 'n02437616': 'llama', 'n02441942': 'weasel', 'n02442845': 'mink', 'n02443114': 'polecat', 'n02443484': 'black-footed_ferret', 'n02444819': 'otter', 'n02445715': 'skunk', 'n02447366': 'badger', 'n02454379': 'armadillo', 'n02457408': 'three-toed_sloth', 'n02480495': 'orangutan', 'n02480855': 'gorilla', 'n02481823': 'chimpanzee', 'n02483362': 'gibbon', 'n02483708': 'siamang', 'n02484975': 'guenon', 'n02486261': 'patas', 'n02486410': 'baboon', 'n02487347': 'macaque', 'n02488291': 'langur', 'n02488702': 'colobus', 'n02489166': 'proboscis_monkey', 'n02490219': 'marmoset', 'n02492035': 'capuchin', 'n02492660': 'howler_monkey', 'n02493509': 'titi', 'n02493793': 'spider_monkey', 'n02494079': 'squirrel_monkey', 'n02497673': 'Madagascar_cat', 'n02500267': 'indri', 'n02504013': 'Indian_elephant', 'n02504458': 'African_elephant', 'n02509815': 'lesser_panda', 'n02510455': 'giant_panda', 'n02514041': 'barracouta', 'n02526121': 'eel', 'n02536864': 'coho', 'n02606052': 'rock_beauty', 'n02607072': 'anemone_fish', 'n02640242': 'sturgeon', 'n02641379': 'gar', 'n02643566': 'lionfish', 'n02655020': 'puffer', 'n02666196': 'abacus', 'n02667093': 'abaya', 'n02669723': 'academic_gown', 'n02672831': 'accordion', 'n02676566': 'acoustic_guitar', 'n02687172': 'aircraft_carrier', 'n02690373': 'airliner', 'n02692877': 'airship', 'n02699494': 'altar', 'n02701002': 'ambulance', 'n02704792': 'amphibian', 'n02708093': 'analog_clock', 'n02727426': 'apiary', 'n02730930': 'apron', 'n02747177': 'ashcan', 'n02749479': 'assault_rifle', 'n02769748': 'backpack', 'n02776631': 'bakery', 'n02777292': 'balance_beam', 'n02782093': 'balloon', 'n02783161': 'ballpoint', 'n02786058': 'Band_Aid', 'n02787622': 'banjo', 'n02788148': 'bannister', 'n02790996': 'barbell', 'n02791124': 'barber_chair', 'n02791270': 'barbershop', 'n02793495': 'barn', 'n02794156': 'barometer', 'n02795169': 'barrel', 'n02797295': 'barrow', 'n02799071': 'baseball', 'n02802426': 'basketball', 'n02804414': 'bassinet', 'n02804610': 'bassoon', 'n02807133': 'bathing_cap', 'n02808304': 'bath_towel', 'n02808440': 'bathtub', 'n02814533': 'beach_wagon', 'n02814860': 'beacon', 'n02815834': 'beaker', 'n02817516': 'bearskin', 'n02823428': 'beer_bottle', 'n02823750': 'beer_glass', 'n02825657': 'bell_cote', 'n02834397': 'bib', 'n02835271': 'bicycle-built-for-two', 'n02837789': 'bikini', 'n02840245': 'binder', 'n02841315': 'binoculars', 'n02843684': 'birdhouse', 'n02859443': 'boathouse', 'n02860847': 'bobsled', 'n02865351': 'bolo_tie', 'n02869837': 'bonnet', 'n02870880': 'bookcase', 'n02871525': 'bookshop', 'n02877765': 'bottlecap', 'n02879718': 'bow', 'n02883205': 'bow_tie', 'n02892201': 'brass', 'n02892767': 'brassiere', 'n02894605': 'breakwater', 'n02895154': 'breastplate', 'n02906734': 'broom', 'n02909870': 'bucket', 'n02910353': 'buckle', 'n02916936': 'bulletproof_vest', 'n02917067': 'bullet_train', 'n02927161': 'butcher_shop', 'n02930766': 'cab', 'n02939185': 'caldron', 'n02948072': 'candle', 'n02950826': 'cannon', 'n02951358': 'canoe', 'n02951585': 'can_opener', 'n02963159': 'cardigan', 'n02965783': 'car_mirror', 'n02966193': 'carousel', 'n02966687': \"carpenter's_kit\", 'n02971356': 'carton', 'n02974003': 'car_wheel', 'n02977058': 'cash_machine', 'n02978881': 'cassette', 'n02979186': 'cassette_player', 'n02980441': 'castle', 'n02981792': 'catamaran', 'n02988304': 'CD_player', 'n02992211': 'cello', 'n02992529': 'cellular_telephone', 'n02999410': 'chain', 'n03000134': 'chainlink_fence', 'n03000247': 'chain_mail', 'n03000684': 'chain_saw', 'n03014705': 'chest', 'n03016953': 'chiffonier', 'n03017168': 'chime', 'n03018349': 'china_cabinet', 'n03026506': 'Christmas_stocking', 'n03028079': 'church', 'n03032252': 'cinema', 'n03041632': 'cleaver', 'n03042490': 'cliff_dwelling', 'n03045698': 'cloak', 'n03047690': 'clog', 'n03062245': 'cocktail_shaker', 'n03063599': 'coffee_mug', 'n03063689': 'coffeepot', 'n03065424': 'coil', 'n03075370': 'combination_lock', 'n03085013': 'computer_keyboard', 'n03089624': 'confectionery', 'n03095699': 'container_ship', 'n03100240': 'convertible', 'n03109150': 'corkscrew', 'n03110669': 'cornet', 'n03124043': 'cowboy_boot', 'n03124170': 'cowboy_hat', 'n03125729': 'cradle', 'n03126707': 'crane', 'n03127747': 'crash_helmet', 'n03127925': 'crate', 'n03131574': 'crib', 'n03133878': 'Crock_Pot', 'n03134739': 'croquet_ball', 'n03141823': 'crutch', 'n03146219': 'cuirass', 'n03160309': 'dam', 'n03179701': 'desk', 'n03180011': 'desktop_computer', 'n03187595': 'dial_telephone', 'n03188531': 'diaper', 'n03196217': 'digital_clock', 'n03197337': 'digital_watch', 'n03201208': 'dining_table', 'n03207743': 'dishrag', 'n03207941': 'dishwasher', 'n03208938': 'disk_brake', 'n03216828': 'dock', 'n03218198': 'dogsled', 'n03220513': 'dome', 'n03223299': 'doormat', 'n03240683': 'drilling_platform', 'n03249569': 'drum', 'n03250847': 'drumstick', 'n03255030': 'dumbbell', 'n03259280': 'Dutch_oven', 'n03271574': 'electric_fan', 'n03272010': 'electric_guitar', 'n03272562': 'electric_locomotive', 'n03290653': 'entertainment_center', 'n03291819': 'envelope', 'n03297495': 'espresso_maker', 'n03314780': 'face_powder', 'n03325584': 'feather_boa', 'n03337140': 'file', 'n03344393': 'fireboat', 'n03345487': 'fire_engine', 'n03347037': 'fire_screen', 'n03355925': 'flagpole', 'n03372029': 'flute', 'n03376595': 'folding_chair', 'n03379051': 'football_helmet', 'n03384352': 'forklift', 'n03388043': 'fountain', 'n03388183': 'fountain_pen', 'n03388549': 'four-poster', 'n03393912': 'freight_car', 'n03394916': 'French_horn', 'n03400231': 'frying_pan', 'n03404251': 'fur_coat', 'n03417042': 'garbage_truck', 'n03424325': 'gasmask', 'n03425413': 'gas_pump', 'n03443371': 'goblet', 'n03444034': 'go-kart', 'n03445777': 'golf_ball', 'n03445924': 'golfcart', 'n03447447': 'gondola', 'n03447721': 'gong', 'n03450230': 'gown', 'n03452741': 'grand_piano', 'n03457902': 'greenhouse', 'n03459775': 'grille', 'n03461385': 'grocery_store', 'n03467068': 'guillotine', 'n03476684': 'hair_slide', 'n03476991': 'hair_spray', 'n03478589': 'half_track', 'n03481172': 'hammer', 'n03482405': 'hamper', 'n03483316': 'hand_blower', 'n03485407': 'hand-held_computer', 'n03485794': 'handkerchief', 'n03492542': 'hard_disc', 'n03494278': 'harmonica', 'n03495258': 'harp', 'n03496892': 'harvester', 'n03498962': 'hatchet', 'n03527444': 'holster', 'n03529860': 'home_theater', 'n03530642': 'honeycomb', 'n03532672': 'hook', 'n03534580': 'hoopskirt', 'n03535780': 'horizontal_bar', 'n03538406': 'horse_cart', 'n03544143': 'hourglass', 'n03584254': 'iPod', 'n03584829': 'iron', 'n03590841': \"jack-o'-lantern\", 'n03594734': 'jean', 'n03594945': 'jeep', 'n03595614': 'jersey', 'n03598930': 'jigsaw_puzzle', 'n03599486': 'jinrikisha', 'n03602883': 'joystick', 'n03617480': 'kimono', 'n03623198': 'knee_pad', 'n03627232': 'knot', 'n03630383': 'lab_coat', 'n03633091': 'ladle', 'n03637318': 'lampshade', 'n03642806': 'laptop', 'n03649909': 'lawn_mower', 'n03657121': 'lens_cap', 'n03658185': 'letter_opener', 'n03661043': 'library', 'n03662601': 'lifeboat', 'n03666591': 'lighter', 'n03670208': 'limousine', 'n03673027': 'liner', 'n03676483': 'lipstick', 'n03680355': 'Loafer', 'n03690938': 'lotion', 'n03691459': 'loudspeaker', 'n03692522': 'loupe', 'n03697007': 'lumbermill', 'n03706229': 'magnetic_compass', 'n03709823': 'mailbag', 'n03710193': 'mailbox', 'n03710637': 'maillot', 'n03710721': 'maillot', 'n03717622': 'manhole_cover', 'n03720891': 'maraca', 'n03721384': 'marimba', 'n03724870': 'mask', 'n03729826': 'matchstick', 'n03733131': 'maypole', 'n03733281': 'maze', 'n03733805': 'measuring_cup', 'n03742115': 'medicine_chest', 'n03743016': 'megalith', 'n03759954': 'microphone', 'n03761084': 'microwave', 'n03763968': 'military_uniform', 'n03764736': 'milk_can', 'n03769881': 'minibus', 'n03770439': 'miniskirt', 'n03770679': 'minivan', 'n03773504': 'missile', 'n03775071': 'mitten', 'n03775546': 'mixing_bowl', 'n03776460': 'mobile_home', 'n03777568': 'Model_T', 'n03777754': 'modem', 'n03781244': 'monastery', 'n03782006': 'monitor', 'n03785016': 'moped', 'n03786901': 'mortar', 'n03787032': 'mortarboard', 'n03788195': 'mosque', 'n03788365': 'mosquito_net', 'n03791053': 'motor_scooter', 'n03792782': 'mountain_bike', 'n03792972': 'mountain_tent', 'n03793489': 'mouse', 'n03794056': 'mousetrap', 'n03796401': 'moving_van', 'n03803284': 'muzzle', 'n03804744': 'nail', 'n03814639': 'neck_brace', 'n03814906': 'necklace', 'n03825788': 'nipple', 'n03832673': 'notebook', 'n03837869': 'obelisk', 'n03838899': 'oboe', 'n03840681': 'ocarina', 'n03841143': 'odometer', 'n03843555': 'oil_filter', 'n03854065': 'organ', 'n03857828': 'oscilloscope', 'n03866082': 'overskirt', 'n03868242': 'oxcart', 'n03868863': 'oxygen_mask', 'n03871628': 'packet', 'n03873416': 'paddle', 'n03874293': 'paddlewheel', 'n03874599': 'padlock', 'n03876231': 'paintbrush', 'n03877472': 'pajama', 'n03877845': 'palace', 'n03884397': 'panpipe', 'n03887697': 'paper_towel', 'n03888257': 'parachute', 'n03888605': 'parallel_bars', 'n03891251': 'park_bench', 'n03891332': 'parking_meter', 'n03895866': 'passenger_car', 'n03899768': 'patio', 'n03902125': 'pay-phone', 'n03903868': 'pedestal', 'n03908618': 'pencil_box', 'n03908714': 'pencil_sharpener', 'n03916031': 'perfume', 'n03920288': 'Petri_dish', 'n03924679': 'photocopier', 'n03929660': 'pick', 'n03929855': 'pickelhaube', 'n03930313': 'picket_fence', 'n03930630': 'pickup', 'n03933933': 'pier', 'n03935335': 'piggy_bank', 'n03937543': 'pill_bottle', 'n03938244': 'pillow', 'n03942813': 'ping-pong_ball', 'n03944341': 'pinwheel', 'n03947888': 'pirate', 'n03950228': 'pitcher', 'n03954731': 'plane', 'n03956157': 'planetarium', 'n03958227': 'plastic_bag', 'n03961711': 'plate_rack', 'n03967562': 'plow', 'n03970156': 'plunger', 'n03976467': 'Polaroid_camera', 'n03976657': 'pole', 'n03977966': 'police_van', 'n03980874': 'poncho', 'n03982430': 'pool_table', 'n03983396': 'pop_bottle', 'n03991062': 'pot', 'n03992509': \"potter's_wheel\", 'n03995372': 'power_drill', 'n03998194': 'prayer_rug', 'n04004767': 'printer', 'n04005630': 'prison', 'n04008634': 'projectile', 'n04009552': 'projector', 'n04019541': 'puck', 'n04023962': 'punching_bag', 'n04026417': 'purse', 'n04033901': 'quill', 'n04033995': 'quilt', 'n04037443': 'racer', 'n04039381': 'racket', 'n04040759': 'radiator', 'n04041544': 'radio', 'n04044716': 'radio_telescope', 'n04049303': 'rain_barrel', 'n04065272': 'recreational_vehicle', 'n04067472': 'reel', 'n04069434': 'reflex_camera', 'n04070727': 'refrigerator', 'n04074963': 'remote_control', 'n04081281': 'restaurant', 'n04086273': 'revolver', 'n04090263': 'rifle', 'n04099969': 'rocking_chair', 'n04111531': 'rotisserie', 'n04116512': 'rubber_eraser', 'n04118538': 'rugby_ball', 'n04118776': 'rule', 'n04120489': 'running_shoe', 'n04125021': 'safe', 'n04127249': 'safety_pin', 'n04131690': 'saltshaker', 'n04133789': 'sandal', 'n04136333': 'sarong', 'n04141076': 'sax', 'n04141327': 'scabbard', 'n04141975': 'scale', 'n04146614': 'school_bus', 'n04147183': 'schooner', 'n04149813': 'scoreboard', 'n04152593': 'screen', 'n04153751': 'screw', 'n04154565': 'screwdriver', 'n04162706': 'seat_belt', 'n04179913': 'sewing_machine', 'n04192698': 'shield', 'n04200800': 'shoe_shop', 'n04201297': 'shoji', 'n04204238': 'shopping_basket', 'n04204347': 'shopping_cart', 'n04208210': 'shovel', 'n04209133': 'shower_cap', 'n04209239': 'shower_curtain', 'n04228054': 'ski', 'n04229816': 'ski_mask', 'n04235860': 'sleeping_bag', 'n04238763': 'slide_rule', 'n04239074': 'sliding_door', 'n04243546': 'slot', 'n04251144': 'snorkel', 'n04252077': 'snowmobile', 'n04252225': 'snowplow', 'n04254120': 'soap_dispenser', 'n04254680': 'soccer_ball', 'n04254777': 'sock', 'n04258138': 'solar_dish', 'n04259630': 'sombrero', 'n04263257': 'soup_bowl', 'n04264628': 'space_bar', 'n04265275': 'space_heater', 'n04266014': 'space_shuttle', 'n04270147': 'spatula', 'n04273569': 'speedboat', 'n04275548': 'spider_web', 'n04277352': 'spindle', 'n04285008': 'sports_car', 'n04286575': 'spotlight', 'n04296562': 'stage', 'n04310018': 'steam_locomotive', 'n04311004': 'steel_arch_bridge', 'n04311174': 'steel_drum', 'n04317175': 'stethoscope', 'n04325704': 'stole', 'n04326547': 'stone_wall', 'n04328186': 'stopwatch', 'n04330267': 'stove', 'n04332243': 'strainer', 'n04335435': 'streetcar', 'n04336792': 'stretcher', 'n04344873': 'studio_couch', 'n04346328': 'stupa', 'n04347754': 'submarine', 'n04350905': 'suit', 'n04355338': 'sundial', 'n04355933': 'sunglass', 'n04356056': 'sunglasses', 'n04357314': 'sunscreen', 'n04366367': 'suspension_bridge', 'n04367480': 'swab', 'n04370456': 'sweatshirt', 'n04371430': 'swimming_trunks', 'n04371774': 'swing', 'n04372370': 'switch', 'n04376876': 'syringe', 'n04380533': 'table_lamp', 'n04389033': 'tank', 'n04392985': 'tape_player', 'n04398044': 'teapot', 'n04399382': 'teddy', 'n04404412': 'television', 'n04409515': 'tennis_ball', 'n04417672': 'thatch', 'n04418357': 'theater_curtain', 'n04423845': 'thimble', 'n04428191': 'thresher', 'n04429376': 'throne', 'n04435653': 'tile_roof', 'n04442312': 'toaster', 'n04443257': 'tobacco_shop', 'n04447861': 'toilet_seat', 'n04456115': 'torch', 'n04458633': 'totem_pole', 'n04461696': 'tow_truck', 'n04462240': 'toyshop', 'n04465501': 'tractor', 'n04467665': 'trailer_truck', 'n04476259': 'tray', 'n04479046': 'trench_coat', 'n04482393': 'tricycle', 'n04483307': 'trimaran', 'n04485082': 'tripod', 'n04486054': 'triumphal_arch', 'n04487081': 'trolleybus', 'n04487394': 'trombone', 'n04493381': 'tub', 'n04501370': 'turnstile', 'n04505470': 'typewriter_keyboard', 'n04507155': 'umbrella', 'n04509417': 'unicycle', 'n04515003': 'upright', 'n04517823': 'vacuum', 'n04522168': 'vase', 'n04523525': 'vault', 'n04525038': 'velvet', 'n04525305': 'vending_machine', 'n04532106': 'vestment', 'n04532670': 'viaduct', 'n04536866': 'violin', 'n04540053': 'volleyball', 'n04542943': 'waffle_iron', 'n04548280': 'wall_clock', 'n04548362': 'wallet', 'n04550184': 'wardrobe', 'n04552348': 'warplane', 'n04553703': 'washbasin', 'n04554684': 'washer', 'n04557648': 'water_bottle', 'n04560804': 'water_jug', 'n04562935': 'water_tower', 'n04579145': 'whiskey_jug', 'n04579432': 'whistle', 'n04584207': 'wig', 'n04589890': 'window_screen', 'n04590129': 'window_shade', 'n04591157': 'Windsor_tie', 'n04591713': 'wine_bottle', 'n04592741': 'wing', 'n04596742': 'wok', 'n04597913': 'wooden_spoon', 'n04599235': 'wool', 'n04604644': 'worm_fence', 'n04606251': 'wreck', 'n04612504': 'yawl', 'n04613696': 'yurt', 'n06359193': 'web_site', 'n06596364': 'comic_book', 'n06785654': 'crossword_puzzle', 'n06794110': 'street_sign', 'n06874185': 'traffic_light', 'n07248320': 'book_jacket', 'n07565083': 'menu', 'n07579787': 'plate', 'n07583066': 'guacamole', 'n07584110': 'consomme', 'n07590611': 'hot_pot', 'n07613480': 'trifle', 'n07614500': 'ice_cream', 'n07615774': 'ice_lolly', 'n07684084': 'French_loaf', 'n07693725': 'bagel', 'n07695742': 'pretzel', 'n07697313': 'cheeseburger', 'n07697537': 'hotdog', 'n07711569': 'mashed_potato', 'n07714571': 'head_cabbage', 'n07714990': 'broccoli', 'n07715103': 'cauliflower', 'n07716358': 'zucchini', 'n07716906': 'spaghetti_squash', 'n07717410': 'acorn_squash', 'n07717556': 'butternut_squash', 'n07718472': 'cucumber', 'n07718747': 'artichoke', 'n07720875': 'bell_pepper', 'n07730033': 'cardoon', 'n07734744': 'mushroom', 'n07742313': 'Granny_Smith', 'n07745940': 'strawberry', 'n07747607': 'orange', 'n07749582': 'lemon', 'n07753113': 'fig', 'n07753275': 'pineapple', 'n07753592': 'banana', 'n07754684': 'jackfruit', 'n07760859': 'custard_apple', 'n07768694': 'pomegranate', 'n07802026': 'hay', 'n07831146': 'carbonara', 'n07836838': 'chocolate_sauce', 'n07860988': 'dough', 'n07871810': 'meat_loaf', 'n07873807': 'pizza', 'n07875152': 'potpie', 'n07880968': 'burrito', 'n07892512': 'red_wine', 'n07920052': 'espresso', 'n07930864': 'cup', 'n07932039': 'eggnog', 'n09193705': 'alp', 'n09229709': 'bubble', 'n09246464': 'cliff', 'n09256479': 'coral_reef', 'n09288635': 'geyser', 'n09332890': 'lakeside', 'n09399592': 'promontory', 'n09421951': 'sandbar', 'n09428293': 'seashore', 'n09468604': 'valley', 'n09472597': 'volcano', 'n09835506': 'ballplayer', 'n10148035': 'groom', 'n10565667': 'scuba_diver', 'n11879895': 'rapeseed', 'n11939491': 'daisy', 'n12057211': \"yellow_lady's_slipper\", 'n12144580': 'corn', 'n12267677': 'acorn', 'n12620546': 'hip', 'n12768682': 'buckeye', 'n12985857': 'coral_fungus', 'n12998815': 'agaric', 'n13037406': 'gyromitra', 'n13040303': 'stinkhorn', 'n13044778': 'earthstar', 'n13052670': 'hen-of-the-woods', 'n13054560': 'bolete', 'n13133613': 'ear', 'n15075141': 'toilet_tissue'}"
   ]
  },
  {
   "cell_type": "code",
   "execution_count": null,
   "id": "7277006d-1244-4235-a590-e3dfb1c2c543",
   "metadata": {},
   "outputs": [],
   "source": [
    "# Give the directory the proper format\n",
    "\n",
    "csv_files = {\n",
    "    'train': '/Users/jdieguez/Documents/master/TFM/code/mini-imagenet-sxc/test.csv',\n",
    "    'val':   'val.csv',\n",
    "    'test':  'test.csv'\n",
    "}\n",
    "images_dir  = 'all_images'   # folder with all your images\n",
    "target_root = 'miniimagenet' # e.g., miniimagenet/train/<label>/\n",
    "\n",
    "# Load synset-to-label mapping\n",
    "synset2label = {}\n",
    "with open('synset_mapping.txt') as f:\n",
    "    for line in f:\n",
    "        code, name = line.strip().split()\n",
    "        synset2label[code] = name\n",
    "\n",
    "# Process each split\n",
    "for split, csv_path in csv_files.items():\n",
    "    with open(csv_path) as f:\n",
    "        reader = csv.reader(f)\n",
    "        for img_name, synset in reader:\n",
    "            label = synset2label.get(synset)\n",
    "            if label is None:\n",
    "                raise KeyError(f\"No mapping for synset {synset}\")\n",
    "            src = os.path.join(images_dir, img_name)\n",
    "            dst_dir = os.path.join(target_root, split, label)\n",
    "            os.makedirs(dst_dir, exist_ok=True)\n",
    "            shutil.copy(src, os.path.join(dst_dir, img_name))\n",
    "    print(f\"✅ Processed {split}\")"
   ]
  },
  {
   "cell_type": "code",
   "execution_count": 41,
   "id": "d80a0c5c-b3be-4be4-9a0c-e24b236b03ee",
   "metadata": {},
   "outputs": [
    {
     "name": "stdout",
     "output_type": "stream",
     "text": [
      "Reading IDs....\n"
     ]
    },
    {
     "name": "stderr",
     "output_type": "stream",
     "text": [
      "38400it [00:00, 843327.80it/s]\n"
     ]
    },
    {
     "name": "stdout",
     "output_type": "stream",
     "text": [
      "Writing photos....\n"
     ]
    },
    {
     "name": "stderr",
     "output_type": "stream",
     "text": [
      "100%|██████████████████████████████████████████████████████████████████████████████████████████████████████████████████| 64/64 [01:54<00:00,  1.79s/it]\n"
     ]
    },
    {
     "name": "stdout",
     "output_type": "stream",
     "text": [
      "Reading IDs....\n"
     ]
    },
    {
     "name": "stderr",
     "output_type": "stream",
     "text": [
      "9600it [00:00, 769464.70it/s]\n"
     ]
    },
    {
     "name": "stdout",
     "output_type": "stream",
     "text": [
      "Writing photos....\n"
     ]
    },
    {
     "name": "stderr",
     "output_type": "stream",
     "text": [
      "100%|██████████████████████████████████████████████████████████████████████████████████████████████████████████████████| 16/16 [00:30<00:00,  1.90s/it]\n"
     ]
    },
    {
     "name": "stdout",
     "output_type": "stream",
     "text": [
      "Reading IDs....\n"
     ]
    },
    {
     "name": "stderr",
     "output_type": "stream",
     "text": [
      "12000it [00:00, 1220634.62it/s]\n"
     ]
    },
    {
     "name": "stdout",
     "output_type": "stream",
     "text": [
      "Writing photos....\n"
     ]
    },
    {
     "name": "stderr",
     "output_type": "stream",
     "text": [
      "100%|██████████████████████████████████████████████████████████████████████████████████████████████████████████████████| 20/20 [00:34<00:00,  1.72s/it]\n"
     ]
    }
   ],
   "source": [
    "# Code adapted from https://github.com/yaoyao-liu/mini-imagenet-tools/blob/main/mini_imagenet_generator.py\n",
    "\n",
    "import argparse\n",
    "import os\n",
    "import numpy as np\n",
    "import csv\n",
    "import glob\n",
    "import cv2\n",
    "from shutil import copyfile\n",
    "from tqdm import tqdm\n",
    "\n",
    "split_lists = ['train', 'val', 'test']\n",
    "\n",
    "image_resize = 84 # default value\n",
    "\n",
    "dir_path = \"/Users/jdieguez/Documents/master/TFM/code/miniimagenet\"\n",
    "mini_dir = \"/Users/jdieguez/Documents/master/TFM/code/mini-imagenet-sxc/images\"\n",
    "\n",
    "for this_split in split_lists:\n",
    "    filename = '/Users/jdieguez/Documents/master/TFM/code/mini-imagenet-sxc/' + this_split + '.csv'\n",
    "    this_split_dir = dir_path = \"/Users/jdieguez/Documents/master/TFM/code/miniimagenet\" + '/' + this_split\n",
    "    if not os.path.exists(this_split_dir):\n",
    "        os.makedirs(this_split_dir)\n",
    "    with open(filename) as csvfile:\n",
    "        csv_reader = csv.reader(csvfile, delimiter=',')\n",
    "        next(csv_reader, None)\n",
    "        images = {}\n",
    "        print('Reading IDs....')\n",
    "\n",
    "        for row in tqdm(csv_reader):\n",
    "            if row[1] in images.keys():\n",
    "                images[row[1]].append(row[0])\n",
    "            else:\n",
    "                images[row[1]] = [row[0]]\n",
    "\n",
    "        print('Writing photos....')\n",
    "        for cls in tqdm(images.keys()):\n",
    "            label = imap[cls]\n",
    "            \n",
    "            this_cls_dir = this_split_dir + '/' + label     \n",
    "            if not os.path.exists(this_cls_dir):\n",
    "                os.makedirs(this_cls_dir)\n",
    "\n",
    "            lst_files = []\n",
    "            for file in glob.glob(mini_dir + \"/*\"+cls+\"*\"):\n",
    "                lst_files.append(file)\n",
    "\n",
    "            #lst_files2 = [l.replace(cls, '_') for l in lst_files]\n",
    "            #lst_index = [int(i[i.rfind('_')+1:i.rfind('.')]) for i in lst_files2]\n",
    "            index_sorted = sorted(range(len(lst_index)), key=lst_index.__getitem__)\n",
    "\n",
    "            #index_selected = [int(i[i.index('.') - 4:i.index('.')]) for i in images[cls]]\n",
    "            #selected_images = np.array(index_sorted)[np.array(index_selected) - 1]\n",
    "            selected_images = np.array(index_sorted)\n",
    "            for i in np.arange(len(selected_images)):\n",
    "                if image_resize==0:\n",
    "                    copyfile(lst_files[selected_images[i]],os.path.join(this_cls_dir, images[cls][i]))\n",
    "                else:\n",
    "                    im = cv2.imread(lst_files[selected_images[i]])\n",
    "                    im_resized = cv2.resize(im, (image_resize, image_resize), interpolation=cv2.INTER_AREA)\n",
    "                    cv2.imwrite(os.path.join(this_cls_dir, images[cls][i]),im_resized)"
   ]
  },
  {
   "cell_type": "markdown",
   "id": "fed5acbf-e3c2-40b8-aa5b-a37c6d6814de",
   "metadata": {},
   "source": [
    "## Baseline"
   ]
  },
  {
   "cell_type": "code",
   "execution_count": 3,
   "id": "5a3f0313-0583-4f94-bc8d-197c4138493c",
   "metadata": {},
   "outputs": [],
   "source": [
    "config = {\n",
    "    # General\n",
    "    \"dataset\": 'MiniImageNet', #['MiniImageNet', 'TieredImageNet', 'FC100', 'CIFAR-FS']\n",
    "    \"backbone\": 'resnet', #['resnet', 'swin']\n",
    "    \"center\": 'mean', #['mean', 'cluster']\n",
    "    \"gpu\": 0,\n",
    "    \"project\": \"SemFew_recreate\",\n",
    "    \"run_name\": \"Miniimagenet_testing\",\n",
    "    \n",
    "    # Databases\n",
    "    \"path_to_checkpoints\": \"/Users/jdieguez/Documents/master/TFM/code/checkpoints\",\n",
    "    \"path_to_cifarfs\": \"/Users/jdieguez/Documents/master/TFM/code/cifar-fs/\",\n",
    "    \"path_to_fc100\": '/Users/jdieguez/Documents/master/TFM/code/FC100/',\n",
    "    \"path_to_miniimagenet\": '/Users/jdieguez/Documents/master/TFM/code/miniimagenet',\n",
    "    \"path_to_tieredimagenet\": '/path/to/your/tiredimagenet',\n",
    "\n",
    "    # Semantics\n",
    "    \"llm\": \"default\",\n",
    "    \"semantics_from\": \"default\",\n",
    "    \"file\": \"None\", \n",
    "    \"key\": \"None\", \n",
    "    \"images_per_class\": 5,\n",
    "    \"verbose\": False,\n",
    "    \n",
    "    # TRAIN\n",
    "    \"max_epoch\": 1,\n",
    "    \"test_batch\": 600,\n",
    "    \"shot\": 1,\n",
    "    \"query\": 15,\n",
    "    \"test_way\": 5,\n",
    "    \"feat_size\": 640,\n",
    "    \"semantic_size\": 512,\n",
    "    \"batch_size\": 128,\n",
    "    \"num_workers\": 8,\n",
    "    \"drop\": 0.0,\n",
    "    \"lr\": 1e-4,\n",
    "    \"step_size\": 30,\n",
    "    \"mode\": 'clip', #['clip', 'bert']\n",
    "    \"text_type\":'gpt', #['gpt', 'name', 'definition'])\n",
    "\n",
    "    # TEST\n",
    "    'test-batch': 600,\n",
    "    'seed': 13\n",
    "}\n",
    "\n",
    "class dotdict(dict):\n",
    "    \"\"\"dot.notation access to dictionary attributes\"\"\"\n",
    "    __getattr__ = dict.get\n",
    "    __setattr__ = dict.__setitem__\n",
    "    __delattr__ = dict.__delitem__\n",
    "    \n",
    "args = dotdict(config)\n",
    "if args.backbone == 'resnet':\n",
    "    args.model_path = f\"{args.path_to_checkpoints}/ResNet-{args.dataset}.pth\"\n",
    "elif args.backbone == 'swin':\n",
    "    args.model_path = f\"{args.path_to_checkpoints}/Swin-Tiny-{args.dataset}.pth\""
   ]
  },
  {
   "cell_type": "code",
   "execution_count": 4,
   "id": "aff394ce-2779-477c-a2fb-2050720adfcc",
   "metadata": {},
   "outputs": [],
   "source": [
    "#centers = compute_center(args)"
   ]
  },
  {
   "cell_type": "code",
   "execution_count": 5,
   "id": "811e43ae-7063-47e4-a0eb-ee3e1ba99ac3",
   "metadata": {},
   "outputs": [
    {
     "name": "stderr",
     "output_type": "stream",
     "text": [
      "\u001b[34m\u001b[1mwandb\u001b[0m: Currently logged in as: \u001b[33mjoeldvd\u001b[0m to \u001b[32mhttps://api.wandb.ai\u001b[0m. Use \u001b[1m`wandb login --relogin`\u001b[0m to force relogin\n"
     ]
    },
    {
     "data": {
      "text/html": [
       "Tracking run with wandb version 0.20.1"
      ],
      "text/plain": [
       "<IPython.core.display.HTML object>"
      ]
     },
     "metadata": {},
     "output_type": "display_data"
    },
    {
     "data": {
      "text/html": [
       "Run data is saved locally in <code>/Users/jdieguez/Documents/master/TFM/code/TFM-SemFew/Model/wandb/run-20250616_233044-bogsziv2</code>"
      ],
      "text/plain": [
       "<IPython.core.display.HTML object>"
      ]
     },
     "metadata": {},
     "output_type": "display_data"
    },
    {
     "data": {
      "text/html": [
       "Syncing run <strong><a href='https://wandb.ai/joeldvd/SemFew_recreate/runs/bogsziv2' target=\"_blank\">FC100_default</a></strong> to <a href='https://wandb.ai/joeldvd/SemFew_recreate' target=\"_blank\">Weights & Biases</a> (<a href='https://wandb.me/developer-guide' target=\"_blank\">docs</a>)<br>"
      ],
      "text/plain": [
       "<IPython.core.display.HTML object>"
      ]
     },
     "metadata": {},
     "output_type": "display_data"
    },
    {
     "data": {
      "text/html": [
       " View project at <a href='https://wandb.ai/joeldvd/SemFew_recreate' target=\"_blank\">https://wandb.ai/joeldvd/SemFew_recreate</a>"
      ],
      "text/plain": [
       "<IPython.core.display.HTML object>"
      ]
     },
     "metadata": {},
     "output_type": "display_data"
    },
    {
     "data": {
      "text/html": [
       " View run at <a href='https://wandb.ai/joeldvd/SemFew_recreate/runs/bogsziv2' target=\"_blank\">https://wandb.ai/joeldvd/SemFew_recreate/runs/bogsziv2</a>"
      ],
      "text/plain": [
       "<IPython.core.display.HTML object>"
      ]
     },
     "metadata": {},
     "output_type": "display_data"
    },
    {
     "name": "stderr",
     "output_type": "stream",
     "text": [
      "2025-06-16 23:30:45,427 - train.py[line:52] - INFO: {}\n"
     ]
    },
    {
     "name": "stdout",
     "output_type": "stream",
     "text": [
      "96\n"
     ]
    },
    {
     "name": "stderr",
     "output_type": "stream",
     "text": [
      "100%|████████████████████████████████████████████████████████████████████████████████████████████████████████████████| 300/300 [03:08<00:00,  1.59it/s]\n",
      "2025-06-16 23:33:54,852 - train.py[line:167] - INFO: [Epoch 0/1] [recon loss: 0.082627] \n",
      "100%|████████████████████████████████████████████████████████████████████████████████████████████████████████████████| 600/600 [06:21<00:00,  1.57it/s]\n",
      "2025-06-16 23:40:16,468 - train.py[line:231] - INFO: best epoch: 0\n",
      "2025-06-16 23:40:16,489 - train.py[line:236] - INFO: epoch: 0 |origin acc: 65.20+0.90% |complete acc: 72.49+0.80% |gap: 7.29/7.29 |k: 0.0\n",
      "2025-06-16 23:40:16,489 - train.py[line:240] - INFO: ACC |proto acc: 65.20+0.90% |gen acc: 72.49+0.80% |Max: 72.49\n"
     ]
    },
    {
     "name": "stdout",
     "output_type": "stream",
     "text": [
      "save 0\n"
     ]
    },
    {
     "data": {
      "text/html": [],
      "text/plain": [
       "<IPython.core.display.HTML object>"
      ]
     },
     "metadata": {},
     "output_type": "display_data"
    },
    {
     "data": {
      "text/html": [
       "<br>    <style><br>        .wandb-row {<br>            display: flex;<br>            flex-direction: row;<br>            flex-wrap: wrap;<br>            justify-content: flex-start;<br>            width: 100%;<br>        }<br>        .wandb-col {<br>            display: flex;<br>            flex-direction: column;<br>            flex-basis: 100%;<br>            flex: 1;<br>            padding: 10px;<br>        }<br>    </style><br><div class=\"wandb-row\"><div class=\"wandb-col\"><h3>Run history:</h3><br/><table class=\"wandb\"><tr><td>complete_acc</td><td>▁</td></tr><tr><td>recon_loss</td><td>▁</td></tr></table><br/></div><div class=\"wandb-col\"><h3>Run summary:</h3><br/><table class=\"wandb\"><tr><td>complete_acc</td><td>72.49333</td></tr><tr><td>recon_loss</td><td>0.08263</td></tr></table><br/></div></div>"
      ],
      "text/plain": [
       "<IPython.core.display.HTML object>"
      ]
     },
     "metadata": {},
     "output_type": "display_data"
    },
    {
     "data": {
      "text/html": [
       " View run <strong style=\"color:#cdcd00\">FC100_default</strong> at: <a href='https://wandb.ai/joeldvd/SemFew_recreate/runs/bogsziv2' target=\"_blank\">https://wandb.ai/joeldvd/SemFew_recreate/runs/bogsziv2</a><br> View project at: <a href='https://wandb.ai/joeldvd/SemFew_recreate' target=\"_blank\">https://wandb.ai/joeldvd/SemFew_recreate</a><br>Synced 5 W&B file(s), 0 media file(s), 0 artifact file(s) and 0 other file(s)"
      ],
      "text/plain": [
       "<IPython.core.display.HTML object>"
      ]
     },
     "metadata": {},
     "output_type": "display_data"
    },
    {
     "data": {
      "text/html": [
       "Find logs at: <code>./wandb/run-20250616_233044-bogsziv2/logs</code>"
      ],
      "text/plain": [
       "<IPython.core.display.HTML object>"
      ]
     },
     "metadata": {},
     "output_type": "display_data"
    },
    {
     "data": {
      "text/plain": [
       "ResNet(\n",
       "  (layer1): Sequential(\n",
       "    (0): BasicBlock(\n",
       "      (conv1): Conv2d(3, 64, kernel_size=(3, 3), stride=(1, 1), padding=(1, 1), bias=False)\n",
       "      (bn1): BatchNorm2d(64, eps=1e-05, momentum=0.1, affine=True, track_running_stats=True)\n",
       "      (relu): LeakyReLU(negative_slope=0.1)\n",
       "      (conv2): Conv2d(64, 64, kernel_size=(3, 3), stride=(1, 1), padding=(1, 1), bias=False)\n",
       "      (bn2): BatchNorm2d(64, eps=1e-05, momentum=0.1, affine=True, track_running_stats=True)\n",
       "      (conv3): Conv2d(64, 64, kernel_size=(3, 3), stride=(1, 1), padding=(1, 1), bias=False)\n",
       "      (bn3): BatchNorm2d(64, eps=1e-05, momentum=0.1, affine=True, track_running_stats=True)\n",
       "      (maxpool): MaxPool2d(kernel_size=2, stride=2, padding=0, dilation=1, ceil_mode=False)\n",
       "      (downsample): Sequential(\n",
       "        (0): Conv2d(3, 64, kernel_size=(1, 1), stride=(1, 1), bias=False)\n",
       "        (1): BatchNorm2d(64, eps=1e-05, momentum=0.1, affine=True, track_running_stats=True)\n",
       "      )\n",
       "      (DropBlock): DropBlock()\n",
       "    )\n",
       "  )\n",
       "  (layer2): Sequential(\n",
       "    (0): BasicBlock(\n",
       "      (conv1): Conv2d(64, 160, kernel_size=(3, 3), stride=(1, 1), padding=(1, 1), bias=False)\n",
       "      (bn1): BatchNorm2d(160, eps=1e-05, momentum=0.1, affine=True, track_running_stats=True)\n",
       "      (relu): LeakyReLU(negative_slope=0.1)\n",
       "      (conv2): Conv2d(160, 160, kernel_size=(3, 3), stride=(1, 1), padding=(1, 1), bias=False)\n",
       "      (bn2): BatchNorm2d(160, eps=1e-05, momentum=0.1, affine=True, track_running_stats=True)\n",
       "      (conv3): Conv2d(160, 160, kernel_size=(3, 3), stride=(1, 1), padding=(1, 1), bias=False)\n",
       "      (bn3): BatchNorm2d(160, eps=1e-05, momentum=0.1, affine=True, track_running_stats=True)\n",
       "      (maxpool): MaxPool2d(kernel_size=2, stride=2, padding=0, dilation=1, ceil_mode=False)\n",
       "      (downsample): Sequential(\n",
       "        (0): Conv2d(64, 160, kernel_size=(1, 1), stride=(1, 1), bias=False)\n",
       "        (1): BatchNorm2d(160, eps=1e-05, momentum=0.1, affine=True, track_running_stats=True)\n",
       "      )\n",
       "      (DropBlock): DropBlock()\n",
       "    )\n",
       "  )\n",
       "  (layer3): Sequential(\n",
       "    (0): BasicBlock(\n",
       "      (conv1): Conv2d(160, 320, kernel_size=(3, 3), stride=(1, 1), padding=(1, 1), bias=False)\n",
       "      (bn1): BatchNorm2d(320, eps=1e-05, momentum=0.1, affine=True, track_running_stats=True)\n",
       "      (relu): LeakyReLU(negative_slope=0.1)\n",
       "      (conv2): Conv2d(320, 320, kernel_size=(3, 3), stride=(1, 1), padding=(1, 1), bias=False)\n",
       "      (bn2): BatchNorm2d(320, eps=1e-05, momentum=0.1, affine=True, track_running_stats=True)\n",
       "      (conv3): Conv2d(320, 320, kernel_size=(3, 3), stride=(1, 1), padding=(1, 1), bias=False)\n",
       "      (bn3): BatchNorm2d(320, eps=1e-05, momentum=0.1, affine=True, track_running_stats=True)\n",
       "      (maxpool): MaxPool2d(kernel_size=2, stride=2, padding=0, dilation=1, ceil_mode=False)\n",
       "      (downsample): Sequential(\n",
       "        (0): Conv2d(160, 320, kernel_size=(1, 1), stride=(1, 1), bias=False)\n",
       "        (1): BatchNorm2d(320, eps=1e-05, momentum=0.1, affine=True, track_running_stats=True)\n",
       "      )\n",
       "      (DropBlock): DropBlock()\n",
       "    )\n",
       "  )\n",
       "  (layer4): Sequential(\n",
       "    (0): BasicBlock(\n",
       "      (conv1): Conv2d(320, 640, kernel_size=(3, 3), stride=(1, 1), padding=(1, 1), bias=False)\n",
       "      (bn1): BatchNorm2d(640, eps=1e-05, momentum=0.1, affine=True, track_running_stats=True)\n",
       "      (relu): LeakyReLU(negative_slope=0.1)\n",
       "      (conv2): Conv2d(640, 640, kernel_size=(3, 3), stride=(1, 1), padding=(1, 1), bias=False)\n",
       "      (bn2): BatchNorm2d(640, eps=1e-05, momentum=0.1, affine=True, track_running_stats=True)\n",
       "      (conv3): Conv2d(640, 640, kernel_size=(3, 3), stride=(1, 1), padding=(1, 1), bias=False)\n",
       "      (bn3): BatchNorm2d(640, eps=1e-05, momentum=0.1, affine=True, track_running_stats=True)\n",
       "      (maxpool): MaxPool2d(kernel_size=2, stride=2, padding=0, dilation=1, ceil_mode=False)\n",
       "      (downsample): Sequential(\n",
       "        (0): Conv2d(320, 640, kernel_size=(1, 1), stride=(1, 1), bias=False)\n",
       "        (1): BatchNorm2d(640, eps=1e-05, momentum=0.1, affine=True, track_running_stats=True)\n",
       "      )\n",
       "      (DropBlock): DropBlock()\n",
       "    )\n",
       "  )\n",
       "  (avgpool): AdaptiveAvgPool2d(output_size=(1, 1))\n",
       "  (dropout): Dropout(p=0.0, inplace=False)\n",
       ")"
      ]
     },
     "execution_count": 5,
     "metadata": {},
     "output_type": "execute_result"
    }
   ],
   "source": [
    "train(args)"
   ]
  },
  {
   "cell_type": "code",
   "execution_count": 6,
   "id": "de05e915-337a-47c5-86b3-edc8e9b95163",
   "metadata": {},
   "outputs": [
    {
     "name": "stderr",
     "output_type": "stream",
     "text": [
      "2025-06-16 23:40:17,505 - test.py[line:29] - INFO: {}\n",
      "2025-06-16 23:40:17,505 - test.py[line:29] - INFO: {}\n",
      "2025-06-16 23:40:17,935 - test.py[line:90] - INFO: best epoch: 0 72.493335\n",
      "2025-06-16 23:40:17,935 - test.py[line:90] - INFO: best epoch: 0 72.493335\n",
      "2025-06-16 23:40:17,936 - test.py[line:91] - INFO: best k: 0.000000\n",
      "2025-06-16 23:40:17,936 - test.py[line:91] - INFO: best k: 0.000000\n"
     ]
    },
    {
     "name": "stdout",
     "output_type": "stream",
     "text": [
      "96\n"
     ]
    },
    {
     "name": "stderr",
     "output_type": "stream",
     "text": [
      "100%|████████████████████████████████████████████████████████████████████████████████████████████████████████████████| 600/600 [06:43<00:00,  1.49it/s]\n",
      "2025-06-16 23:47:01,835 - test.py[line:135] - INFO: max |k:              0.0 |mix acc: 66.65+0.75% |gap: 6.22\n",
      "2025-06-16 23:47:01,835 - test.py[line:135] - INFO: max |k:              0.0 |mix acc: 66.65+0.75% |gap: 6.22\n",
      "2025-06-16 23:47:01,841 - test.py[line:137] - INFO: ACC:|proto acc: 60.43+0.81% |gen acc: 66.65+0.75%\n",
      "2025-06-16 23:47:01,841 - test.py[line:137] - INFO: ACC:|proto acc: 60.43+0.81% |gen acc: 66.65+0.75%\n"
     ]
    }
   ],
   "source": [
    "test(args)"
   ]
  },
  {
   "cell_type": "code",
   "execution_count": null,
   "id": "a3e689ce-9870-4256-9bf9-135f3ff463c5",
   "metadata": {},
   "outputs": [],
   "source": []
  }
 ],
 "metadata": {
  "kernelspec": {
   "display_name": "Python 3 (ipykernel)",
   "language": "python",
   "name": "python3"
  },
  "language_info": {
   "codemirror_mode": {
    "name": "ipython",
    "version": 3
   },
   "file_extension": ".py",
   "mimetype": "text/x-python",
   "name": "python",
   "nbconvert_exporter": "python",
   "pygments_lexer": "ipython3",
   "version": "3.9.21"
  }
 },
 "nbformat": 4,
 "nbformat_minor": 5
}
