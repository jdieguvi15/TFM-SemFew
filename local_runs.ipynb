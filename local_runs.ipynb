{
 "cells": [
  {
   "cell_type": "code",
   "execution_count": 1,
   "id": "78ef9d58-03d5-4a6e-8501-a6387907112a",
   "metadata": {},
   "outputs": [],
   "source": [
    "# Dont insert any keys here"
   ]
  },
  {
   "cell_type": "code",
   "execution_count": 2,
   "id": "3598c349-12e8-492c-a096-2e5be53e7cde",
   "metadata": {},
   "outputs": [
    {
     "name": "stdout",
     "output_type": "stream",
     "text": [
      "Current working directory: /Users/jdieguez/Documents/master/TFM/code/TFM-SemFew\n",
      "Current working directory: /Users/jdieguez/Documents/master/TFM/code/TFM-SemFew/Model\n"
     ]
    },
    {
     "name": "stderr",
     "output_type": "stream",
     "text": [
      "/Users/jdieguez/anaconda3/envs/tfm2/lib/python3.9/site-packages/timm/models/layers/__init__.py:48: FutureWarning: Importing from timm.models.layers is deprecated, please import via timm.layers\n",
      "  warnings.warn(f\"Importing from {__name__} is deprecated, please import via timm.layers\", FutureWarning)\n",
      "/Users/jdieguez/anaconda3/envs/tfm2/lib/python3.9/site-packages/timm/models/registry.py:4: FutureWarning: Importing from timm.models.registry is deprecated, please import via timm.models\n",
      "  warnings.warn(f\"Importing from {__name__} is deprecated, please import via timm.models\", FutureWarning)\n"
     ]
    }
   ],
   "source": [
    "import os\n",
    "\n",
    "print(f\"Current working directory: {os.getcwd()}\")\n",
    "if not \"Model\" in os.getcwd():\n",
    "    os.chdir('./Model')\n",
    "print(f\"Current working directory: {os.getcwd()}\")\n",
    "\n",
    "from model.semantic import generate_semantics\n",
    "from compute_center import main as compute_center\n",
    "from method.train import train\n",
    "from method.test import test"
   ]
  },
  {
   "cell_type": "markdown",
   "id": "79e84955-4889-4a99-9af4-401b5a18be3a",
   "metadata": {},
   "source": [
    "# FC100 runs"
   ]
  },
  {
   "cell_type": "markdown",
   "id": "643a43c9-f891-4418-8dd1-2c9eacde5fb8",
   "metadata": {},
   "source": [
    "## Baseline"
   ]
  },
  {
   "cell_type": "code",
   "execution_count": 3,
   "id": "3e49f85f-ba9e-4d85-83cf-a85b0b7d6905",
   "metadata": {},
   "outputs": [],
   "source": [
    "config = {\n",
    "    # General\n",
    "    \"dataset\": 'FC100', #['MiniImageNet', 'TieredImageNet', 'FC100', 'CIFAR-FS']\n",
    "    \"backbone\": 'resnet', #['resnet', 'swin']\n",
    "    \"center\": 'mean', #['mean', 'cluster']\n",
    "    \"gpu\": 0,\n",
    "    \"project\": \"SemFew_recreate\",\n",
    "    \"run_name\": \"FC100_default\",\n",
    "    \n",
    "    # Databases\n",
    "    \"path_to_checkpoints\": \"/Users/jdieguez/Documents/master/TFM/code/checkpoints\",\n",
    "    \"path_to_cifarfs\": \"/Users/jdieguez/Documents/master/TFM/code/cifar-fs/\",\n",
    "    \"path_to_fc100\": '/Users/jdieguez/Documents/master/TFM/code/FC100/',\n",
    "    \"path_to_miniimagenet\": '/Users/jdieguez/Documents/master/TFM/code/miniimagenet',\n",
    "    \"path_to_tieredimagenet\": '/path/to/your/tiredimagenet',\n",
    "\n",
    "    # Semantics\n",
    "    \"llm\": \"default\",\n",
    "    \"semantics_from\": \"default\",\n",
    "    \"file\": \"None\", \n",
    "    \"key\": \"None\", \n",
    "    \"images_per_class\": 5,\n",
    "    \"verbose\": False,\n",
    "    \n",
    "    # TRAIN\n",
    "    \"max_epoch\": 50,\n",
    "    \"test_batch\": 600,\n",
    "    \"shot\": 1,\n",
    "    \"query\": 15,\n",
    "    \"test_way\": 5,\n",
    "    \"feat_size\": 640,\n",
    "    \"semantic_size\": 512,\n",
    "    \"batch_size\": 128,\n",
    "    \"num_workers\": 8,\n",
    "    \"drop\": 0.0,\n",
    "    \"lr\": 1e-4,\n",
    "    \"step_size\": 30,\n",
    "    \"mode\": 'clip', #['clip', 'bert']\n",
    "    \"text_type\":'gpt', #['gpt', 'name', 'definition'])\n",
    "\n",
    "    # TEST\n",
    "    'test-batch': 600,\n",
    "    'seed': 13\n",
    "}\n",
    "\n",
    "class dotdict(dict):\n",
    "    \"\"\"dot.notation access to dictionary attributes\"\"\"\n",
    "    __getattr__ = dict.get\n",
    "    __setattr__ = dict.__setitem__\n",
    "    __delattr__ = dict.__delitem__\n",
    "    \n",
    "args = dotdict(config)\n",
    "if args.backbone == 'resnet':\n",
    "    args.model_path = f\"{args.path_to_checkpoints}/ResNet-{args.dataset}.pth\"\n",
    "elif args.backbone == 'swin':\n",
    "    args.model_path = f\"{args.path_to_checkpoints}/Swin-Tiny-{args.dataset}.pth\""
   ]
  },
  {
   "cell_type": "code",
   "execution_count": 15,
   "id": "62547611-bafd-4d98-87df-b5c7c5db829e",
   "metadata": {},
   "outputs": [
    {
     "name": "stdout",
     "output_type": "stream",
     "text": [
      "Using device: mps\n",
      "96\n"
     ]
    },
    {
     "name": "stderr",
     "output_type": "stream",
     "text": [
      "100%|████████████████████████████████████████████████████████████████████████████████████████████████████████████████| 282/282 [00:37<00:00,  7.61it/s]\n"
     ]
    },
    {
     "name": "stdout",
     "output_type": "stream",
     "text": [
      "Finished train\n"
     ]
    }
   ],
   "source": [
    "centers = compute_center(args)"
   ]
  },
  {
   "cell_type": "code",
   "execution_count": null,
   "id": "e6154ef5-5c37-4692-ae38-144095d5b767",
   "metadata": {},
   "outputs": [
    {
     "name": "stderr",
     "output_type": "stream",
     "text": [
      "\u001b[34m\u001b[1mwandb\u001b[0m: \u001b[33mWARNING\u001b[0m Calling wandb.login() after wandb.init() has no effect.\n"
     ]
    },
    {
     "data": {
      "text/html": [
       "Finishing previous runs because reinit is set to 'default'."
      ],
      "text/plain": [
       "<IPython.core.display.HTML object>"
      ]
     },
     "metadata": {},
     "output_type": "display_data"
    },
    {
     "data": {
      "text/html": [],
      "text/plain": [
       "<IPython.core.display.HTML object>"
      ]
     },
     "metadata": {},
     "output_type": "display_data"
    },
    {
     "data": {
      "text/html": [
       " View run <strong style=\"color:#cdcd00\">FC100_default</strong> at: <a href='https://wandb.ai/joeldvd/SemFew_recreate/runs/lqf7zjhl' target=\"_blank\">https://wandb.ai/joeldvd/SemFew_recreate/runs/lqf7zjhl</a><br> View project at: <a href='https://wandb.ai/joeldvd/SemFew_recreate' target=\"_blank\">https://wandb.ai/joeldvd/SemFew_recreate</a><br>Synced 5 W&B file(s), 0 media file(s), 0 artifact file(s) and 0 other file(s)"
      ],
      "text/plain": [
       "<IPython.core.display.HTML object>"
      ]
     },
     "metadata": {},
     "output_type": "display_data"
    },
    {
     "data": {
      "text/html": [
       "Find logs at: <code>./wandb/run-20250613_175232-lqf7zjhl/logs</code>"
      ],
      "text/plain": [
       "<IPython.core.display.HTML object>"
      ]
     },
     "metadata": {},
     "output_type": "display_data"
    },
    {
     "data": {
      "text/html": [
       "Tracking run with wandb version 0.20.1"
      ],
      "text/plain": [
       "<IPython.core.display.HTML object>"
      ]
     },
     "metadata": {},
     "output_type": "display_data"
    },
    {
     "data": {
      "text/html": [
       "Run data is saved locally in <code>/Users/jdieguez/Documents/master/TFM/code/TFM-SemFew/Model/wandb/run-20250613_175726-xftinzoa</code>"
      ],
      "text/plain": [
       "<IPython.core.display.HTML object>"
      ]
     },
     "metadata": {},
     "output_type": "display_data"
    },
    {
     "data": {
      "text/html": [
       "Syncing run <strong><a href='https://wandb.ai/joeldvd/SemFew_recreate/runs/xftinzoa' target=\"_blank\">FC100_default</a></strong> to <a href='https://wandb.ai/joeldvd/SemFew_recreate' target=\"_blank\">Weights & Biases</a> (<a href='https://wandb.me/developer-guide' target=\"_blank\">docs</a>)<br>"
      ],
      "text/plain": [
       "<IPython.core.display.HTML object>"
      ]
     },
     "metadata": {},
     "output_type": "display_data"
    },
    {
     "data": {
      "text/html": [
       " View project at <a href='https://wandb.ai/joeldvd/SemFew_recreate' target=\"_blank\">https://wandb.ai/joeldvd/SemFew_recreate</a>"
      ],
      "text/plain": [
       "<IPython.core.display.HTML object>"
      ]
     },
     "metadata": {},
     "output_type": "display_data"
    },
    {
     "data": {
      "text/html": [
       " View run at <a href='https://wandb.ai/joeldvd/SemFew_recreate/runs/xftinzoa' target=\"_blank\">https://wandb.ai/joeldvd/SemFew_recreate/runs/xftinzoa</a>"
      ],
      "text/plain": [
       "<IPython.core.display.HTML object>"
      ]
     },
     "metadata": {},
     "output_type": "display_data"
    },
    {
     "name": "stderr",
     "output_type": "stream",
     "text": [
      "2025-06-13 17:57:31,679 - train.py[line:51] - INFO: {}\n",
      "2025-06-13 17:57:31,679 - train.py[line:51] - INFO: {}\n",
      "2025-06-13 17:57:31,679 - train.py[line:51] - INFO: {}\n"
     ]
    },
    {
     "name": "stdout",
     "output_type": "stream",
     "text": [
      "96\n"
     ]
    },
    {
     "name": "stderr",
     "output_type": "stream",
     "text": [
      "100%|████████████████████████████████████████████████████████████████████████████████████████████████████████████████| 282/282 [01:17<00:00,  3.63it/s]\n",
      "2025-06-13 17:58:52,798 - train.py[line:162] - INFO: [Epoch 0/50] [recon loss: 0.089005] \n",
      "2025-06-13 17:58:52,798 - train.py[line:162] - INFO: [Epoch 0/50] [recon loss: 0.089005] \n",
      "2025-06-13 17:58:52,798 - train.py[line:162] - INFO: [Epoch 0/50] [recon loss: 0.089005] \n",
      "100%|████████████████████████████████████████████████████████████████████████████████████████████████████████████████| 600/600 [02:07<00:00,  4.71it/s]\n",
      "2025-06-13 18:01:00,482 - train.py[line:226] - INFO: best epoch: 0\n",
      "2025-06-13 18:01:00,482 - train.py[line:226] - INFO: best epoch: 0\n",
      "2025-06-13 18:01:00,482 - train.py[line:226] - INFO: best epoch: 0\n",
      "2025-06-13 18:01:00,503 - train.py[line:231] - INFO: epoch: 0 |origin acc: 38.49+0.74% |complete acc: 38.78+0.75% |gap: 0.29/0.29 |k: 0.61\n",
      "2025-06-13 18:01:00,503 - train.py[line:231] - INFO: epoch: 0 |origin acc: 38.49+0.74% |complete acc: 38.78+0.75% |gap: 0.29/0.29 |k: 0.61\n",
      "2025-06-13 18:01:00,503 - train.py[line:231] - INFO: epoch: 0 |origin acc: 38.49+0.74% |complete acc: 38.78+0.75% |gap: 0.29/0.29 |k: 0.61\n",
      "2025-06-13 18:01:00,504 - train.py[line:235] - INFO: ACC |proto acc: 38.49+0.74% |gen acc: 36.78+0.70% |Max: 38.78\n",
      "2025-06-13 18:01:00,504 - train.py[line:235] - INFO: ACC |proto acc: 38.49+0.74% |gen acc: 36.78+0.70% |Max: 38.78\n",
      "2025-06-13 18:01:00,504 - train.py[line:235] - INFO: ACC |proto acc: 38.49+0.74% |gen acc: 36.78+0.70% |Max: 38.78\n"
     ]
    },
    {
     "name": "stdout",
     "output_type": "stream",
     "text": [
      "save 0\n"
     ]
    },
    {
     "name": "stderr",
     "output_type": "stream",
     "text": [
      "100%|████████████████████████████████████████████████████████████████████████████████████████████████████████████████| 282/282 [01:15<00:00,  3.73it/s]\n",
      "2025-06-13 18:02:16,196 - train.py[line:162] - INFO: [Epoch 1/50] [recon loss: 0.067368] \n",
      "2025-06-13 18:02:16,196 - train.py[line:162] - INFO: [Epoch 1/50] [recon loss: 0.067368] \n",
      "2025-06-13 18:02:16,196 - train.py[line:162] - INFO: [Epoch 1/50] [recon loss: 0.067368] \n",
      "100%|████████████████████████████████████████████████████████████████████████████████████████████████████████████████| 600/600 [02:07<00:00,  4.71it/s]\n",
      "2025-06-13 18:04:24,042 - train.py[line:226] - INFO: best epoch: 1\n",
      "2025-06-13 18:04:24,042 - train.py[line:226] - INFO: best epoch: 1\n",
      "2025-06-13 18:04:24,042 - train.py[line:226] - INFO: best epoch: 1\n",
      "2025-06-13 18:04:24,051 - train.py[line:231] - INFO: epoch: 1 |origin acc: 39.18+0.73% |complete acc: 40.49+0.72% |gap: 1.31/1.31 |k: 0.24\n",
      "2025-06-13 18:04:24,051 - train.py[line:231] - INFO: epoch: 1 |origin acc: 39.18+0.73% |complete acc: 40.49+0.72% |gap: 1.31/1.31 |k: 0.24\n",
      "2025-06-13 18:04:24,051 - train.py[line:231] - INFO: epoch: 1 |origin acc: 39.18+0.73% |complete acc: 40.49+0.72% |gap: 1.31/1.31 |k: 0.24\n",
      "2025-06-13 18:04:24,056 - train.py[line:235] - INFO: ACC |proto acc: 39.18+0.73% |gen acc: 38.33+0.68% |Max: 40.49\n",
      "2025-06-13 18:04:24,056 - train.py[line:235] - INFO: ACC |proto acc: 39.18+0.73% |gen acc: 38.33+0.68% |Max: 40.49\n",
      "2025-06-13 18:04:24,056 - train.py[line:235] - INFO: ACC |proto acc: 39.18+0.73% |gen acc: 38.33+0.68% |Max: 40.49\n"
     ]
    },
    {
     "name": "stdout",
     "output_type": "stream",
     "text": [
      "save 1\n"
     ]
    },
    {
     "name": "stderr",
     "output_type": "stream",
     "text": [
      "100%|████████████████████████████████████████████████████████████████████████████████████████████████████████████████| 282/282 [01:14<00:00,  3.78it/s]\n",
      "2025-06-13 18:05:38,770 - train.py[line:162] - INFO: [Epoch 2/50] [recon loss: 0.051773] \n",
      "2025-06-13 18:05:38,770 - train.py[line:162] - INFO: [Epoch 2/50] [recon loss: 0.051773] \n",
      "2025-06-13 18:05:38,770 - train.py[line:162] - INFO: [Epoch 2/50] [recon loss: 0.051773] \n",
      "100%|████████████████████████████████████████████████████████████████████████████████████████████████████████████████| 600/600 [02:08<00:00,  4.67it/s]\n",
      "2025-06-13 18:07:47,624 - train.py[line:226] - INFO: best epoch: 2\n",
      "2025-06-13 18:07:47,624 - train.py[line:226] - INFO: best epoch: 2\n",
      "2025-06-13 18:07:47,624 - train.py[line:226] - INFO: best epoch: 2\n",
      "2025-06-13 18:07:47,635 - train.py[line:231] - INFO: epoch: 2 |origin acc: 38.74+0.70% |complete acc: 41.91+0.71% |gap: 3.16/3.16 |k: 0.19\n",
      "2025-06-13 18:07:47,635 - train.py[line:231] - INFO: epoch: 2 |origin acc: 38.74+0.70% |complete acc: 41.91+0.71% |gap: 3.16/3.16 |k: 0.19\n",
      "2025-06-13 18:07:47,635 - train.py[line:231] - INFO: epoch: 2 |origin acc: 38.74+0.70% |complete acc: 41.91+0.71% |gap: 3.16/3.16 |k: 0.19\n",
      "2025-06-13 18:07:47,640 - train.py[line:235] - INFO: ACC |proto acc: 38.74+0.70% |gen acc: 39.66+0.68% |Max: 41.91\n",
      "2025-06-13 18:07:47,640 - train.py[line:235] - INFO: ACC |proto acc: 38.74+0.70% |gen acc: 39.66+0.68% |Max: 41.91\n",
      "2025-06-13 18:07:47,640 - train.py[line:235] - INFO: ACC |proto acc: 38.74+0.70% |gen acc: 39.66+0.68% |Max: 41.91\n"
     ]
    },
    {
     "name": "stdout",
     "output_type": "stream",
     "text": [
      "save 2\n"
     ]
    },
    {
     "name": "stderr",
     "output_type": "stream",
     "text": [
      "100%|████████████████████████████████████████████████████████████████████████████████████████████████████████████████| 282/282 [01:14<00:00,  3.80it/s]\n",
      "2025-06-13 18:09:01,820 - train.py[line:162] - INFO: [Epoch 3/50] [recon loss: 0.042437] \n",
      "2025-06-13 18:09:01,820 - train.py[line:162] - INFO: [Epoch 3/50] [recon loss: 0.042437] \n",
      "2025-06-13 18:09:01,820 - train.py[line:162] - INFO: [Epoch 3/50] [recon loss: 0.042437] \n",
      "100%|████████████████████████████████████████████████████████████████████████████████████████████████████████████████| 600/600 [02:07<00:00,  4.71it/s]\n",
      "2025-06-13 18:11:09,760 - train.py[line:226] - INFO: best epoch: 3\n",
      "2025-06-13 18:11:09,760 - train.py[line:226] - INFO: best epoch: 3\n",
      "2025-06-13 18:11:09,760 - train.py[line:226] - INFO: best epoch: 3\n",
      "2025-06-13 18:11:09,784 - train.py[line:231] - INFO: epoch: 3 |origin acc: 38.40+0.68% |complete acc: 42.67+0.68% |gap: 4.27/4.27 |k: 0.16\n",
      "2025-06-13 18:11:09,784 - train.py[line:231] - INFO: epoch: 3 |origin acc: 38.40+0.68% |complete acc: 42.67+0.68% |gap: 4.27/4.27 |k: 0.16\n",
      "2025-06-13 18:11:09,784 - train.py[line:231] - INFO: epoch: 3 |origin acc: 38.40+0.68% |complete acc: 42.67+0.68% |gap: 4.27/4.27 |k: 0.16\n",
      "2025-06-13 18:11:09,788 - train.py[line:235] - INFO: ACC |proto acc: 38.40+0.68% |gen acc: 39.89+0.65% |Max: 42.67\n",
      "2025-06-13 18:11:09,788 - train.py[line:235] - INFO: ACC |proto acc: 38.40+0.68% |gen acc: 39.89+0.65% |Max: 42.67\n",
      "2025-06-13 18:11:09,788 - train.py[line:235] - INFO: ACC |proto acc: 38.40+0.68% |gen acc: 39.89+0.65% |Max: 42.67\n"
     ]
    },
    {
     "name": "stdout",
     "output_type": "stream",
     "text": [
      "save 3\n"
     ]
    },
    {
     "name": "stderr",
     "output_type": "stream",
     "text": [
      "100%|████████████████████████████████████████████████████████████████████████████████████████████████████████████████| 282/282 [01:19<00:00,  3.55it/s]\n",
      "2025-06-13 18:12:29,351 - train.py[line:162] - INFO: [Epoch 4/50] [recon loss: 0.032078] \n",
      "2025-06-13 18:12:29,351 - train.py[line:162] - INFO: [Epoch 4/50] [recon loss: 0.032078] \n",
      "2025-06-13 18:12:29,351 - train.py[line:162] - INFO: [Epoch 4/50] [recon loss: 0.032078] \n",
      "100%|████████████████████████████████████████████████████████████████████████████████████████████████████████████████| 600/600 [02:32<00:00,  3.92it/s]\n",
      "2025-06-13 18:15:02,810 - train.py[line:226] - INFO: best epoch: 4\n",
      "2025-06-13 18:15:02,810 - train.py[line:226] - INFO: best epoch: 4\n",
      "2025-06-13 18:15:02,810 - train.py[line:226] - INFO: best epoch: 4\n",
      "2025-06-13 18:15:02,821 - train.py[line:231] - INFO: epoch: 4 |origin acc: 39.20+0.74% |complete acc: 43.83+0.75% |gap: 4.63/4.63 |k: 0.17\n",
      "2025-06-13 18:15:02,821 - train.py[line:231] - INFO: epoch: 4 |origin acc: 39.20+0.74% |complete acc: 43.83+0.75% |gap: 4.63/4.63 |k: 0.17\n",
      "2025-06-13 18:15:02,821 - train.py[line:231] - INFO: epoch: 4 |origin acc: 39.20+0.74% |complete acc: 43.83+0.75% |gap: 4.63/4.63 |k: 0.17\n",
      "2025-06-13 18:15:02,828 - train.py[line:235] - INFO: ACC |proto acc: 39.20+0.74% |gen acc: 39.95+0.69% |Max: 43.83\n",
      "2025-06-13 18:15:02,828 - train.py[line:235] - INFO: ACC |proto acc: 39.20+0.74% |gen acc: 39.95+0.69% |Max: 43.83\n",
      "2025-06-13 18:15:02,828 - train.py[line:235] - INFO: ACC |proto acc: 39.20+0.74% |gen acc: 39.95+0.69% |Max: 43.83\n"
     ]
    },
    {
     "name": "stdout",
     "output_type": "stream",
     "text": [
      "save 4\n"
     ]
    },
    {
     "name": "stderr",
     "output_type": "stream",
     "text": [
      "100%|████████████████████████████████████████████████████████████████████████████████████████████████████████████████| 282/282 [01:32<00:00,  3.06it/s]\n",
      "2025-06-13 18:16:35,026 - train.py[line:162] - INFO: [Epoch 5/50] [recon loss: 0.027451] \n",
      "2025-06-13 18:16:35,026 - train.py[line:162] - INFO: [Epoch 5/50] [recon loss: 0.027451] \n",
      "2025-06-13 18:16:35,026 - train.py[line:162] - INFO: [Epoch 5/50] [recon loss: 0.027451] \n",
      "100%|████████████████████████████████████████████████████████████████████████████████████████████████████████████████| 600/600 [02:09<00:00,  4.63it/s]\n",
      "2025-06-13 18:18:44,751 - train.py[line:231] - INFO: epoch: 5 |origin acc: 38.44+0.70% |complete acc: 43.78+0.72% |gap: 5.34/5.34 |k: 0.19\n",
      "2025-06-13 18:18:44,751 - train.py[line:231] - INFO: epoch: 5 |origin acc: 38.44+0.70% |complete acc: 43.78+0.72% |gap: 5.34/5.34 |k: 0.19\n",
      "2025-06-13 18:18:44,751 - train.py[line:231] - INFO: epoch: 5 |origin acc: 38.44+0.70% |complete acc: 43.78+0.72% |gap: 5.34/5.34 |k: 0.19\n",
      "2025-06-13 18:18:44,758 - train.py[line:235] - INFO: ACC |proto acc: 38.44+0.70% |gen acc: 39.21+0.66% |Max: 43.83\n",
      "2025-06-13 18:18:44,758 - train.py[line:235] - INFO: ACC |proto acc: 38.44+0.70% |gen acc: 39.21+0.66% |Max: 43.83\n",
      "2025-06-13 18:18:44,758 - train.py[line:235] - INFO: ACC |proto acc: 38.44+0.70% |gen acc: 39.21+0.66% |Max: 43.83\n",
      "100%|████████████████████████████████████████████████████████████████████████████████████████████████████████████████| 282/282 [01:34<00:00,  3.00it/s]\n",
      "2025-06-13 18:20:18,898 - train.py[line:162] - INFO: [Epoch 6/50] [recon loss: 0.019398] \n",
      "2025-06-13 18:20:18,898 - train.py[line:162] - INFO: [Epoch 6/50] [recon loss: 0.019398] \n",
      "2025-06-13 18:20:18,898 - train.py[line:162] - INFO: [Epoch 6/50] [recon loss: 0.019398] \n",
      "100%|████████████████████████████████████████████████████████████████████████████████████████████████████████████████| 600/600 [02:17<00:00,  4.37it/s]\n",
      "2025-06-13 18:22:36,880 - train.py[line:226] - INFO: best epoch: 6\n",
      "2025-06-13 18:22:36,880 - train.py[line:226] - INFO: best epoch: 6\n",
      "2025-06-13 18:22:36,880 - train.py[line:226] - INFO: best epoch: 6\n",
      "2025-06-13 18:22:36,893 - train.py[line:231] - INFO: epoch: 6 |origin acc: 38.43+0.71% |complete acc: 43.84+0.74% |gap: 5.42/5.42 |k: 0.22\n",
      "2025-06-13 18:22:36,893 - train.py[line:231] - INFO: epoch: 6 |origin acc: 38.43+0.71% |complete acc: 43.84+0.74% |gap: 5.42/5.42 |k: 0.22\n",
      "2025-06-13 18:22:36,893 - train.py[line:231] - INFO: epoch: 6 |origin acc: 38.43+0.71% |complete acc: 43.84+0.74% |gap: 5.42/5.42 |k: 0.22\n",
      "2025-06-13 18:22:36,898 - train.py[line:235] - INFO: ACC |proto acc: 38.43+0.71% |gen acc: 38.72+0.66% |Max: 43.84\n",
      "2025-06-13 18:22:36,898 - train.py[line:235] - INFO: ACC |proto acc: 38.43+0.71% |gen acc: 38.72+0.66% |Max: 43.84\n",
      "2025-06-13 18:22:36,898 - train.py[line:235] - INFO: ACC |proto acc: 38.43+0.71% |gen acc: 38.72+0.66% |Max: 43.84\n"
     ]
    },
    {
     "name": "stdout",
     "output_type": "stream",
     "text": [
      "save 6\n"
     ]
    },
    {
     "name": "stderr",
     "output_type": "stream",
     "text": [
      "100%|████████████████████████████████████████████████████████████████████████████████████████████████████████████████| 282/282 [01:47<00:00,  2.63it/s]\n",
      "2025-06-13 18:24:24,077 - train.py[line:162] - INFO: [Epoch 7/50] [recon loss: 0.017343] \n",
      "2025-06-13 18:24:24,077 - train.py[line:162] - INFO: [Epoch 7/50] [recon loss: 0.017343] \n",
      "2025-06-13 18:24:24,077 - train.py[line:162] - INFO: [Epoch 7/50] [recon loss: 0.017343] \n",
      "100%|████████████████████████████████████████████████████████████████████████████████████████████████████████████████| 600/600 [02:07<00:00,  4.70it/s]\n",
      "2025-06-13 18:26:32,451 - train.py[line:226] - INFO: best epoch: 7\n",
      "2025-06-13 18:26:32,451 - train.py[line:226] - INFO: best epoch: 7\n",
      "2025-06-13 18:26:32,451 - train.py[line:226] - INFO: best epoch: 7\n",
      "2025-06-13 18:26:32,461 - train.py[line:231] - INFO: epoch: 7 |origin acc: 38.33+0.69% |complete acc: 44.00+0.69% |gap: 5.67/5.67 |k: 0.21\n",
      "2025-06-13 18:26:32,461 - train.py[line:231] - INFO: epoch: 7 |origin acc: 38.33+0.69% |complete acc: 44.00+0.69% |gap: 5.67/5.67 |k: 0.21\n",
      "2025-06-13 18:26:32,461 - train.py[line:231] - INFO: epoch: 7 |origin acc: 38.33+0.69% |complete acc: 44.00+0.69% |gap: 5.67/5.67 |k: 0.21\n",
      "2025-06-13 18:26:32,467 - train.py[line:235] - INFO: ACC |proto acc: 38.33+0.69% |gen acc: 38.70+0.59% |Max: 44.00\n",
      "2025-06-13 18:26:32,467 - train.py[line:235] - INFO: ACC |proto acc: 38.33+0.69% |gen acc: 38.70+0.59% |Max: 44.00\n",
      "2025-06-13 18:26:32,467 - train.py[line:235] - INFO: ACC |proto acc: 38.33+0.69% |gen acc: 38.70+0.59% |Max: 44.00\n"
     ]
    },
    {
     "name": "stdout",
     "output_type": "stream",
     "text": [
      "save 7\n"
     ]
    },
    {
     "name": "stderr",
     "output_type": "stream",
     "text": [
      "100%|████████████████████████████████████████████████████████████████████████████████████████████████████████████████| 282/282 [01:44<00:00,  2.69it/s]\n",
      "2025-06-13 18:28:17,414 - train.py[line:162] - INFO: [Epoch 8/50] [recon loss: 0.015742] \n",
      "2025-06-13 18:28:17,414 - train.py[line:162] - INFO: [Epoch 8/50] [recon loss: 0.015742] \n",
      "2025-06-13 18:28:17,414 - train.py[line:162] - INFO: [Epoch 8/50] [recon loss: 0.015742] \n",
      "100%|████████████████████████████████████████████████████████████████████████████████████████████████████████████████| 600/600 [02:28<00:00,  4.05it/s]\n",
      "2025-06-13 18:30:46,247 - train.py[line:226] - INFO: best epoch: 8\n",
      "2025-06-13 18:30:46,247 - train.py[line:226] - INFO: best epoch: 8\n",
      "2025-06-13 18:30:46,247 - train.py[line:226] - INFO: best epoch: 8\n",
      "2025-06-13 18:30:46,258 - train.py[line:231] - INFO: epoch: 8 |origin acc: 38.46+0.73% |complete acc: 44.69+0.74% |gap: 6.23/6.23 |k: 0.21\n",
      "2025-06-13 18:30:46,258 - train.py[line:231] - INFO: epoch: 8 |origin acc: 38.46+0.73% |complete acc: 44.69+0.74% |gap: 6.23/6.23 |k: 0.21\n",
      "2025-06-13 18:30:46,258 - train.py[line:231] - INFO: epoch: 8 |origin acc: 38.46+0.73% |complete acc: 44.69+0.74% |gap: 6.23/6.23 |k: 0.21\n",
      "2025-06-13 18:30:46,264 - train.py[line:235] - INFO: ACC |proto acc: 38.46+0.73% |gen acc: 39.30+0.64% |Max: 44.69\n",
      "2025-06-13 18:30:46,264 - train.py[line:235] - INFO: ACC |proto acc: 38.46+0.73% |gen acc: 39.30+0.64% |Max: 44.69\n",
      "2025-06-13 18:30:46,264 - train.py[line:235] - INFO: ACC |proto acc: 38.46+0.73% |gen acc: 39.30+0.64% |Max: 44.69\n"
     ]
    },
    {
     "name": "stdout",
     "output_type": "stream",
     "text": [
      "save 8\n"
     ]
    },
    {
     "name": "stderr",
     "output_type": "stream",
     "text": [
      "100%|████████████████████████████████████████████████████████████████████████████████████████████████████████████████| 282/282 [01:38<00:00,  2.86it/s]\n",
      "2025-06-13 18:32:24,780 - train.py[line:162] - INFO: [Epoch 9/50] [recon loss: 0.013447] \n",
      "2025-06-13 18:32:24,780 - train.py[line:162] - INFO: [Epoch 9/50] [recon loss: 0.013447] \n",
      "2025-06-13 18:32:24,780 - train.py[line:162] - INFO: [Epoch 9/50] [recon loss: 0.013447] \n",
      "100%|████████████████████████████████████████████████████████████████████████████████████████████████████████████████| 600/600 [03:40<00:00,  2.73it/s]\n",
      "2025-06-13 18:36:06,856 - train.py[line:226] - INFO: best epoch: 9\n",
      "2025-06-13 18:36:06,856 - train.py[line:226] - INFO: best epoch: 9\n",
      "2025-06-13 18:36:06,856 - train.py[line:226] - INFO: best epoch: 9\n",
      "2025-06-13 18:36:06,886 - train.py[line:231] - INFO: epoch: 9 |origin acc: 39.34+0.77% |complete acc: 45.32+0.70% |gap: 6.23/5.98 |k: 0.2\n",
      "2025-06-13 18:36:06,886 - train.py[line:231] - INFO: epoch: 9 |origin acc: 39.34+0.77% |complete acc: 45.32+0.70% |gap: 6.23/5.98 |k: 0.2\n",
      "2025-06-13 18:36:06,886 - train.py[line:231] - INFO: epoch: 9 |origin acc: 39.34+0.77% |complete acc: 45.32+0.70% |gap: 6.23/5.98 |k: 0.2\n",
      "2025-06-13 18:36:06,898 - train.py[line:235] - INFO: ACC |proto acc: 39.34+0.77% |gen acc: 38.91+0.63% |Max: 45.32\n",
      "2025-06-13 18:36:06,898 - train.py[line:235] - INFO: ACC |proto acc: 39.34+0.77% |gen acc: 38.91+0.63% |Max: 45.32\n",
      "2025-06-13 18:36:06,898 - train.py[line:235] - INFO: ACC |proto acc: 39.34+0.77% |gen acc: 38.91+0.63% |Max: 45.32\n"
     ]
    },
    {
     "name": "stdout",
     "output_type": "stream",
     "text": [
      "save 9\n"
     ]
    },
    {
     "name": "stderr",
     "output_type": "stream",
     "text": [
      "100%|████████████████████████████████████████████████████████████████████████████████████████████████████████████████| 282/282 [02:21<00:00,  1.99it/s]\n",
      "2025-06-13 18:38:28,451 - train.py[line:162] - INFO: [Epoch 10/50] [recon loss: 0.012539] \n",
      "2025-06-13 18:38:28,451 - train.py[line:162] - INFO: [Epoch 10/50] [recon loss: 0.012539] \n",
      "2025-06-13 18:38:28,451 - train.py[line:162] - INFO: [Epoch 10/50] [recon loss: 0.012539] \n",
      "100%|████████████████████████████████████████████████████████████████████████████████████████████████████████████████| 600/600 [03:33<00:00,  2.82it/s]\n",
      "2025-06-13 18:42:01,590 - train.py[line:231] - INFO: epoch: 10 |origin acc: 38.72+0.72% |complete acc: 44.68+0.70% |gap: 6.23/5.95 |k: 0.2\n",
      "2025-06-13 18:42:01,590 - train.py[line:231] - INFO: epoch: 10 |origin acc: 38.72+0.72% |complete acc: 44.68+0.70% |gap: 6.23/5.95 |k: 0.2\n",
      "2025-06-13 18:42:01,590 - train.py[line:231] - INFO: epoch: 10 |origin acc: 38.72+0.72% |complete acc: 44.68+0.70% |gap: 6.23/5.95 |k: 0.2\n",
      "2025-06-13 18:42:01,603 - train.py[line:235] - INFO: ACC |proto acc: 38.72+0.72% |gen acc: 38.57+0.65% |Max: 45.32\n",
      "2025-06-13 18:42:01,603 - train.py[line:235] - INFO: ACC |proto acc: 38.72+0.72% |gen acc: 38.57+0.65% |Max: 45.32\n",
      "2025-06-13 18:42:01,603 - train.py[line:235] - INFO: ACC |proto acc: 38.72+0.72% |gen acc: 38.57+0.65% |Max: 45.32\n",
      "100%|████████████████████████████████████████████████████████████████████████████████████████████████████████████████| 282/282 [05:51<00:00,  1.25s/it]\n",
      "2025-06-13 18:47:53,021 - train.py[line:162] - INFO: [Epoch 11/50] [recon loss: 0.013250] \n",
      "2025-06-13 18:47:53,021 - train.py[line:162] - INFO: [Epoch 11/50] [recon loss: 0.013250] \n",
      "2025-06-13 18:47:53,021 - train.py[line:162] - INFO: [Epoch 11/50] [recon loss: 0.013250] \n",
      "100%|████████████████████████████████████████████████████████████████████████████████████████████████████████████████| 600/600 [21:46<00:00,  2.18s/it]\n",
      "2025-06-13 19:09:39,278 - train.py[line:231] - INFO: epoch: 11 |origin acc: 39.34+0.72% |complete acc: 44.79+0.75% |gap: 6.23/5.45 |k: 0.22\n",
      "2025-06-13 19:09:39,278 - train.py[line:231] - INFO: epoch: 11 |origin acc: 39.34+0.72% |complete acc: 44.79+0.75% |gap: 6.23/5.45 |k: 0.22\n",
      "2025-06-13 19:09:39,278 - train.py[line:231] - INFO: epoch: 11 |origin acc: 39.34+0.72% |complete acc: 44.79+0.75% |gap: 6.23/5.45 |k: 0.22\n",
      "2025-06-13 19:09:39,288 - train.py[line:235] - INFO: ACC |proto acc: 39.34+0.72% |gen acc: 38.22+0.69% |Max: 45.32\n",
      "2025-06-13 19:09:39,288 - train.py[line:235] - INFO: ACC |proto acc: 39.34+0.72% |gen acc: 38.22+0.69% |Max: 45.32\n",
      "2025-06-13 19:09:39,288 - train.py[line:235] - INFO: ACC |proto acc: 39.34+0.72% |gen acc: 38.22+0.69% |Max: 45.32\n",
      "100%|████████████████████████████████████████████████████████████████████████████████████████████████████████████████| 282/282 [17:30<00:00,  3.73s/it]\n",
      "2025-06-13 19:27:10,063 - train.py[line:162] - INFO: [Epoch 12/50] [recon loss: 0.009738] \n",
      "2025-06-13 19:27:10,063 - train.py[line:162] - INFO: [Epoch 12/50] [recon loss: 0.009738] \n",
      "2025-06-13 19:27:10,063 - train.py[line:162] - INFO: [Epoch 12/50] [recon loss: 0.009738] \n",
      "100%|████████████████████████████████████████████████████████████████████████████████████████████████████████████████| 600/600 [25:53<00:00,  2.59s/it]\n",
      "2025-06-13 19:53:03,208 - train.py[line:231] - INFO: epoch: 12 |origin acc: 38.62+0.71% |complete acc: 44.48+0.71% |gap: 6.23/5.86 |k: 0.23\n",
      "2025-06-13 19:53:03,208 - train.py[line:231] - INFO: epoch: 12 |origin acc: 38.62+0.71% |complete acc: 44.48+0.71% |gap: 6.23/5.86 |k: 0.23\n",
      "2025-06-13 19:53:03,208 - train.py[line:231] - INFO: epoch: 12 |origin acc: 38.62+0.71% |complete acc: 44.48+0.71% |gap: 6.23/5.86 |k: 0.23\n",
      "2025-06-13 19:53:03,216 - train.py[line:235] - INFO: ACC |proto acc: 38.62+0.71% |gen acc: 38.43+0.65% |Max: 45.32\n",
      "2025-06-13 19:53:03,216 - train.py[line:235] - INFO: ACC |proto acc: 38.62+0.71% |gen acc: 38.43+0.65% |Max: 45.32\n",
      "2025-06-13 19:53:03,216 - train.py[line:235] - INFO: ACC |proto acc: 38.62+0.71% |gen acc: 38.43+0.65% |Max: 45.32\n",
      "100%|████████████████████████████████████████████████████████████████████████████████████████████████████████████████| 282/282 [32:08<00:00,  6.84s/it]\n",
      "2025-06-13 20:25:11,414 - train.py[line:162] - INFO: [Epoch 13/50] [recon loss: 0.009297] \n",
      "2025-06-13 20:25:11,414 - train.py[line:162] - INFO: [Epoch 13/50] [recon loss: 0.009297] \n",
      "2025-06-13 20:25:11,414 - train.py[line:162] - INFO: [Epoch 13/50] [recon loss: 0.009297] \n",
      "100%|████████████████████████████████████████████████████████████████████████████████████████████████████████████████| 600/600 [02:12<00:00,  4.53it/s]\n",
      "2025-06-13 20:27:23,893 - train.py[line:231] - INFO: epoch: 13 |origin acc: 39.12+0.73% |complete acc: 44.39+0.73% |gap: 6.23/5.28 |k: 0.24\n",
      "2025-06-13 20:27:23,893 - train.py[line:231] - INFO: epoch: 13 |origin acc: 39.12+0.73% |complete acc: 44.39+0.73% |gap: 6.23/5.28 |k: 0.24\n",
      "2025-06-13 20:27:23,893 - train.py[line:231] - INFO: epoch: 13 |origin acc: 39.12+0.73% |complete acc: 44.39+0.73% |gap: 6.23/5.28 |k: 0.24\n",
      "2025-06-13 20:27:23,900 - train.py[line:235] - INFO: ACC |proto acc: 39.12+0.73% |gen acc: 37.32+0.67% |Max: 45.32\n",
      "2025-06-13 20:27:23,900 - train.py[line:235] - INFO: ACC |proto acc: 39.12+0.73% |gen acc: 37.32+0.67% |Max: 45.32\n",
      "2025-06-13 20:27:23,900 - train.py[line:235] - INFO: ACC |proto acc: 39.12+0.73% |gen acc: 37.32+0.67% |Max: 45.32\n",
      "100%|████████████████████████████████████████████████████████████████████████████████████████████████████████████████| 282/282 [01:34<00:00,  2.97it/s]\n",
      "2025-06-13 20:28:58,818 - train.py[line:162] - INFO: [Epoch 14/50] [recon loss: 0.010231] \n",
      "2025-06-13 20:28:58,818 - train.py[line:162] - INFO: [Epoch 14/50] [recon loss: 0.010231] \n",
      "2025-06-13 20:28:58,818 - train.py[line:162] - INFO: [Epoch 14/50] [recon loss: 0.010231] \n",
      "100%|████████████████████████████████████████████████████████████████████████████████████████████████████████████████| 600/600 [02:05<00:00,  4.80it/s]\n",
      "2025-06-13 20:31:03,947 - train.py[line:231] - INFO: epoch: 14 |origin acc: 39.12+0.76% |complete acc: 44.92+0.76% |gap: 6.23/5.80 |k: 0.24\n",
      "2025-06-13 20:31:03,947 - train.py[line:231] - INFO: epoch: 14 |origin acc: 39.12+0.76% |complete acc: 44.92+0.76% |gap: 6.23/5.80 |k: 0.24\n",
      "2025-06-13 20:31:03,947 - train.py[line:231] - INFO: epoch: 14 |origin acc: 39.12+0.76% |complete acc: 44.92+0.76% |gap: 6.23/5.80 |k: 0.24\n",
      "2025-06-13 20:31:03,957 - train.py[line:235] - INFO: ACC |proto acc: 39.12+0.76% |gen acc: 38.27+0.64% |Max: 45.32\n",
      "2025-06-13 20:31:03,957 - train.py[line:235] - INFO: ACC |proto acc: 39.12+0.76% |gen acc: 38.27+0.64% |Max: 45.32\n",
      "2025-06-13 20:31:03,957 - train.py[line:235] - INFO: ACC |proto acc: 39.12+0.76% |gen acc: 38.27+0.64% |Max: 45.32\n",
      "100%|████████████████████████████████████████████████████████████████████████████████████████████████████████████████| 282/282 [01:16<00:00,  3.70it/s]\n",
      "2025-06-13 20:32:20,267 - train.py[line:162] - INFO: [Epoch 15/50] [recon loss: 0.008677] \n",
      "2025-06-13 20:32:20,267 - train.py[line:162] - INFO: [Epoch 15/50] [recon loss: 0.008677] \n",
      "2025-06-13 20:32:20,267 - train.py[line:162] - INFO: [Epoch 15/50] [recon loss: 0.008677] \n",
      "100%|████████████████████████████████████████████████████████████████████████████████████████████████████████████████| 600/600 [02:01<00:00,  4.95it/s]\n",
      "2025-06-13 20:34:21,634 - train.py[line:231] - INFO: epoch: 15 |origin acc: 38.96+0.72% |complete acc: 44.78+0.74% |gap: 6.23/5.82 |k: 0.23\n",
      "2025-06-13 20:34:21,634 - train.py[line:231] - INFO: epoch: 15 |origin acc: 38.96+0.72% |complete acc: 44.78+0.74% |gap: 6.23/5.82 |k: 0.23\n",
      "2025-06-13 20:34:21,634 - train.py[line:231] - INFO: epoch: 15 |origin acc: 38.96+0.72% |complete acc: 44.78+0.74% |gap: 6.23/5.82 |k: 0.23\n",
      "2025-06-13 20:34:21,640 - train.py[line:235] - INFO: ACC |proto acc: 38.96+0.72% |gen acc: 37.72+0.65% |Max: 45.32\n",
      "2025-06-13 20:34:21,640 - train.py[line:235] - INFO: ACC |proto acc: 38.96+0.72% |gen acc: 37.72+0.65% |Max: 45.32\n",
      "2025-06-13 20:34:21,640 - train.py[line:235] - INFO: ACC |proto acc: 38.96+0.72% |gen acc: 37.72+0.65% |Max: 45.32\n",
      "100%|████████████████████████████████████████████████████████████████████████████████████████████████████████████████| 282/282 [01:13<00:00,  3.82it/s]\n",
      "2025-06-13 20:35:35,463 - train.py[line:162] - INFO: [Epoch 16/50] [recon loss: 0.008151] \n",
      "2025-06-13 20:35:35,463 - train.py[line:162] - INFO: [Epoch 16/50] [recon loss: 0.008151] \n",
      "2025-06-13 20:35:35,463 - train.py[line:162] - INFO: [Epoch 16/50] [recon loss: 0.008151] \n",
      "100%|████████████████████████████████████████████████████████████████████████████████████████████████████████████████| 600/600 [01:58<00:00,  5.04it/s]\n",
      "2025-06-13 20:37:34,496 - train.py[line:231] - INFO: epoch: 16 |origin acc: 39.48+0.72% |complete acc: 45.13+0.76% |gap: 6.23/5.65 |k: 0.25\n",
      "2025-06-13 20:37:34,496 - train.py[line:231] - INFO: epoch: 16 |origin acc: 39.48+0.72% |complete acc: 45.13+0.76% |gap: 6.23/5.65 |k: 0.25\n",
      "2025-06-13 20:37:34,496 - train.py[line:231] - INFO: epoch: 16 |origin acc: 39.48+0.72% |complete acc: 45.13+0.76% |gap: 6.23/5.65 |k: 0.25\n",
      "2025-06-13 20:37:34,504 - train.py[line:235] - INFO: ACC |proto acc: 39.48+0.72% |gen acc: 37.22+0.66% |Max: 45.32\n",
      "2025-06-13 20:37:34,504 - train.py[line:235] - INFO: ACC |proto acc: 39.48+0.72% |gen acc: 37.22+0.66% |Max: 45.32\n",
      "2025-06-13 20:37:34,504 - train.py[line:235] - INFO: ACC |proto acc: 39.48+0.72% |gen acc: 37.22+0.66% |Max: 45.32\n",
      "100%|████████████████████████████████████████████████████████████████████████████████████████████████████████████████| 282/282 [01:14<00:00,  3.80it/s]\n",
      "2025-06-13 20:38:48,691 - train.py[line:162] - INFO: [Epoch 17/50] [recon loss: 0.007817] \n",
      "2025-06-13 20:38:48,691 - train.py[line:162] - INFO: [Epoch 17/50] [recon loss: 0.007817] \n",
      "2025-06-13 20:38:48,691 - train.py[line:162] - INFO: [Epoch 17/50] [recon loss: 0.007817] \n",
      "100%|████████████████████████████████████████████████████████████████████████████████████████████████████████████████| 600/600 [02:01<00:00,  4.93it/s]\n",
      "2025-06-13 20:40:50,341 - train.py[line:231] - INFO: epoch: 17 |origin acc: 38.22+0.69% |complete acc: 44.28+0.72% |gap: 6.23/6.05 |k: 0.26\n",
      "2025-06-13 20:40:50,341 - train.py[line:231] - INFO: epoch: 17 |origin acc: 38.22+0.69% |complete acc: 44.28+0.72% |gap: 6.23/6.05 |k: 0.26\n",
      "2025-06-13 20:40:50,341 - train.py[line:231] - INFO: epoch: 17 |origin acc: 38.22+0.69% |complete acc: 44.28+0.72% |gap: 6.23/6.05 |k: 0.26\n",
      "2025-06-13 20:40:50,347 - train.py[line:235] - INFO: ACC |proto acc: 38.22+0.69% |gen acc: 37.53+0.64% |Max: 45.32\n",
      "2025-06-13 20:40:50,347 - train.py[line:235] - INFO: ACC |proto acc: 38.22+0.69% |gen acc: 37.53+0.64% |Max: 45.32\n",
      "2025-06-13 20:40:50,347 - train.py[line:235] - INFO: ACC |proto acc: 38.22+0.69% |gen acc: 37.53+0.64% |Max: 45.32\n",
      "100%|████████████████████████████████████████████████████████████████████████████████████████████████████████████████| 282/282 [01:16<00:00,  3.66it/s]\n",
      "2025-06-13 20:42:07,398 - train.py[line:162] - INFO: [Epoch 18/50] [recon loss: 0.007395] \n",
      "2025-06-13 20:42:07,398 - train.py[line:162] - INFO: [Epoch 18/50] [recon loss: 0.007395] \n",
      "2025-06-13 20:42:07,398 - train.py[line:162] - INFO: [Epoch 18/50] [recon loss: 0.007395] \n",
      "100%|████████████████████████████████████████████████████████████████████████████████████████████████████████████████| 600/600 [02:04<00:00,  4.84it/s]\n",
      "2025-06-13 20:44:11,534 - train.py[line:231] - INFO: epoch: 18 |origin acc: 38.99+0.77% |complete acc: 44.55+0.75% |gap: 6.23/5.56 |k: 0.24\n",
      "2025-06-13 20:44:11,534 - train.py[line:231] - INFO: epoch: 18 |origin acc: 38.99+0.77% |complete acc: 44.55+0.75% |gap: 6.23/5.56 |k: 0.24\n",
      "2025-06-13 20:44:11,534 - train.py[line:231] - INFO: epoch: 18 |origin acc: 38.99+0.77% |complete acc: 44.55+0.75% |gap: 6.23/5.56 |k: 0.24\n",
      "2025-06-13 20:44:11,541 - train.py[line:235] - INFO: ACC |proto acc: 38.99+0.77% |gen acc: 37.15+0.66% |Max: 45.32\n",
      "2025-06-13 20:44:11,541 - train.py[line:235] - INFO: ACC |proto acc: 38.99+0.77% |gen acc: 37.15+0.66% |Max: 45.32\n",
      "2025-06-13 20:44:11,541 - train.py[line:235] - INFO: ACC |proto acc: 38.99+0.77% |gen acc: 37.15+0.66% |Max: 45.32\n",
      "100%|████████████████████████████████████████████████████████████████████████████████████████████████████████████████| 282/282 [01:15<00:00,  3.74it/s]\n",
      "2025-06-13 20:45:26,988 - train.py[line:162] - INFO: [Epoch 19/50] [recon loss: 0.007353] \n",
      "2025-06-13 20:45:26,988 - train.py[line:162] - INFO: [Epoch 19/50] [recon loss: 0.007353] \n",
      "2025-06-13 20:45:26,988 - train.py[line:162] - INFO: [Epoch 19/50] [recon loss: 0.007353] \n",
      "100%|████████████████████████████████████████████████████████████████████████████████████████████████████████████████| 600/600 [02:30<00:00,  3.99it/s]\n",
      "2025-06-13 20:47:57,334 - train.py[line:231] - INFO: epoch: 19 |origin acc: 38.15+0.75% |complete acc: 44.40+0.78% |gap: 6.26/6.26 |k: 0.23\n",
      "2025-06-13 20:47:57,334 - train.py[line:231] - INFO: epoch: 19 |origin acc: 38.15+0.75% |complete acc: 44.40+0.78% |gap: 6.26/6.26 |k: 0.23\n",
      "2025-06-13 20:47:57,334 - train.py[line:231] - INFO: epoch: 19 |origin acc: 38.15+0.75% |complete acc: 44.40+0.78% |gap: 6.26/6.26 |k: 0.23\n",
      "2025-06-13 20:47:57,344 - train.py[line:235] - INFO: ACC |proto acc: 38.15+0.75% |gen acc: 37.60+0.65% |Max: 45.32\n",
      "2025-06-13 20:47:57,344 - train.py[line:235] - INFO: ACC |proto acc: 38.15+0.75% |gen acc: 37.60+0.65% |Max: 45.32\n",
      "2025-06-13 20:47:57,344 - train.py[line:235] - INFO: ACC |proto acc: 38.15+0.75% |gen acc: 37.60+0.65% |Max: 45.32\n",
      "100%|████████████████████████████████████████████████████████████████████████████████████████████████████████████████| 282/282 [01:53<00:00,  2.49it/s]\n",
      "2025-06-13 20:49:50,598 - train.py[line:162] - INFO: [Epoch 20/50] [recon loss: 0.007050] \n",
      "2025-06-13 20:49:50,598 - train.py[line:162] - INFO: [Epoch 20/50] [recon loss: 0.007050] \n",
      "2025-06-13 20:49:50,598 - train.py[line:162] - INFO: [Epoch 20/50] [recon loss: 0.007050] \n",
      "100%|████████████████████████████████████████████████████████████████████████████████████████████████████████████████| 600/600 [02:15<00:00,  4.41it/s]\n",
      "2025-06-13 20:52:06,611 - train.py[line:231] - INFO: epoch: 20 |origin acc: 38.77+0.74% |complete acc: 44.37+0.75% |gap: 6.26/5.61 |k: 0.27\n",
      "2025-06-13 20:52:06,611 - train.py[line:231] - INFO: epoch: 20 |origin acc: 38.77+0.74% |complete acc: 44.37+0.75% |gap: 6.26/5.61 |k: 0.27\n",
      "2025-06-13 20:52:06,611 - train.py[line:231] - INFO: epoch: 20 |origin acc: 38.77+0.74% |complete acc: 44.37+0.75% |gap: 6.26/5.61 |k: 0.27\n",
      "2025-06-13 20:52:06,624 - train.py[line:235] - INFO: ACC |proto acc: 38.77+0.74% |gen acc: 37.16+0.62% |Max: 45.32\n",
      "2025-06-13 20:52:06,624 - train.py[line:235] - INFO: ACC |proto acc: 38.77+0.74% |gen acc: 37.16+0.62% |Max: 45.32\n",
      "2025-06-13 20:52:06,624 - train.py[line:235] - INFO: ACC |proto acc: 38.77+0.74% |gen acc: 37.16+0.62% |Max: 45.32\n",
      "100%|████████████████████████████████████████████████████████████████████████████████████████████████████████████████| 282/282 [01:42<00:00,  2.76it/s]\n",
      "2025-06-13 20:53:49,024 - train.py[line:162] - INFO: [Epoch 21/50] [recon loss: 0.006120] \n",
      "2025-06-13 20:53:49,024 - train.py[line:162] - INFO: [Epoch 21/50] [recon loss: 0.006120] \n",
      "2025-06-13 20:53:49,024 - train.py[line:162] - INFO: [Epoch 21/50] [recon loss: 0.006120] \n",
      "100%|████████████████████████████████████████████████████████████████████████████████████████████████████████████████| 600/600 [02:26<00:00,  4.09it/s]\n",
      "2025-06-13 20:56:15,871 - train.py[line:231] - INFO: epoch: 21 |origin acc: 38.05+0.71% |complete acc: 44.21+0.74% |gap: 6.26/6.16 |k: 0.24\n",
      "2025-06-13 20:56:15,871 - train.py[line:231] - INFO: epoch: 21 |origin acc: 38.05+0.71% |complete acc: 44.21+0.74% |gap: 6.26/6.16 |k: 0.24\n",
      "2025-06-13 20:56:15,871 - train.py[line:231] - INFO: epoch: 21 |origin acc: 38.05+0.71% |complete acc: 44.21+0.74% |gap: 6.26/6.16 |k: 0.24\n",
      "2025-06-13 20:56:15,882 - train.py[line:235] - INFO: ACC |proto acc: 38.05+0.71% |gen acc: 36.99+0.64% |Max: 45.32\n",
      "2025-06-13 20:56:15,882 - train.py[line:235] - INFO: ACC |proto acc: 38.05+0.71% |gen acc: 36.99+0.64% |Max: 45.32\n",
      "2025-06-13 20:56:15,882 - train.py[line:235] - INFO: ACC |proto acc: 38.05+0.71% |gen acc: 36.99+0.64% |Max: 45.32\n",
      "100%|████████████████████████████████████████████████████████████████████████████████████████████████████████████████| 282/282 [01:43<00:00,  2.73it/s]\n",
      "2025-06-13 20:57:59,247 - train.py[line:162] - INFO: [Epoch 22/50] [recon loss: 0.006761] \n",
      "2025-06-13 20:57:59,247 - train.py[line:162] - INFO: [Epoch 22/50] [recon loss: 0.006761] \n",
      "2025-06-13 20:57:59,247 - train.py[line:162] - INFO: [Epoch 22/50] [recon loss: 0.006761] \n",
      "100%|████████████████████████████████████████████████████████████████████████████████████████████████████████████████| 600/600 [02:26<00:00,  4.11it/s]\n",
      "2025-06-13 21:00:25,484 - train.py[line:231] - INFO: epoch: 22 |origin acc: 38.24+0.68% |complete acc: 44.13+0.67% |gap: 6.26/5.89 |k: 0.22\n",
      "2025-06-13 21:00:25,484 - train.py[line:231] - INFO: epoch: 22 |origin acc: 38.24+0.68% |complete acc: 44.13+0.67% |gap: 6.26/5.89 |k: 0.22\n",
      "2025-06-13 21:00:25,484 - train.py[line:231] - INFO: epoch: 22 |origin acc: 38.24+0.68% |complete acc: 44.13+0.67% |gap: 6.26/5.89 |k: 0.22\n",
      "2025-06-13 21:00:25,494 - train.py[line:235] - INFO: ACC |proto acc: 38.24+0.68% |gen acc: 37.18+0.65% |Max: 45.32\n",
      "2025-06-13 21:00:25,494 - train.py[line:235] - INFO: ACC |proto acc: 38.24+0.68% |gen acc: 37.18+0.65% |Max: 45.32\n",
      "2025-06-13 21:00:25,494 - train.py[line:235] - INFO: ACC |proto acc: 38.24+0.68% |gen acc: 37.18+0.65% |Max: 45.32\n",
      "100%|████████████████████████████████████████████████████████████████████████████████████████████████████████████████| 282/282 [01:39<00:00,  2.84it/s]\n",
      "2025-06-13 21:02:04,828 - train.py[line:162] - INFO: [Epoch 23/50] [recon loss: 0.006493] \n",
      "2025-06-13 21:02:04,828 - train.py[line:162] - INFO: [Epoch 23/50] [recon loss: 0.006493] \n",
      "2025-06-13 21:02:04,828 - train.py[line:162] - INFO: [Epoch 23/50] [recon loss: 0.006493] \n",
      "100%|████████████████████████████████████████████████████████████████████████████████████████████████████████████████| 600/600 [02:08<00:00,  4.68it/s]\n",
      "2025-06-13 21:04:13,076 - train.py[line:231] - INFO: epoch: 23 |origin acc: 38.88+0.76% |complete acc: 45.17+0.76% |gap: 6.29/6.29 |k: 0.22\n",
      "2025-06-13 21:04:13,076 - train.py[line:231] - INFO: epoch: 23 |origin acc: 38.88+0.76% |complete acc: 45.17+0.76% |gap: 6.29/6.29 |k: 0.22\n",
      "2025-06-13 21:04:13,076 - train.py[line:231] - INFO: epoch: 23 |origin acc: 38.88+0.76% |complete acc: 45.17+0.76% |gap: 6.29/6.29 |k: 0.22\n",
      "2025-06-13 21:04:13,088 - train.py[line:235] - INFO: ACC |proto acc: 38.88+0.76% |gen acc: 37.09+0.68% |Max: 45.32\n",
      "2025-06-13 21:04:13,088 - train.py[line:235] - INFO: ACC |proto acc: 38.88+0.76% |gen acc: 37.09+0.68% |Max: 45.32\n",
      "2025-06-13 21:04:13,088 - train.py[line:235] - INFO: ACC |proto acc: 38.88+0.76% |gen acc: 37.09+0.68% |Max: 45.32\n",
      "100%|████████████████████████████████████████████████████████████████████████████████████████████████████████████████| 282/282 [01:49<00:00,  2.59it/s]\n",
      "2025-06-13 21:06:02,199 - train.py[line:162] - INFO: [Epoch 24/50] [recon loss: 0.006533] \n",
      "2025-06-13 21:06:02,199 - train.py[line:162] - INFO: [Epoch 24/50] [recon loss: 0.006533] \n",
      "2025-06-13 21:06:02,199 - train.py[line:162] - INFO: [Epoch 24/50] [recon loss: 0.006533] \n",
      "100%|████████████████████████████████████████████████████████████████████████████████████████████████████████████████| 600/600 [02:06<00:00,  4.73it/s]\n",
      "2025-06-13 21:08:09,033 - train.py[line:231] - INFO: epoch: 24 |origin acc: 39.22+0.70% |complete acc: 44.98+0.72% |gap: 6.29/5.76 |k: 0.22\n",
      "2025-06-13 21:08:09,033 - train.py[line:231] - INFO: epoch: 24 |origin acc: 39.22+0.70% |complete acc: 44.98+0.72% |gap: 6.29/5.76 |k: 0.22\n",
      "2025-06-13 21:08:09,033 - train.py[line:231] - INFO: epoch: 24 |origin acc: 39.22+0.70% |complete acc: 44.98+0.72% |gap: 6.29/5.76 |k: 0.22\n",
      "2025-06-13 21:08:09,041 - train.py[line:235] - INFO: ACC |proto acc: 39.22+0.70% |gen acc: 37.10+0.66% |Max: 45.32\n",
      "2025-06-13 21:08:09,041 - train.py[line:235] - INFO: ACC |proto acc: 39.22+0.70% |gen acc: 37.10+0.66% |Max: 45.32\n",
      "2025-06-13 21:08:09,041 - train.py[line:235] - INFO: ACC |proto acc: 39.22+0.70% |gen acc: 37.10+0.66% |Max: 45.32\n",
      "100%|████████████████████████████████████████████████████████████████████████████████████████████████████████████████| 282/282 [01:42<00:00,  2.74it/s]\n",
      "2025-06-13 21:09:52,079 - train.py[line:162] - INFO: [Epoch 25/50] [recon loss: 0.006037] \n",
      "2025-06-13 21:09:52,079 - train.py[line:162] - INFO: [Epoch 25/50] [recon loss: 0.006037] \n",
      "2025-06-13 21:09:52,079 - train.py[line:162] - INFO: [Epoch 25/50] [recon loss: 0.006037] \n",
      "100%|████████████████████████████████████████████████████████████████████████████████████████████████████████████████| 600/600 [02:16<00:00,  4.38it/s]\n",
      "2025-06-13 21:12:09,027 - train.py[line:231] - INFO: epoch: 25 |origin acc: 38.92+0.77% |complete acc: 44.70+0.72% |gap: 6.29/5.77 |k: 0.2\n",
      "2025-06-13 21:12:09,027 - train.py[line:231] - INFO: epoch: 25 |origin acc: 38.92+0.77% |complete acc: 44.70+0.72% |gap: 6.29/5.77 |k: 0.2\n",
      "2025-06-13 21:12:09,027 - train.py[line:231] - INFO: epoch: 25 |origin acc: 38.92+0.77% |complete acc: 44.70+0.72% |gap: 6.29/5.77 |k: 0.2\n",
      "2025-06-13 21:12:09,036 - train.py[line:235] - INFO: ACC |proto acc: 38.92+0.77% |gen acc: 37.54+0.67% |Max: 45.32\n",
      "2025-06-13 21:12:09,036 - train.py[line:235] - INFO: ACC |proto acc: 38.92+0.77% |gen acc: 37.54+0.67% |Max: 45.32\n",
      "2025-06-13 21:12:09,036 - train.py[line:235] - INFO: ACC |proto acc: 38.92+0.77% |gen acc: 37.54+0.67% |Max: 45.32\n",
      "100%|████████████████████████████████████████████████████████████████████████████████████████████████████████████████| 282/282 [01:51<00:00,  2.52it/s]\n",
      "2025-06-13 21:14:00,899 - train.py[line:162] - INFO: [Epoch 26/50] [recon loss: 0.006766] \n",
      "2025-06-13 21:14:00,899 - train.py[line:162] - INFO: [Epoch 26/50] [recon loss: 0.006766] \n",
      "2025-06-13 21:14:00,899 - train.py[line:162] - INFO: [Epoch 26/50] [recon loss: 0.006766] \n",
      "100%|████████████████████████████████████████████████████████████████████████████████████████████████████████████████| 600/600 [02:04<00:00,  4.82it/s]\n",
      "2025-06-13 21:16:05,470 - train.py[line:231] - INFO: epoch: 26 |origin acc: 38.63+0.70% |complete acc: 44.81+0.67% |gap: 6.29/6.18 |k: 0.21\n",
      "2025-06-13 21:16:05,470 - train.py[line:231] - INFO: epoch: 26 |origin acc: 38.63+0.70% |complete acc: 44.81+0.67% |gap: 6.29/6.18 |k: 0.21\n",
      "2025-06-13 21:16:05,470 - train.py[line:231] - INFO: epoch: 26 |origin acc: 38.63+0.70% |complete acc: 44.81+0.67% |gap: 6.29/6.18 |k: 0.21\n",
      "2025-06-13 21:16:05,478 - train.py[line:235] - INFO: ACC |proto acc: 38.63+0.70% |gen acc: 37.62+0.65% |Max: 45.32\n",
      "2025-06-13 21:16:05,478 - train.py[line:235] - INFO: ACC |proto acc: 38.63+0.70% |gen acc: 37.62+0.65% |Max: 45.32\n",
      "2025-06-13 21:16:05,478 - train.py[line:235] - INFO: ACC |proto acc: 38.63+0.70% |gen acc: 37.62+0.65% |Max: 45.32\n",
      "100%|████████████████████████████████████████████████████████████████████████████████████████████████████████████████| 282/282 [01:25<00:00,  3.29it/s]\n",
      "2025-06-13 21:17:31,266 - train.py[line:162] - INFO: [Epoch 27/50] [recon loss: 0.005945] \n",
      "2025-06-13 21:17:31,266 - train.py[line:162] - INFO: [Epoch 27/50] [recon loss: 0.005945] \n",
      "2025-06-13 21:17:31,266 - train.py[line:162] - INFO: [Epoch 27/50] [recon loss: 0.005945] \n",
      " 55%|█████████████████████████████████████████████████████████████▊                                                  | 331/600 [01:18<00:49,  5.49it/s]"
     ]
    }
   ],
   "source": [
    "model = train(args)"
   ]
  },
  {
   "cell_type": "code",
   "execution_count": 4,
   "id": "6fabfd60-da22-4ce2-8e85-b07575971095",
   "metadata": {},
   "outputs": [
    {
     "name": "stderr",
     "output_type": "stream",
     "text": [
      "2025-06-13 22:39:07,963 - test.py[line:28] - INFO: {}\n",
      "2025-06-13 22:39:08,857 - test.py[line:89] - INFO: best epoch: 9 45.322223\n",
      "2025-06-13 22:39:08,873 - test.py[line:90] - INFO: best k: 0.200000\n"
     ]
    },
    {
     "name": "stdout",
     "output_type": "stream",
     "text": [
      "96\n"
     ]
    },
    {
     "name": "stderr",
     "output_type": "stream",
     "text": [
      "100%|████████████████████████████████████████████████████████████████████████████████████████████████████████████████| 600/600 [00:48<00:00, 12.31it/s]\n",
      "2025-06-13 22:39:58,343 - test.py[line:130] - INFO: max |k:              0.2 |mix acc: 51.32+0.74% |gap: 8.36\n",
      "2025-06-13 22:39:58,344 - test.py[line:132] - INFO: ACC:|proto acc: 42.96+0.74% |gen acc: 47.24+0.76%\n"
     ]
    }
   ],
   "source": [
    "test(args)"
   ]
  },
  {
   "cell_type": "code",
   "execution_count": 6,
   "id": "2883c726-e6ee-4b3f-b4e9-ae8c5f27ae97",
   "metadata": {},
   "outputs": [
    {
     "name": "stdout",
     "output_type": "stream",
     "text": [
      "2.2.2\n"
     ]
    }
   ],
   "source": [
    "import torch\n",
    "print(torch.__version__)"
   ]
  },
  {
   "cell_type": "code",
   "execution_count": null,
   "id": "fe917a2d-9480-4d17-a088-6fb611e459ee",
   "metadata": {},
   "outputs": [],
   "source": [
    "## DeepSeek"
   ]
  },
  {
   "cell_type": "code",
   "execution_count": null,
   "id": "31dec718-7410-4604-8542-ede73fd721d9",
   "metadata": {},
   "outputs": [],
   "source": [
    "config = {\n",
    "    # General\n",
    "    \"dataset\": 'FC100', #['MiniImageNet', 'TieredImageNet', 'FC100', 'CIFAR-FS']\n",
    "    \"backbone\": 'resnet', #['resnet', 'swin']\n",
    "    \"center\": 'mean', #['mean', 'cluster']\n",
    "    \"gpu\": 0,\n",
    "    \"project\": \"SemFew_recreate\",\n",
    "    \n",
    "    # Databases\n",
    "    \"path_to_checkpoints\": \"/Users/jdieguez/Documents/master/TFM/code/checkpoints\",\n",
    "    \"path_to_cifarfs\": \"/Users/jdieguez/Documents/master/TFM/code/cifar-fs/\",\n",
    "    \"path_to_fc100\": '/Users/jdieguez/Documents/master/TFM/code/FC100/',\n",
    "    \"path_to_miniimagenet\": '/Users/jdieguez/Documents/master/TFM/code/miniimagenet',\n",
    "    \"path_to_tieredimagenet\": '/path/to/your/tiredimagenet',\n",
    "\n",
    "    # Semantics\n",
    "    # Semantics\n",
    "    \"llm\": \"default\",\n",
    "    \"semantics_from\": \"file\",\n",
    "    \"file\": \"deepseek_deepseek-r1:free_descriptions.json\",\n",
    "    \"key\": \"None\",\n",
    "    \"images_per_class\": 5,\n",
    "    \"verbose\": True,\n",
    "    \n",
    "    # TRAIN\n",
    "    \"max_epoch\": 5,\n",
    "    \"test_batch\": 600,\n",
    "    \"shot\": 1,\n",
    "    \"query\": 15,\n",
    "    \"test_way\": 5,\n",
    "    \"feat_size\": 640,\n",
    "    \"semantic_size\": 512,\n",
    "    \"batch_size\": 128,\n",
    "    \"num_workers\": 8,\n",
    "    \"drop\": 0.0,\n",
    "    \"lr\": 1e-4,\n",
    "    \"step_size\": 30,\n",
    "    \"mode\": 'clip', #['clip', 'bert']\n",
    "    \"text_type\":'gpt', #['gpt', 'name', 'definition'])\n",
    "\n",
    "    # TEST\n",
    "    'test-batch': 600,\n",
    "    'seed': 13\n",
    "}\n",
    "\n",
    "# for wandb\n",
    "config[\"run_name\"] = f\"{config['dataset']}_{config['llm']}_{config['semantics_from']}_{config['backbone']}\"\n",
    "\n",
    "class dotdict(dict):\n",
    "    \"\"\"dot.notation access to dictionary attributes\"\"\"\n",
    "    __getattr__ = dict.get\n",
    "    __setattr__ = dict.__setitem__\n",
    "    __delattr__ = dict.__delitem__\n",
    "    \n",
    "args = dotdict(config)\n",
    "if args.backbone == 'resnet':\n",
    "    args.model_path = f\"{args.path_to_checkpoints}/ResNet-{args.dataset}.pth\"\n",
    "elif args.backbone == 'swin':\n",
    "    args.model_path = f\"{args.path_to_checkpoints}/Swin-Tiny-{args.dataset}.pth\"\n",
    "\n",
    "model = train(args)\n",
    "test(args)"
   ]
  },
  {
   "cell_type": "code",
   "execution_count": null,
   "id": "499e344f-90e2-43a3-88de-e3489551614f",
   "metadata": {},
   "outputs": [],
   "source": []
  }
 ],
 "metadata": {
  "kernelspec": {
   "display_name": "Python 3 (ipykernel)",
   "language": "python",
   "name": "python3"
  },
  "language_info": {
   "codemirror_mode": {
    "name": "ipython",
    "version": 3
   },
   "file_extension": ".py",
   "mimetype": "text/x-python",
   "name": "python",
   "nbconvert_exporter": "python",
   "pygments_lexer": "ipython3",
   "version": "3.9.21"
  }
 },
 "nbformat": 4,
 "nbformat_minor": 5
}
