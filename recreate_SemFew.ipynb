{
 "cells": [
  {
   "cell_type": "markdown",
   "id": "d9368cef",
   "metadata": {},
   "source": [
    "# TODO:\n",
    "\n",
    "- Move código a notebook\n",
    "- poner paths accessibles desde fuera\n",
    "- hacer un config con las configuraciones\n",
    "- weights and biases\n",
    "- mover a kaggle\n",
    "- limpiar warnings"
   ]
  },
  {
   "cell_type": "code",
   "execution_count": 27,
   "id": "3da099c8",
   "metadata": {},
   "outputs": [],
   "source": [
    "import os\n",
    "import sys\n",
    "import argparse\n",
    "\n",
    "if not \"Model\" in os.getcwd():\n",
    "    os.chdir('./Model')\n",
    "\n",
    "from compute_center import main as compute_center"
   ]
  },
  {
   "cell_type": "code",
   "execution_count": null,
   "id": "7f7158d8",
   "metadata": {},
   "outputs": [],
   "source": [
    "config = {\n",
    "    # General\n",
    "    \"dataset\": 'CIFAR-FS', #['MiniImageNet', 'TieredImageNet', 'FC100', 'CIFAR-FS']\n",
    "    \"backbone\": 'resnet', #['resnet', 'swin']\n",
    "    \"center\": 'mean', #['mean', 'cluster']\n",
    "    \"gpu\": 0,\n",
    "    \n",
    "    # Databases\n",
    "    \"path_to_checkpoints\": \"/Users/jdieguez/Documents/master/TFM/code/checkpoints\",\n",
    "    \"path_to_cifarfs\": \"/Users/jdieguez/Documents/master/TFM/code/cifar-fs\",\n",
    "    \"path_to_fc100\": '/path/to/your/fc100/',\n",
    "    \"path_to_miniimagenet\": '/path/to/your/miniimagenet',\n",
    "    \"path_to_tieredimagenet\": '/path/to/your/tiredimagenet',\n",
    "    \n",
    "    # TRAIN\n",
    "    \"max-epoch\": 50,\n",
    "    \"test-batch\": 600,\n",
    "    \"shot\": 1,\n",
    "    \"query\": 15,\n",
    "    \"test-way\": 5,\n",
    "    \"feat-size\": 640,\n",
    "    \"semantic-size\": 512,\n",
    "    \"batch-size\": 128,\n",
    "    \"num-workers\": 8,\n",
    "    \"drop\": 0.0,\n",
    "    \"lr\": 1e-4,\n",
    "    \"step-size\": 30,\n",
    "    \"mode\": 'clip', #['clip', 'bert']\n",
    "    \"text_type\":'gpt', #['gpt', 'name', 'definition'])\n",
    "}"
   ]
  },
  {
   "cell_type": "code",
   "execution_count": 28,
   "id": "a6a174bc",
   "metadata": {},
   "outputs": [],
   "source": [
    "class dotdict(dict):\n",
    "    \"\"\"dot.notation access to dictionary attributes\"\"\"\n",
    "    __getattr__ = dict.get\n",
    "    __setattr__ = dict.__setitem__\n",
    "    __delattr__ = dict.__delitem__\n",
    "    \n",
    "args = dotdict(config)\n",
    "if args.backbone == 'resnet':\n",
    "    args.model_path = f\"{args.path_to_checkpoints}/ResNet-{args.dataset}.pth\"\n",
    "elif args.backbone == 'swin':\n",
    "    args.model_path = f\"{args.path_to_checkpoints}/Swin-Tiny-{args.dataset}.pth\""
   ]
  },
  {
   "cell_type": "code",
   "execution_count": 29,
   "id": "3ceffd8f",
   "metadata": {},
   "outputs": [
    {
     "data": {
      "text/plain": [
       "'/Users/jdieguez/Documents/master/TFM/code/TFM-SemFew/Model/model'"
      ]
     },
     "execution_count": 29,
     "metadata": {},
     "output_type": "execute_result"
    }
   ],
   "source": [
    "os.getcwd()"
   ]
  },
  {
   "cell_type": "code",
   "execution_count": 30,
   "id": "501b4e20",
   "metadata": {},
   "outputs": [
    {
     "name": "stdout",
     "output_type": "stream",
     "text": [
      "Using device: mps\n",
      "96\n"
     ]
    },
    {
     "ename": "NameError",
     "evalue": "name 'fs' is not defined",
     "output_type": "error",
     "traceback": [
      "\u001b[0;31m---------------------------------------------------------------------------\u001b[0m",
      "\u001b[0;31mNameError\u001b[0m                                 Traceback (most recent call last)",
      "\u001b[0;32m<ipython-input-30-eeb828f61835>\u001b[0m in \u001b[0;36m<cell line: 1>\u001b[0;34m()\u001b[0m\n\u001b[0;32m----> 1\u001b[0;31m \u001b[0mcompute_center\u001b[0m\u001b[0;34m(\u001b[0m\u001b[0margs\u001b[0m\u001b[0;34m)\u001b[0m\u001b[0;34m\u001b[0m\u001b[0;34m\u001b[0m\u001b[0m\n\u001b[0m",
      "\u001b[0;32m~/Documents/master/TFM/code/TFM-SemFew/Model/compute_center.py\u001b[0m in \u001b[0;36mmain\u001b[0;34m(args)\u001b[0m\n\u001b[1;32m     49\u001b[0m         \u001b[0mtrainset\u001b[0m \u001b[0;34m=\u001b[0m \u001b[0mImageFolder\u001b[0m\u001b[0;34m(\u001b[0m\u001b[0;34m'/path/to/your/fc100/train'\u001b[0m\u001b[0;34m,\u001b[0m \u001b[0mtransform\u001b[0m\u001b[0;34m=\u001b[0m\u001b[0mtransform_val_cifar\u001b[0m \u001b[0;32mif\u001b[0m \u001b[0margs\u001b[0m\u001b[0;34m.\u001b[0m\u001b[0mbackbone\u001b[0m \u001b[0;34m==\u001b[0m \u001b[0;34m'resnet'\u001b[0m \u001b[0;32melse\u001b[0m \u001b[0mtransform_val_224_cifar\u001b[0m\u001b[0;34m)\u001b[0m\u001b[0;34m\u001b[0m\u001b[0;34m\u001b[0m\u001b[0m\n\u001b[1;32m     50\u001b[0m     \u001b[0;32melif\u001b[0m \u001b[0margs\u001b[0m\u001b[0;34m.\u001b[0m\u001b[0mdataset\u001b[0m \u001b[0;34m==\u001b[0m \u001b[0;34m'CIFAR-FS'\u001b[0m\u001b[0;34m:\u001b[0m\u001b[0;34m\u001b[0m\u001b[0;34m\u001b[0m\u001b[0m\n\u001b[0;32m---> 51\u001b[0;31m         \u001b[0mtrainset\u001b[0m \u001b[0;34m=\u001b[0m \u001b[0mImageFolder\u001b[0m\u001b[0;34m(\u001b[0m\u001b[0margs\u001b[0m\u001b[0;34m.\u001b[0m\u001b[0mpath_to_cifarfs\u001b[0m \u001b[0;34m+\u001b[0m \u001b[0;34m'/train'\u001b[0m\u001b[0;34m,\u001b[0m \u001b[0mtransform\u001b[0m\u001b[0;34m=\u001b[0m\u001b[0mtransform_val_cifar\u001b[0m \u001b[0;32mif\u001b[0m \u001b[0margs\u001b[0m\u001b[0;34m.\u001b[0m\u001b[0mbackbone\u001b[0m \u001b[0;34m==\u001b[0m \u001b[0;34m'resnet'\u001b[0m \u001b[0;32melse\u001b[0m \u001b[0mtransform_val_224_cifar\u001b[0m\u001b[0;34m)\u001b[0m\u001b[0;34m\u001b[0m\u001b[0;34m\u001b[0m\u001b[0m\n\u001b[0m\u001b[1;32m     52\u001b[0m     \u001b[0;32melif\u001b[0m \u001b[0margs\u001b[0m\u001b[0;34m.\u001b[0m\u001b[0mdataset\u001b[0m \u001b[0;34m==\u001b[0m \u001b[0;34m'TieredImageNet'\u001b[0m\u001b[0;34m:\u001b[0m\u001b[0;34m\u001b[0m\u001b[0;34m\u001b[0m\u001b[0m\n\u001b[1;32m     53\u001b[0m         \u001b[0mtrainset\u001b[0m \u001b[0;34m=\u001b[0m \u001b[0mtieredImageNet\u001b[0m\u001b[0;34m(\u001b[0m\u001b[0msetname\u001b[0m\u001b[0;34m=\u001b[0m\u001b[0;34m'train'\u001b[0m\u001b[0;34m,\u001b[0m \u001b[0maugment\u001b[0m\u001b[0;34m=\u001b[0m\u001b[0;32mFalse\u001b[0m\u001b[0;34m)\u001b[0m\u001b[0;34m\u001b[0m\u001b[0;34m\u001b[0m\u001b[0m\n",
      "\u001b[0;31mNameError\u001b[0m: name 'fs' is not defined"
     ]
    }
   ],
   "source": [
    "compute_center(args)"
   ]
  },
  {
   "cell_type": "code",
   "execution_count": null,
   "id": "69a0351e",
   "metadata": {},
   "outputs": [],
   "source": []
  }
 ],
 "metadata": {
  "kernelspec": {
   "display_name": "Python [conda env:tfm] *",
   "language": "python",
   "name": "conda-env-tfm-py"
  },
  "language_info": {
   "codemirror_mode": {
    "name": "ipython",
    "version": 3
   },
   "file_extension": ".py",
   "mimetype": "text/x-python",
   "name": "python",
   "nbconvert_exporter": "python",
   "pygments_lexer": "ipython3",
   "version": "3.8.20"
  },
  "varInspector": {
   "cols": {
    "lenName": 16,
    "lenType": 16,
    "lenVar": 40
   },
   "kernels_config": {
    "python": {
     "delete_cmd_postfix": "",
     "delete_cmd_prefix": "del ",
     "library": "var_list.py",
     "varRefreshCmd": "print(var_dic_list())"
    },
    "r": {
     "delete_cmd_postfix": ") ",
     "delete_cmd_prefix": "rm(",
     "library": "var_list.r",
     "varRefreshCmd": "cat(var_dic_list()) "
    }
   },
   "types_to_exclude": [
    "module",
    "function",
    "builtin_function_or_method",
    "instance",
    "_Feature"
   ],
   "window_display": false
  }
 },
 "nbformat": 4,
 "nbformat_minor": 5
}
