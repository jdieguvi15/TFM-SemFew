{
 "cells": [
  {
   "cell_type": "markdown",
   "id": "d9368cef",
   "metadata": {},
   "source": [
    "# TODO:\n",
    "\n",
    "- Move código a notebook\n",
    "- poner paths accessibles desde fuera\n",
    "- hacer un config con las configuraciones\n",
    "- weights and biases\n",
    "- mover a kaggle\n",
    "- limpiar warnings"
   ]
  },
  {
   "cell_type": "code",
   "execution_count": 1,
   "id": "3da099c8",
   "metadata": {},
   "outputs": [
    {
     "name": "stderr",
     "output_type": "stream",
     "text": [
      "/Users/jdieguez/anaconda3/envs/tfm/lib/python3.8/site-packages/tqdm/auto.py:21: TqdmWarning: IProgress not found. Please update jupyter and ipywidgets. See https://ipywidgets.readthedocs.io/en/stable/user_install.html\n",
      "  from .autonotebook import tqdm as notebook_tqdm\n",
      "/Users/jdieguez/anaconda3/envs/tfm/lib/python3.8/site-packages/timm/models/layers/__init__.py:48: FutureWarning: Importing from timm.models.layers is deprecated, please import via timm.layers\n",
      "  warnings.warn(f\"Importing from {__name__} is deprecated, please import via timm.layers\", FutureWarning)\n",
      "/Users/jdieguez/anaconda3/envs/tfm/lib/python3.8/site-packages/timm/models/registry.py:4: FutureWarning: Importing from timm.models.registry is deprecated, please import via timm.models\n",
      "  warnings.warn(f\"Importing from {__name__} is deprecated, please import via timm.models\", FutureWarning)\n"
     ]
    }
   ],
   "source": [
    "import os\n",
    "import sys\n",
    "import argparse\n",
    "\n",
    "if not \"Model\" in os.getcwd():\n",
    "    os.chdir('./Model')\n",
    "\n",
    "from compute_center import main as compute_center"
   ]
  },
  {
   "cell_type": "code",
   "execution_count": 2,
   "id": "7f7158d8",
   "metadata": {},
   "outputs": [],
   "source": [
    "config = {\n",
    "    # General\n",
    "    \"dataset\": 'CIFAR-FS', #['MiniImageNet', 'TieredImageNet', 'FC100', 'CIFAR-FS']\n",
    "    \"backbone\": 'resnet', #['resnet', 'swin']\n",
    "    \"center\": 'mean', #['mean', 'cluster']\n",
    "    \"gpu\": 0,\n",
    "    \n",
    "    # Databases\n",
    "    \"path_to_checkpoints\": \"/Users/jdieguez/Documents/master/TFM/code/checkpoints\",\n",
    "    \"path_to_cifarfs\": \"/Users/jdieguez/Documents/master/TFM/code/cifar-fs\",\n",
    "    \"path_to_fc100\": '/path/to/your/fc100/',\n",
    "    \"path_to_miniimagenet\": '/path/to/your/miniimagenet',\n",
    "    \"path_to_tieredimagenet\": '/path/to/your/tiredimagenet',\n",
    "    \n",
    "    # TRAIN\n",
    "    \"max-epoch\": 50,\n",
    "    \"test-batch\": 600,\n",
    "    \"shot\": 1,\n",
    "    \"query\": 15,\n",
    "    \"test-way\": 5,\n",
    "    \"feat-size\": 640,\n",
    "    \"semantic-size\": 512,\n",
    "    \"batch-size\": 128,\n",
    "    \"num-workers\": 8,\n",
    "    \"drop\": 0.0,\n",
    "    \"lr\": 1e-4,\n",
    "    \"step-size\": 30,\n",
    "    \"mode\": 'clip', #['clip', 'bert']\n",
    "    \"text_type\":'gpt', #['gpt', 'name', 'definition'])\n",
    "}"
   ]
  },
  {
   "cell_type": "code",
   "execution_count": 3,
   "id": "a6a174bc",
   "metadata": {},
   "outputs": [],
   "source": [
    "class dotdict(dict):\n",
    "    \"\"\"dot.notation access to dictionary attributes\"\"\"\n",
    "    __getattr__ = dict.get\n",
    "    __setattr__ = dict.__setitem__\n",
    "    __delattr__ = dict.__delitem__\n",
    "    \n",
    "args = dotdict(config)\n",
    "if args.backbone == 'resnet':\n",
    "    args.model_path = f\"{args.path_to_checkpoints}/ResNet-{args.dataset}.pth\"\n",
    "elif args.backbone == 'swin':\n",
    "    args.model_path = f\"{args.path_to_checkpoints}/Swin-Tiny-{args.dataset}.pth\""
   ]
  },
  {
   "cell_type": "code",
   "execution_count": 4,
   "id": "3ceffd8f",
   "metadata": {},
   "outputs": [
    {
     "data": {
      "text/plain": [
       "'/Users/jdieguez/Documents/master/TFM/code/TFM-SemFew/Model'"
      ]
     },
     "execution_count": 4,
     "metadata": {},
     "output_type": "execute_result"
    }
   ],
   "source": [
    "os.getcwd()"
   ]
  },
  {
   "cell_type": "code",
   "execution_count": 5,
   "id": "501b4e20",
   "metadata": {},
   "outputs": [
    {
     "name": "stdout",
     "output_type": "stream",
     "text": [
      "Using device: mps\n",
      "96\n"
     ]
    },
    {
     "name": "stderr",
     "output_type": "stream",
     "text": [
      "100%|██████████| 301/301 [00:51<00:00,  5.85it/s]\n"
     ]
    },
    {
     "name": "stdout",
     "output_type": "stream",
     "text": [
      "Finished train\n"
     ]
    },
    {
     "name": "stderr",
     "output_type": "stream",
     "text": [
      "/Users/jdieguez/anaconda3/envs/tfm/lib/python3.8/site-packages/sklearn/cluster/_kmeans.py:1416: FutureWarning: The default value of `n_init` will change from 10 to 'auto' in 1.4. Set the value of `n_init` explicitly to suppress the warning\n",
      "  super()._check_params_vs_input(X, default_n_init=10)\n"
     ]
    }
   ],
   "source": [
    "compute_center(args)"
   ]
  },
  {
   "cell_type": "code",
   "execution_count": null,
   "id": "69a0351e",
   "metadata": {},
   "outputs": [],
   "source": []
  }
 ],
 "metadata": {
  "kernelspec": {
   "display_name": "Python [conda env:tfm] *",
   "language": "python",
   "name": "conda-env-tfm-py"
  },
  "language_info": {
   "codemirror_mode": {
    "name": "ipython",
    "version": 3
   },
   "file_extension": ".py",
   "mimetype": "text/x-python",
   "name": "python",
   "nbconvert_exporter": "python",
   "pygments_lexer": "ipython3",
   "version": "3.8.20"
  },
  "varInspector": {
   "cols": {
    "lenName": 16,
    "lenType": 16,
    "lenVar": 40
   },
   "kernels_config": {
    "python": {
     "delete_cmd_postfix": "",
     "delete_cmd_prefix": "del ",
     "library": "var_list.py",
     "varRefreshCmd": "print(var_dic_list())"
    },
    "r": {
     "delete_cmd_postfix": ") ",
     "delete_cmd_prefix": "rm(",
     "library": "var_list.r",
     "varRefreshCmd": "cat(var_dic_list()) "
    }
   },
   "types_to_exclude": [
    "module",
    "function",
    "builtin_function_or_method",
    "instance",
    "_Feature"
   ],
   "window_display": false
  }
 },
 "nbformat": 4,
 "nbformat_minor": 5
}
